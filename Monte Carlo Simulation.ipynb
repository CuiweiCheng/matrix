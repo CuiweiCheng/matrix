{
 "cells": [
  {
   "cell_type": "code",
   "execution_count": null,
   "metadata": {},
   "outputs": [],
   "source": [
    "# predict stock price using Monte Carlo Simulation\n",
    "# It is a method that allows for the generation of future potential outcomes of a given event\n",
    "\n",
    "# To be continued\n"
   ]
  },
  {
   "cell_type": "code",
   "execution_count": null,
   "metadata": {},
   "outputs": [],
   "source": [
    "import pandas as pd\n",
    "import numpy as np\n",
    "import math\n",
    "import datatime\n",
    "from matplotlib import style\n"
   ]
  },
  {
   "cell_type": "code",
   "execution_count": null,
   "metadata": {},
   "outputs": [],
   "source": [
    "class Monte_Carlo:\n",
    "    def __init__(self):\n",
    "        \n",
    "    def BrownianMotion(self):\n",
    "        # volatitlity can be changed\n",
    "        # stochatistic volatitlity model\n",
    "        \n",
    "        returns = self.returns\n",
    "        prices = self.prices\n",
    "        \n",
    "        \n",
    "    def get_return(self):\n",
    "        pass\n",
    "    def get_voli(self):\n",
    "        pass\n",
    "    def get_stock(self, symbol):\n",
    "        #\n",
    "        #\n",
    "        pass\n",
    "        prices = web.DataReader(symbol, 'google', start, end)['Close']\n",
    "        returns = prices.pct_chagne()\n",
    "    \n",
    "    '''\n",
    "    analysis of stock\n",
    "    1. line_graph \n",
    "    2. VaR \n",
    "    3. key statistics\n",
    "    \n",
    "    '''\n",
    "    \n",
    "        "
   ]
  }
 ],
 "metadata": {
  "kernelspec": {
   "display_name": "Python 3",
   "language": "python",
   "name": "python3"
  },
  "language_info": {
   "codemirror_mode": {
    "name": "ipython",
    "version": 3
   },
   "file_extension": ".py",
   "mimetype": "text/x-python",
   "name": "python",
   "nbconvert_exporter": "python",
   "pygments_lexer": "ipython3",
   "version": "3.6.5"
  }
 },
 "nbformat": 4,
 "nbformat_minor": 2
}
