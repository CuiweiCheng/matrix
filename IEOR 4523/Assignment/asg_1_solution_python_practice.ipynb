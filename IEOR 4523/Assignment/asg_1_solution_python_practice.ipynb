{
 "cells": [
  {
   "cell_type": "markdown",
   "metadata": {},
   "source": [
    "<h1>Problem 1: Part 1</h1>\n",
    "\n",
    "if you have questions on this assignment, please send me (Achille Mascia) an email achille.mascia@columbia.edu or come see me during my office hours."
   ]
  },
  {
   "cell_type": "code",
   "execution_count": 14,
   "metadata": {
    "collapsed": true
   },
   "outputs": [],
   "source": [
    "def preceding(char):\n",
    "    coded_char = '' #Your code will figure out what the value of coded_char should be\n",
    "    \n",
    "    if char == 'a':\n",
    "        coded_char = 'z'\n",
    "    elif char == 'A':\n",
    "        coded_char = 'Z'\n",
    "    elif (char >= 'B' and char <= 'Z') or (char >= 'b' and char <= 'z'):\n",
    "        coded_char = chr(ord(char)-1)\n",
    "    else:\n",
    "        coded_char = char\n",
    "        \n",
    "    return coded_char"
   ]
  },
  {
   "cell_type": "code",
   "execution_count": 15,
   "metadata": {},
   "outputs": [
    {
     "name": "stdout",
     "output_type": "stream",
     "text": [
      "z\n",
      "a\n",
      "!\n"
     ]
    }
   ],
   "source": [
    "print(preceding('a')) #Should print z\n",
    "print(preceding('b')) #Should print a\n",
    "print(preceding('!')) #Should print !"
   ]
  },
  {
   "cell_type": "markdown",
   "metadata": {},
   "source": [
    "<h1>Problem 1: Part 2</h1>\n"
   ]
  },
  {
   "cell_type": "code",
   "execution_count": 16,
   "metadata": {
    "collapsed": true
   },
   "outputs": [],
   "source": [
    "def succeeding(char):\n",
    "    coded_char = '' \n",
    "    \n",
    "    if char == 'z':\n",
    "        coded_char = 'a'\n",
    "    elif char == 'Z':\n",
    "        coded_char = 'A'\n",
    "    elif (char >= 'A' and char <= 'Y') or (char >= 'a' and char <= 'y'):\n",
    "        coded_char = chr(ord(char)+1)\n",
    "    else:\n",
    "        coded_char = char\n",
    "    \n",
    "    return coded_char    "
   ]
  },
  {
   "cell_type": "code",
   "execution_count": 17,
   "metadata": {},
   "outputs": [
    {
     "name": "stdout",
     "output_type": "stream",
     "text": [
      "a\n",
      "c\n",
      "!\n"
     ]
    }
   ],
   "source": [
    "print(succeeding('z')) #Should print a\n",
    "print(succeeding('b')) #Should print c\n",
    "print(succeeding('!')) #Should print !"
   ]
  },
  {
   "cell_type": "markdown",
   "metadata": {},
   "source": [
    "<h1>Problem 1: Part 3</h1>"
   ]
  },
  {
   "cell_type": "code",
   "execution_count": 20,
   "metadata": {
    "collapsed": true
   },
   "outputs": [],
   "source": [
    "def message_coder(message_string,function):\n",
    "    coded_message = ''\n",
    "    for c in message_string:\n",
    "        coded_message += function(c)\n",
    "    return coded_message"
   ]
  },
  {
   "cell_type": "code",
   "execution_count": 21,
   "metadata": {},
   "outputs": [
    {
     "name": "stdout",
     "output_type": "stream",
     "text": [
      "gdkkn cnkkx ydaqz!\n",
      "ifmmp epmmz afcsb!\n"
     ]
    }
   ],
   "source": [
    "print(message_coder('hello dolly zebra!',preceding))# prints 'gdkkn cnkkx ydaqz!’\n",
    "\n",
    "print(message_coder('hello dolly zebra!',succeeding))# prints 'ifmmp epmmz afcsb!’\n"
   ]
  },
  {
   "cell_type": "markdown",
   "metadata": {},
   "source": [
    "<h1>Problem 2: Word Count</h2>"
   ]
  },
  {
   "cell_type": "code",
   "execution_count": 2,
   "metadata": {
    "collapsed": true
   },
   "outputs": [],
   "source": [
    "def word_distribution(text_string,word_list=[]):\n",
    "    frequency_dict = dict()\n",
    "    \n",
    "    # If there's a word list, we initialize the dictionary with the list\n",
    "    if word_list:\n",
    "        for word in word_list:\n",
    "            frequency_dict[word.lower()] = 0\n",
    "\n",
    "    for word in text_string.split():\n",
    "        word = word.lower()\n",
    "        \n",
    "        # Punctuation removal\n",
    "        while len(word)>=1 and not ((word[-1] >= 'A' and word[-1] <= 'Z') or (word[-1] >= 'a' and word[-1] <= 'z')):\n",
    "            word = word[:-1]\n",
    "            \n",
    "        #Test if the word is empty (can happen if there's punctuation without words)\n",
    "        if word == '':\n",
    "            continue\n",
    "             \n",
    "        # Count the word if:\n",
    "        # - there's no word list\n",
    "        # - there's a word list and the word is in the dictionary\n",
    "        if(word in frequency_dict or not word_list):\n",
    "            if frequency_dict.get(word) is None:\n",
    "                frequency_dict[word] = 1\n",
    "            else:\n",
    "                frequency_dict[word] += 1\n",
    "    \n",
    "    return frequency_dict\n"
   ]
  },
  {
   "cell_type": "code",
   "execution_count": 3,
   "metadata": {},
   "outputs": [
    {
     "name": "stdout",
     "output_type": "stream",
     "text": [
      "{'hello': 2, 'how': 1, 'are': 1, 'you': 2, 'please': 1, 'say': 1, 'if': 1, 'don’t': 1, 'love': 1, 'me': 1}\n"
     ]
    }
   ],
   "source": [
    "text_string = \"Hello.. How are you? Please say hello if you don’t love me!\"\n",
    "print(word_distribution(text_string)) #should print {‘hello’: 2, ‘how’:1, ‘are’:1, ‘you’:2,’please’:1, “don’t”: 1 …}\n"
   ]
  },
  {
   "cell_type": "code",
   "execution_count": 4,
   "metadata": {},
   "outputs": [
    {
     "name": "stdout",
     "output_type": "stream",
     "text": [
      "{'i': 3, 'saw': 1, 'britain': 0}\n"
     ]
    }
   ],
   "source": [
    "text_string = 'I came, I saw, I conquered!'\n",
    "print(word_distribution(text_string,word_list=['I','saw','Britain'])) # prints {‘i’:3,’saw’:1,’britain':0}\n"
   ]
  },
  {
   "cell_type": "code",
   "execution_count": null,
   "metadata": {
    "collapsed": true
   },
   "outputs": [],
   "source": []
  }
 ],
 "metadata": {
  "kernelspec": {
   "display_name": "Python 3",
   "language": "python",
   "name": "python3"
  },
  "language_info": {
   "codemirror_mode": {
    "name": "ipython",
    "version": 3
   },
   "file_extension": ".py",
   "mimetype": "text/x-python",
   "name": "python",
   "nbconvert_exporter": "python",
   "pygments_lexer": "ipython3",
   "version": "3.6.3"
  }
 },
 "nbformat": 4,
 "nbformat_minor": 2
}
