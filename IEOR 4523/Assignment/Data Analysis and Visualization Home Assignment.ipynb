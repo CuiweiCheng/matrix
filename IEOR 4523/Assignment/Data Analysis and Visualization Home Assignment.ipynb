{
 "cells": [
  {
   "cell_type": "markdown",
   "metadata": {},
   "source": [
    "<h1>Data Analysis and Visualization Home Assignment</h1>\n",
    "<li>I've tried to outline the steps for you so please make use of the cells\n",
    "<li>If you run into data size issues, subset your data. But try to use as much as you can get away with\n",
    "<li>Note that many of the steps will take a while to run, especially if your computer is not powerful enough. Be patient! "
   ]
  },
  {
   "cell_type": "markdown",
   "metadata": {},
   "source": [
    "\n",
    "<ol>\n",
    "<li>Read the data from <a href=\"https://s3.amazonaws.com/nyc-tlc/trip+data/yellow_tripdata_2016-01.csv\">https://s3.amazonaws.com/nyc-tlc/trip+data/yellow_tripdata_2016-01.csv</a>\n",
    "<li>Remove any data that is outside the NYC bounding box\n",
    "<ul>\n",
    "<li>NYC bounding box: westlimit=-74.2635; southlimit=40.4856; eastlimit=-73.7526; northlimit=40.9596\n",
    "<li>See http://boundingbox.klokantech.com for info on bounding boxes\n",
    "</ul>\n",
    "<li>Calculate taxi trip duration and save in a new column \"duration\"\n",
    "<li>Convert duration into a float\n",
    "<li>Do some basic analysis (see below)\n",
    "<li>Add a day of week column\n",
    "<li>Add an hour of day column\n",
    "<li>Do some analysis (see below)\n",
    "<li>Divide the data into zones\n",
    "<ul>\n",
    "<li>write a function createZoneTable(zone_factor) that divides the bounding box into zones\n",
    "<li>the idea is to create zone_factor * zone_factor zones\n",
    "<li>e.g., if zone_factor is 20, you'll create 20*20 = 400 zones\n",
    "<li>Divide the longitude (-73.7526 to -74.2635) into zone_factor (e.g., 20) sections\n",
    "<li>Divide the latitude (40.4856 to 40.9596) into zone_factor (e.g., 20) sections\n",
    "<li>Return a table (a list of lists) containing a zone id, and the coordinates of the zone\n",
    "<li>(see e.g., below)\n",
    "</ul>\n",
    "<li>Write a function get_zone(lat,lon) that figures out the zone given a latitude and longitude\n",
    "<li>Apply this function to the dataframe, first with pickup lats and longs; then with dropoff lats and longs\n",
    "<li>This will give two new \"pickup_zone\" and \"dropoff_zone\" columns\n",
    "<li>Do some analysis (see below)\n",
    "<li>Using folium, draw a heatmap of the number of trips originating in each zone\n",
    "<ul>\n",
    "<li>Create a geojson object for all the zones \n",
    "<li>Create a df that contains zone numbers and the number of trips originating in each zone\n",
    "<li>Use folium to create a heatmap\n",
    "<li><b>OPTIONAL:</b> You'll notice that the bounding box is much larger than New York City. Try to remove every zone that has 0 originating trips from your map. (Hint: You can remove them from the geojson object)\n"
   ]
  },
  {
   "cell_type": "markdown",
   "metadata": {},
   "source": [
    "<h2>Read the data</h2>\n"
   ]
  },
  {
   "cell_type": "code",
   "execution_count": null,
   "metadata": {
    "collapsed": true
   },
   "outputs": [],
   "source": [
    "#Add necessary imports and functions to read the data\n",
    "df = "
   ]
  },
  {
   "cell_type": "markdown",
   "metadata": {},
   "source": [
    "<h2>Remove data outside the bounding box</h2>\n"
   ]
  },
  {
   "cell_type": "code",
   "execution_count": 4,
   "metadata": {
    "collapsed": true
   },
   "outputs": [],
   "source": [
    "westlimit=-74.2635; southlimit=40.4856; eastlimit=-73.7526; northlimit=40.9596\n",
    "#Remove the data that is not within the limits specified above\n",
    "df ="
   ]
  },
  {
   "cell_type": "markdown",
   "metadata": {},
   "source": [
    "<h2>Add a column for taxi trip duration</h2>\n",
    "<li>strptime formats: http://pubs.opengroup.org/onlinepubs/009695399/functions/strptime.html"
   ]
  },
  {
   "cell_type": "code",
   "execution_count": null,
   "metadata": {
    "collapsed": true
   },
   "outputs": [],
   "source": [
    "df = "
   ]
  },
  {
   "cell_type": "markdown",
   "metadata": {},
   "source": [
    "<h2>Convert duration column into a float (number of seconds)</h2>\n",
    "<li><span style=\"color:blue\">timedelta64(1, 's')</span> represents one second"
   ]
  },
  {
   "cell_type": "code",
   "execution_count": null,
   "metadata": {
    "collapsed": true
   },
   "outputs": [],
   "source": [
    "df['duration'] ="
   ]
  },
  {
   "cell_type": "markdown",
   "metadata": {},
   "source": [
    "<h2>Remove data where duration is greater than 10000 seconds</h2>"
   ]
  },
  {
   "cell_type": "code",
   "execution_count": null,
   "metadata": {
    "collapsed": true
   },
   "outputs": [],
   "source": [
    "df = "
   ]
  },
  {
   "cell_type": "markdown",
   "metadata": {},
   "source": [
    "<h2>Plot duration and compare with a gamma distribution</h2>"
   ]
  },
  {
   "cell_type": "code",
   "execution_count": 1,
   "metadata": {
    "collapsed": true
   },
   "outputs": [],
   "source": [
    "%matplotlib inline\n",
    "import matplotlib.pyplot as plt\n",
    "import seaborn as sns\n",
    "plt.style.use('seaborn')\n",
    "\n"
   ]
  },
  {
   "cell_type": "markdown",
   "metadata": {},
   "source": [
    "<h2>Plot the scatter plot between trip_distance and duration</h2>"
   ]
  },
  {
   "cell_type": "code",
   "execution_count": null,
   "metadata": {
    "collapsed": true
   },
   "outputs": [],
   "source": []
  },
  {
   "cell_type": "markdown",
   "metadata": {},
   "source": [
    "<h2>Create a column \"day_of_week\" that puts in an integer for the weekday</h2>\n",
    "<li>Monday = 1, Sunday = 7\n",
    "<li>Investigate here! https://docs.python.org/3/library/datetime.html\n",
    "<li>Use tpep_pickup_datetime to get the weekday"
   ]
  },
  {
   "cell_type": "code",
   "execution_count": null,
   "metadata": {
    "collapsed": true
   },
   "outputs": [],
   "source": [
    "df['day_of_week'] = "
   ]
  },
  {
   "cell_type": "markdown",
   "metadata": {},
   "source": [
    "<h2>Create time of day buckets using the hour part of tpep_pickup_datetime</h2>"
   ]
  },
  {
   "cell_type": "code",
   "execution_count": null,
   "metadata": {
    "collapsed": true
   },
   "outputs": [],
   "source": [
    "df['pickup_hour'] = "
   ]
  },
  {
   "cell_type": "markdown",
   "metadata": {},
   "source": [
    "<h2>Plot a bar graph that groups the data by day of week and then by time of day</h2>\n",
    "<li>Do you notice any differences?</li>"
   ]
  },
  {
   "cell_type": "code",
   "execution_count": null,
   "metadata": {
    "collapsed": true
   },
   "outputs": [],
   "source": []
  },
  {
   "cell_type": "markdown",
   "metadata": {},
   "source": [
    "<h2>Create zones</h2>"
   ]
  },
  {
   "cell_type": "code",
   "execution_count": 4,
   "metadata": {
    "collapsed": true
   },
   "outputs": [],
   "source": [
    "def createZoneTable(zone_factor,westlimit=-74.2635, southlimit=40.4856, eastlimit=-73.7526, northlimit=40.9596):\n",
    "    zone_table = list()\n",
    "    #Your code goes here\n",
    "\n",
    "    return zone_table"
   ]
  },
  {
   "cell_type": "markdown",
   "metadata": {},
   "source": [
    "Example of a zone table\n",
    "\n",
    "[('00',\n",
    "  [[40.4856, -74.2635],\n",
    "   [40.4856, -74.21240999999999],\n",
    "   [40.533, -74.21240999999999],\n",
    "   [40.533, -74.2635],\n",
    "   [40.4856, -74.2635]]),\n",
    " ('01',\n",
    "  [[40.4856, -74.21240999999999],\n",
    "   [40.4856, -74.16131999999999],\n",
    "   [40.533, -74.16131999999999],\n",
    "   [40.533, -74.21240999999999],\n",
    "   [40.4856, -74.21240999999999]]),\n",
    " ('02',\n",
    "  [[40.4856, -74.16131999999999],\n",
    "   [40.4856, -74.11022999999999],\n",
    "   [40.533, -74.11022999999999],\n",
    "   [40.533, -74.16131999999999],\n",
    "   [40.4856, -74.16131999999999]]),\n",
    " ('03',\n",
    "  [[40.4856, -74.11022999999999],\n",
    "   [40.4856, -74.05913999999999],\n",
    "   [40.533, -74.05913999999999],\n",
    "   [40.533, -74.11022999999999],\n",
    "   [40.4856, -74.11022999999999]]),"
   ]
  },
  {
   "cell_type": "code",
   "execution_count": 5,
   "metadata": {
    "collapsed": true
   },
   "outputs": [],
   "source": [
    "def createGeoJsonObject(zone_table):\n",
    "    zone_data_dict = dict()\n",
    "    zone_data_dict['type'] = 'FeatureCollection'\n",
    "    zone_data_dict_features = list()\n",
    "    zone_data_dict['features'] = zone_data_dict_features\n",
    "    \n",
    "    #Your code goes here\n",
    "    \n",
    "    return zone_data_dict"
   ]
  },
  {
   "cell_type": "markdown",
   "metadata": {},
   "source": [
    "Example of the 'features' list in the geojson object\n",
    "\n",
    "{'features': [{'geometry': {'coordinates': [[[-74.2635, 40.4856],\n",
    "      [-74.21240999999999, 40.4856],\n",
    "      [-74.21240999999999, 40.533],\n",
    "      [-74.2635, 40.533],\n",
    "      [-74.2635, 40.4856]]],\n",
    "    'type': 'Polygon'},\n",
    "   'properties': {'zone_id': '00'},\n",
    "   'type': 'Feature'},\n",
    "  {'geometry': {'coordinates': [[[-74.21240999999999, 40.4856],\n",
    "      [-74.16131999999999, 40.4856],\n",
    "      [-74.16131999999999, 40.533],\n",
    "      [-74.21240999999999, 40.533],\n",
    "      [-74.21240999999999, 40.4856]]],\n",
    "    'type': 'Polygon'},\n",
    "   'properties': {'zone_id': '01'},\n",
    "   'type': 'Feature'},\n",
    "  {'geometry': {'coordinates': [[[-74.16131999999999, 40.4856],\n",
    "      [-74.11022999999999, 40.4856],\n",
    "      [-74.11022999999999, 40.533],\n",
    "      [-74.16131999999999, 40.533],\n",
    "      [-74.16131999999999, 40.4856]]],\n",
    "    'type': 'Polygon'},\n",
    "   'properties': {'zone_id': '02'},\n",
    "   'type': 'Feature'},"
   ]
  },
  {
   "cell_type": "markdown",
   "metadata": {},
   "source": [
    "<h3>Create the zone table for zone_factor = 20</h3>"
   ]
  },
  {
   "cell_type": "code",
   "execution_count": null,
   "metadata": {
    "collapsed": true
   },
   "outputs": [],
   "source": [
    "zone_table = createZoneTable(zone_factor,westlimit=-74.2635, southlimit=40.4856, eastlimit=-73.7526, northlimit=40.9596)\n"
   ]
  },
  {
   "cell_type": "markdown",
   "metadata": {},
   "source": [
    "<h2>Write a function that returns a zone number given a latitude and a longitude</h2>\n",
    "\n",
    "<li>The function should return a string zone number\n",
    "<li>For the example, <span style=\"color:blue\">get_zone(40.65,-74.19)</span> the function should return \"31\""
   ]
  },
  {
   "cell_type": "code",
   "execution_count": 3,
   "metadata": {
    "collapsed": true
   },
   "outputs": [],
   "source": [
    "def get_zone(lat,lon,zone_table):\n",
    "    \n",
    "    #Your code goes here\n",
    "    \n",
    "    return zone\n",
    "\n"
   ]
  },
  {
   "cell_type": "markdown",
   "metadata": {},
   "source": [
    "<h2>Create  pickup_zone and dropoff_zone columns for the dataframe</h2>\n",
    "<li>This is a little tricky\n",
    "<li>Pandas 'apply' function applies a function to each row in turn\n"
   ]
  },
  {
   "cell_type": "markdown",
   "metadata": {},
   "source": [
    "<h4>apply</h4>\n",
    "\n",
    "df.apply(foo)<br>\n",
    "translates to<br>\n",
    "foo(row1)<br>\n",
    "foo(row2)<br>\n",
    "foo(row3)<br>\n",
    "i.e., the table row is the implicit argument of foo.\n",
    "<p>\n",
    "If we want to write our own foo, the argument to foo will be a dataframe row.<p>\n",
    "From this row, we can extract the values we want and pass it to the explicit arguments of foo\n",
    "<p>\n"
   ]
  },
  {
   "cell_type": "code",
   "execution_count": 30,
   "metadata": {},
   "outputs": [
    {
     "name": "stdout",
     "output_type": "stream",
     "text": [
      "   A  B  C\n",
      "0  1  5  7\n",
      "1  2  4  6\n",
      "2  3  9  2\n"
     ]
    },
    {
     "data": {
      "text/html": [
       "<div>\n",
       "<style>\n",
       "    .dataframe thead tr:only-child th {\n",
       "        text-align: right;\n",
       "    }\n",
       "\n",
       "    .dataframe thead th {\n",
       "        text-align: left;\n",
       "    }\n",
       "\n",
       "    .dataframe tbody tr th {\n",
       "        vertical-align: top;\n",
       "    }\n",
       "</style>\n",
       "<table border=\"1\" class=\"dataframe\">\n",
       "  <thead>\n",
       "    <tr style=\"text-align: right;\">\n",
       "      <th></th>\n",
       "      <th>A</th>\n",
       "      <th>B</th>\n",
       "      <th>C</th>\n",
       "      <th>new_col</th>\n",
       "    </tr>\n",
       "  </thead>\n",
       "  <tbody>\n",
       "    <tr>\n",
       "      <th>0</th>\n",
       "      <td>1</td>\n",
       "      <td>5</td>\n",
       "      <td>7</td>\n",
       "      <td>6</td>\n",
       "    </tr>\n",
       "    <tr>\n",
       "      <th>1</th>\n",
       "      <td>2</td>\n",
       "      <td>4</td>\n",
       "      <td>6</td>\n",
       "      <td>6</td>\n",
       "    </tr>\n",
       "    <tr>\n",
       "      <th>2</th>\n",
       "      <td>3</td>\n",
       "      <td>9</td>\n",
       "      <td>2</td>\n",
       "      <td>12</td>\n",
       "    </tr>\n",
       "  </tbody>\n",
       "</table>\n",
       "</div>"
      ],
      "text/plain": [
       "   A  B  C  new_col\n",
       "0  1  5  7        6\n",
       "1  2  4  6        6\n",
       "2  3  9  2       12"
      ]
     },
     "execution_count": 30,
     "metadata": {},
     "output_type": "execute_result"
    }
   ],
   "source": [
    "import pandas as pd\n",
    "df_sample = pd.DataFrame([[1,5,7],[2,4,6],[3,9,2]],columns=['A','B','C'])\n",
    "\n",
    "print(df_sample)\n",
    "def foo(x,y):\n",
    "    return x+y\n",
    "\n",
    "df_sample['new_col'] = df_sample.apply(lambda x: foo(x['A'],x['B']),axis=1)\n",
    "#axis = 1 means extract data from rows of the dataframe. by default, it extracts from columns. (Set axis to 0 and see what happens)\n",
    "\n",
    "df_sample"
   ]
  },
  {
   "cell_type": "code",
   "execution_count": null,
   "metadata": {
    "collapsed": true
   },
   "outputs": [],
   "source": [
    "df['pickup_zone'] =\n",
    "df['dropoff_zone'] = "
   ]
  },
  {
   "cell_type": "markdown",
   "metadata": {},
   "source": [
    "<h2>Calculate the following</h2>\n",
    "<li>Percentage of the total rides where the pickup zone is the same as the dropoff zone\n",
    "<li>Zone with the highest pickups\n",
    "<li>Zone with the highest dropoffs"
   ]
  },
  {
   "cell_type": "code",
   "execution_count": null,
   "metadata": {
    "collapsed": true
   },
   "outputs": [],
   "source": []
  },
  {
   "cell_type": "markdown",
   "metadata": {},
   "source": [
    "<h2>Groupby analysis</h2>\n",
    "<li>Group data by the hour of the day and by the pickup zone\n",
    "<li>Draw a figure of 24 plots that show the top 5 pickup zones at each hour\n"
   ]
  },
  {
   "cell_type": "code",
   "execution_count": null,
   "metadata": {
    "collapsed": true
   },
   "outputs": [],
   "source": []
  },
  {
   "cell_type": "markdown",
   "metadata": {},
   "source": [
    "<h2>Groupby analysis 2</h2>\n",
    "<li>Group data by the weekday and the pickup zone\n",
    "<li>Draw a figure of 7 plots that show the top 5 pickup zones on each day"
   ]
  },
  {
   "cell_type": "code",
   "execution_count": null,
   "metadata": {
    "collapsed": true
   },
   "outputs": [],
   "source": []
  },
  {
   "cell_type": "markdown",
   "metadata": {},
   "source": [
    "<h1>Most frequent morning pickups</h1>\n",
    "<li>Identify the most frequent pickup zone between 8 am and 9 am on a weekday\n",
    "\n"
   ]
  },
  {
   "cell_type": "code",
   "execution_count": null,
   "metadata": {
    "collapsed": true
   },
   "outputs": [],
   "source": []
  },
  {
   "cell_type": "code",
   "execution_count": null,
   "metadata": {
    "collapsed": true
   },
   "outputs": [],
   "source": []
  },
  {
   "cell_type": "markdown",
   "metadata": {
    "collapsed": true
   },
   "source": [
    "<h2>Mapping</h2>\n",
    "<li>Draw a folium map using the polygon geojson object and the counts dataframe (see class example)"
   ]
  },
  {
   "cell_type": "code",
   "execution_count": 6,
   "metadata": {
    "collapsed": true
   },
   "outputs": [],
   "source": [
    "import folium"
   ]
  },
  {
   "cell_type": "code",
   "execution_count": null,
   "metadata": {
    "collapsed": true
   },
   "outputs": [],
   "source": []
  }
 ],
 "metadata": {
  "kernelspec": {
   "display_name": "Python [py36]",
   "language": "python",
   "name": "Python [py36]"
  },
  "language_info": {
   "codemirror_mode": {
    "name": "ipython",
    "version": 3
   },
   "file_extension": ".py",
   "mimetype": "text/x-python",
   "name": "python",
   "nbconvert_exporter": "python",
   "pygments_lexer": "ipython3",
   "version": "3.6.1"
  }
 },
 "nbformat": 4,
 "nbformat_minor": 2
}
