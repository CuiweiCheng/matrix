{
 "cells": [
  {
   "cell_type": "code",
   "execution_count": 1,
   "metadata": {},
   "outputs": [],
   "source": [
    "def get_businesses(query,api_key,min_rating=0.0,max_results=30):\n",
    "    \"\"\"\n",
    "    Use Google textsearch API to get a list of businesses defined by the query.\n",
    "    \n",
    "    Inputs:\n",
    "    - query: string \n",
    "    - api_key: string\n",
    "    - min_rate: float\n",
    "    - max_results: int\n",
    "    \"\"\"\n",
    "    \n",
    "    import json\n",
    "    def safe_get(url):\n",
    "        \"\"\"\n",
    "        A safe version of get which ensures the 'status' of response is 'OK'.\n",
    "        \n",
    "        Inputs:\n",
    "        - url: string\n",
    "        \"\"\"\n",
    "        import requests\n",
    "        from time import sleep\n",
    "        from random import random\n",
    "        \n",
    "        response = requests.get(url)\n",
    "        while response.json().get('status') != 'OK':\n",
    "            sleep(random())\n",
    "            response = requests.get(new_url)\n",
    "        return(response)\n",
    "    \n",
    "    business_list = []\n",
    "    \n",
    "    base_url = 'https://maps.googleapis.com/maps/api/place/textsearch/json?query={}&key={}'\n",
    "    url = base_url.format(query, api_key)\n",
    "    \n",
    "    response = safe_get(url)\n",
    "    response_data = response.json()\n",
    "\n",
    "    while True:\n",
    "        for d in response_data['results']:\n",
    "            if d['rating'] >= min_rating:\n",
    "                business_tuple = (d['name'],d['formatted_address'],d['opening_hours'],d.get('price_level'),d['rating'])\n",
    "                business_list.append(business_tuple)\n",
    "                if len(business_list) >= max_results:\n",
    "                    return business_list\n",
    "        \n",
    "        if 'next_page_token' in response_data.keys():\n",
    "            new_url = url + '&pagetoken={}'.format(response_data['next_page_token'])\n",
    "            response = safe_get(new_url)\n",
    "            response_data = response.json()\n",
    "        else:\n",
    "            break\n",
    "            \n",
    "\n",
    "    return business_list"
   ]
  },
  {
   "cell_type": "code",
   "execution_count": 2,
   "metadata": {},
   "outputs": [
    {
     "name": "stdout",
     "output_type": "stream",
     "text": [
      "30\n",
      "[('Roti Roll Bombay Frankie', '994 Amsterdam Ave, New York, NY 10025, USA', {'open_now': True}, 1, 4.4), ('Doaba Deli', '945 Columbus Ave, New York, NY 10025, USA', {'open_now': True}, 1, 4.6), (\"Friedman's\", '1187 Amsterdam Ave, New York, NY 10027, USA', {'open_now': False}, 2, 4.2), ('Community Food & Juice', '2893 Broadway, New York, NY 10025, USA', {'open_now': False}, 2, 4.1), ('Massawa', '1239 Amsterdam Ave, New York, NY 10027, USA', {'open_now': False}, 2, 4.2), ('Junzi Kitchen', '2896 Broadway, New York, NY 10025, USA', {'open_now': False}, 1, 4.3), ('The Hamilton', '998 Amsterdam Ave, New York, NY 10025, USA', {'open_now': True}, 2, 4.5), ('John Jay Dining Hall', '519 W 114th St, New York, NY 10027, USA', {'open_now': True}, None, 3.8), (\"Brownie's Cafe\", '1172 Amsterdam Ave, New York, NY 10027, USA', {'open_now': False}, None, 4.5), ('Pisticci', '125 La Salle St, New York, NY 10027, USA', {'open_now': False}, 2, 4.5), ('Dig Inn', '2884 Broadway, New York, NY 10025, USA', {'open_now': False}, 1, 4.3), ('Symposium', '544 W 113th St, New York, NY 10025, USA', {'open_now': False}, 2, 4), ('Max Soha', '1274 Amsterdam Ave, New York, NY 10027, USA', {'open_now': False}, 2, 4.4), ('Thai Market', '960 Amsterdam Ave, New York, NY 10025, USA', {'open_now': False}, 2, 4.3), (\"Mel's Burger Bar\", '2850 Broadway, New York, NY 10025, USA', {'open_now': False}, 2, 4.1), ('The Heights Bar & Grill', '2867 Broadway, New York, NY 10025, USA', {'open_now': True}, 2, 4.1), ('Ferris Booth Commons', 'Alfred Lerner Hall, 2920 Broadway, New York, NY 10027, USA', {'open_now': True}, None, 3.9), ('Kitchenette', '1272 Amsterdam Ave, New York, NY 10027, USA', {'open_now': False}, 2, 4.1), ('Flat Top', '1241 Amsterdam Ave, New York, NY 10027, USA', {'open_now': False}, 2, 4.4), (\"Tom's Restaurant\", '2880 Broadway, New York, NY 10025, USA', {'open_now': True}, None, 3.9), ('The Ellington', '936 Amsterdam Ave, New York, NY 10025, USA', {'open_now': True}, 2, 4.2), ('Chapati House - NYC', '3153 Broadway, New York, NY 10027, USA', {'open_now': False}, 1, 4.3), ('V & T', '1024 Amsterdam Ave, New York, NY 10025, USA', {'open_now': False}, 2, 4.2), ('Amity Hall Uptown', '982 Amsterdam Ave, New York, NY 10025, USA', {'open_now': True}, 2, 4.2), ('Saiguette', '935 Columbus Ave, New York, NY 10025, USA', {'open_now': False}, 1, 4.5), ('Tartina', '1034 Amsterdam Ave, New York, NY 10025, USA', {'open_now': False}, 2, 4.3), ('Le Monde', '2885 Broadway, New York, NY 10025, USA', {'open_now': False}, 2, 3.5), ('Max Caffè', '1262 Amsterdam Ave, New York, NY 10027, USA', {'open_now': False}, 2, 4.3), ('Milano Market', '2892 Broadway, New York, NY 10025, USA', {'open_now': False}, 1, 4), ('Koronet Pizza', '7816 2848, Broadway, New York, NY 10025, United States', {'open_now': True}, 1, 4.3)]\n"
     ]
    }
   ],
   "source": [
    "query = 'restaurants near Columbia University'\n",
    "result = get_businesses(query,api_key,min_rating=3,max_results=30)\n",
    "print(len(result))\n",
    "print(result)"
   ]
  },
  {
   "cell_type": "code",
   "execution_count": 3,
   "metadata": {},
   "outputs": [
    {
     "name": "stdout",
     "output_type": "stream",
     "text": [
      "7\n",
      "[('Doaba Deli', '945 Columbus Ave, New York, NY 10025, USA', {'open_now': True}, 1, 4.6), ('The Hamilton', '998 Amsterdam Ave, New York, NY 10025, USA', {'open_now': True}, 2, 4.5), (\"Brownie's Cafe\", '1172 Amsterdam Ave, New York, NY 10027, USA', {'open_now': False}, None, 4.5), ('Pisticci', '125 La Salle St, New York, NY 10027, USA', {'open_now': False}, 2, 4.5), ('Saiguette', '935 Columbus Ave, New York, NY 10025, USA', {'open_now': False}, 1, 4.5), ('VINATERÍA', '2211 Frederick Douglass Blvd, New York, NY 10026, USA', {'open_now': False}, 2, 4.5), ('Susan Sez \"Say It With Cake\"', '510 W 123rd St, New York, NY 10027, USA', {'open_now': False}, None, 4.5)]\n"
     ]
    }
   ],
   "source": [
    "result = get_businesses(query,api_key,min_rating=4.45,max_results=12)\n",
    "print(len(result))\n",
    "print(result)"
   ]
  },
  {
   "cell_type": "code",
   "execution_count": 4,
   "metadata": {},
   "outputs": [
    {
     "name": "stdout",
     "output_type": "stream",
     "text": [
      "12\n",
      "[('Roti Roll Bombay Frankie', '994 Amsterdam Ave, New York, NY 10025, USA', {'open_now': True}, 1, 4.4), ('Doaba Deli', '945 Columbus Ave, New York, NY 10025, USA', {'open_now': True}, 1, 4.6), (\"Friedman's\", '1187 Amsterdam Ave, New York, NY 10027, USA', {'open_now': False}, 2, 4.2), ('Community Food & Juice', '2893 Broadway, New York, NY 10025, USA', {'open_now': False}, 2, 4.1), ('Massawa', '1239 Amsterdam Ave, New York, NY 10027, USA', {'open_now': False}, 2, 4.2), ('Junzi Kitchen', '2896 Broadway, New York, NY 10025, USA', {'open_now': False}, 1, 4.3), ('The Hamilton', '998 Amsterdam Ave, New York, NY 10025, USA', {'open_now': True}, 2, 4.5), ('John Jay Dining Hall', '519 W 114th St, New York, NY 10027, USA', {'open_now': True}, None, 3.8), (\"Brownie's Cafe\", '1172 Amsterdam Ave, New York, NY 10027, USA', {'open_now': False}, None, 4.5), ('Pisticci', '125 La Salle St, New York, NY 10027, USA', {'open_now': False}, 2, 4.5), ('Dig Inn', '2884 Broadway, New York, NY 10025, USA', {'open_now': False}, 1, 4.3), ('Symposium', '544 W 113th St, New York, NY 10025, USA', {'open_now': False}, 2, 4)]\n"
     ]
    }
   ],
   "source": [
    "result = get_businesses(query,api_key,min_rating=3,max_results=12)\n",
    "print(len(result))\n",
    "print(result)"
   ]
  },
  {
   "cell_type": "code",
   "execution_count": null,
   "metadata": {},
   "outputs": [],
   "source": []
  }
 ],
 "metadata": {
  "kernelspec": {
   "display_name": "Python 3",
   "language": "python",
   "name": "python3"
  },
  "language_info": {
   "codemirror_mode": {
    "name": "ipython",
    "version": 3
   },
   "file_extension": ".py",
   "mimetype": "text/x-python",
   "name": "python",
   "nbconvert_exporter": "python",
   "pygments_lexer": "ipython3",
   "version": "3.6.5"
  }
 },
 "nbformat": 4,
 "nbformat_minor": 2
}
