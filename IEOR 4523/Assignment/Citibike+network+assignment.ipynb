{
 "cells": [
  {
   "cell_type": "markdown",
   "metadata": {},
   "source": [
    "<h1>Citibike Network Assignment</h1>\n",
    "<li>The file, 2014-01 - Citi Bike trip data.csv, contains citibike trip data from January 2014 (a reasonable sized file!)\n",
    "<li>The data:<br>\n",
    "\"tripduration\",\"starttime\",\"stoptime\",\"start station id\",\"start station name\",\"start station latitude\",\"start station longitude\",\"end station id\",\"end station name\",\"end station latitude\",\"end station longitude\",\"bikeid\",\"usertype\",\"birth year\",\"gender\"\n",
    "<li>Each record in the data is a trip \n",
    "<li>The data is described at https://www.citibikenyc.com/system-data"
   ]
  },
  {
   "cell_type": "markdown",
   "metadata": {},
   "source": [
    "<h1>STEP 1: Read the data into a dataframe</h1>\n",
    "<li>Convert station ids to str if necessary"
   ]
  },
  {
   "cell_type": "code",
   "execution_count": 1,
   "metadata": {
    "collapsed": true
   },
   "outputs": [],
   "source": [
    "import pandas as pd\n",
    "import numpy as np\n",
    "datafile = \"2014-01 - Citi Bike trip data.csv\"\n",
    "df = \n"
   ]
  },
  {
   "cell_type": "markdown",
   "metadata": {},
   "source": [
    "<h1>STEP 2: Basic cleaning</h1>\n",
    "<li>Remove data that have any nans in any row (none in this file but others do have nans)\n",
    "<li>and convert stationids to str "
   ]
  },
  {
   "cell_type": "code",
   "execution_count": null,
   "metadata": {
    "collapsed": true
   },
   "outputs": [],
   "source": []
  },
  {
   "cell_type": "markdown",
   "metadata": {},
   "source": [
    "<h1>STEP 3: Write a function that returns a graph given a citibike data frame</h1> \n",
    "<li>Your function should return two things:\n",
    "<ol>\n",
    "<li>a graph\n",
    "<li>a dictionary with station ids as the key and station name as the value\n",
    "</ol>\n",
    "<li>The graph should contain \n",
    "<ol>\n",
    "<li>nodes (station ids)\n",
    "<li>edges (station id, station id)\n",
    "<li>edge data \n",
    "<ol>\n",
    "<li>count: number of trips on the edge\n",
    "<li>time: average duration - pickup to dropoff - on that edge\n",
    "</ol>\n",
    "</ol>\n",
    "<li><b>Note:</b> the edge (x1,y1) is the same as (y1,x1) even though the start station ids and end station ids are flipped in the dataframe"
   ]
  },
  {
   "cell_type": "code",
   "execution_count": 3,
   "metadata": {
    "collapsed": true
   },
   "outputs": [],
   "source": [
    "def get_citibike_graph(df):\n",
    "    import networkx as nx\n",
    "    G = nx.Graph()\n",
    "    node_names = dict()\n",
    "\n",
    "    #YOUR CODE GOES HERE\n",
    "    \n",
    "    return G,node_names\n",
    "    "
   ]
  },
  {
   "cell_type": "markdown",
   "metadata": {},
   "source": [
    "<h1>STEP 4: Create the following graphs using the function above</h1>\n",
    "<li>G: A graph of all the data in the dataframe\n",
    "<li>m_G: A graph containing only data from male riders\n",
    "<li>f_G: A graph containing only data from female riders\n",
    "<li>Note: for m_G and f_G you will need to extract data from the dataframe"
   ]
  },
  {
   "cell_type": "code",
   "execution_count": 4,
   "metadata": {
    "collapsed": true
   },
   "outputs": [],
   "source": [
    "G,nodes=get_citibike_graph(df)"
   ]
  },
  {
   "cell_type": "code",
   "execution_count": 5,
   "metadata": {
    "collapsed": true
   },
   "outputs": [],
   "source": []
  },
  {
   "cell_type": "code",
   "execution_count": null,
   "metadata": {
    "collapsed": true
   },
   "outputs": [],
   "source": []
  },
  {
   "cell_type": "code",
   "execution_count": null,
   "metadata": {
    "collapsed": true
   },
   "outputs": [],
   "source": []
  },
  {
   "cell_type": "markdown",
   "metadata": {},
   "source": [
    "<h1>STEP 5: Answer the following questions for each of the graphs</h1>\n",
    "<ol>\n",
    "<li>Which station (name) is the best connected (max degree)?\n",
    "<li>Travel between which pair of stations is the longest in terms of average duration between bike pickups and dropoffs. Report both the two stations as well as the time in minutes\n",
    "<li>Which edge is associated with the most number of trips?\n",
    "<li>Which station is the most central?\n",
    "<li>Which node is a bottleneck node?"
   ]
  },
  {
   "cell_type": "markdown",
   "metadata": {},
   "source": [
    "Which station (name) has the greatest number of connections (max degree)?"
   ]
  },
  {
   "cell_type": "code",
   "execution_count": 9,
   "metadata": {},
   "outputs": [
    {
     "name": "stdout",
     "output_type": "stream",
     "text": [
      "Busiest female station E 17 St & Broadway\n",
      "Busiest male station Lawrence St & Willoughby St\n",
      "Busiest station Lawrence St & Willoughby St\n"
     ]
    }
   ],
   "source": [
    "\n"
   ]
  },
  {
   "cell_type": "markdown",
   "metadata": {},
   "source": [
    "Travel between which pair of stations is the longest in terms of average duration between bike pickups and dropoffs"
   ]
  },
  {
   "cell_type": "code",
   "execution_count": 10,
   "metadata": {},
   "outputs": [
    {
     "name": "stdout",
     "output_type": "stream",
     "text": [
      "Longest average distance males:  W 43 St & 6 Ave  to  Warren St & Church St . Minutes:  6640\n",
      "Longest average distance females:  S Portland Ave & Hanson Pl  to  Flushing Ave & Carlton Ave . Minutes:  9093\n",
      "Longest average distance all:  Flushing Ave & Carlton Ave  to  S Portland Ave & Hanson Pl . Minutes:  9093\n",
      "('524', '152', {'trips': 5, 'time': 398427.4})\n",
      "('353', '242', {'trips': 1, 'time': 545583.0})\n",
      "('242', '353', {'trips': 1, 'time': 545583.0})\n"
     ]
    }
   ],
   "source": [
    "#Note: I've printed the max edges but you don't need to print them"
   ]
  },
  {
   "cell_type": "markdown",
   "metadata": {},
   "source": [
    "Which edge is associated with the most number of trips?"
   ]
  },
  {
   "cell_type": "code",
   "execution_count": 28,
   "metadata": {},
   "outputs": [
    {
     "name": "stdout",
     "output_type": "stream",
     "text": [
      "most trip route males:  E 43 St & Vanderbilt Ave  to  W 41 St & 8 Ave . Minutes:  7\n",
      "most trip route females:  Lafayette St & E 8 St  to  E 7 St & Avenue A . Minutes:  5\n",
      "most trip route all:  E 43 St & Vanderbilt Ave  to  W 41 St & 8 Ave . Minutes:  7\n"
     ]
    }
   ],
   "source": []
  },
  {
   "cell_type": "markdown",
   "metadata": {},
   "source": [
    "<h2>Centrality</h2>\n",
    "One of the concerns that the citibike system has to deal with is ensuring that no station has empty slots (a bike should always be available) and that no station should have no empty slots (you should be able to return a bike). To do this, it needs to monitor the movement of bikes through the system, ideally using a directed graph. Though our graph is not directed, we can look at some network characteristics that will help us answer these questions. Note that the \"trips\" feature in edge data captures flows.\n",
    "<li>Which node is a possible bottleneck node in terms of bike flows?\n",
    "<li>Which node is the \"nearest\" to all other nodes (irrespective of flows)\n",
    "<li>Which node is the \"nearest\" to all other nodes (in terms of distance = time)\n",
    "<li>Which nodes are peripheral (most likely to be underserved)"
   ]
  },
  {
   "cell_type": "code",
   "execution_count": 27,
   "metadata": {},
   "outputs": [
    {
     "name": "stdout",
     "output_type": "stream",
     "text": [
      "Most central in connectivity Lawrence St & Willoughby St\n",
      "Most central in connectivity using time as distance Fulton St & Rockwell Pl\n",
      "Bottleneck node Atlantic Ave & Fort Greene Pl\n"
     ]
    }
   ],
   "source": [
    "\n"
   ]
  },
  {
   "cell_type": "code",
   "execution_count": null,
   "metadata": {
    "collapsed": true
   },
   "outputs": [],
   "source": []
  }
 ],
 "metadata": {
  "kernelspec": {
   "display_name": "Python [py36]",
   "language": "python",
   "name": "Python [py36]"
  },
  "language_info": {
   "codemirror_mode": {
    "name": "ipython",
    "version": 3
   },
   "file_extension": ".py",
   "mimetype": "text/x-python",
   "name": "python",
   "nbconvert_exporter": "python",
   "pygments_lexer": "ipython3",
   "version": "3.6.1"
  }
 },
 "nbformat": 4,
 "nbformat_minor": 2
}
