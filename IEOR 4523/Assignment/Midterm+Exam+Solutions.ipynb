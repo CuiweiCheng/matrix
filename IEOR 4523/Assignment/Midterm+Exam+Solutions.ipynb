{
 "cells": [
  {
   "cell_type": "markdown",
   "metadata": {},
   "source": [
    "<h2>Multiple Choice Questions</h2>"
   ]
  },
  {
   "cell_type": "raw",
   "metadata": {},
   "source": [
    "QUESTION 1: Consider the following two numpy arrays:\n",
    "ax = np.array([1,2,3,4,5,6,7,8,9,10,11,12])\n",
    "ay = np.array([3,4,5])\n",
    "\n",
    "\tIf we want to add elements of these two arrays to produce the following array:\n",
    "array([[ 4,  5,  6,  7,  8,  9, 10, 11, 12, 13, 14, 15],\n",
    "       [ 5,  6,  7,  8,  9, 10, 11, 12, 13, 14, 15, 16],\n",
    "       [ 6,  7,  8,  9, 10, 11, 12, 13, 14, 15, 16, 17]])\n",
    "\n",
    "\twhich of the following is the correct broadcasting technique:\n",
    "ax + ay[:,np.newaxis]\n",
    "ax[:,np.newaxis] + ay\n"
   ]
  },
  {
   "cell_type": "markdown",
   "metadata": {},
   "source": [
    "<b>ANSWER</b>: The correct answer is:\n",
    "\n",
    "ax + ay[:,np.newaxis]\n",
    "\n",
    "The rows in the output array are constructed by adding 3, 4 and 5, the elements of ay, to each element of ax. Since ax has the 1D shape (12,), and ay has the 1D shape (3,) their shapes are not compatible for broadcasting. We need to convert one of the two arrays into a 2D array. \n",
    "\n",
    "If we convert ax into a 2D array, we will get (12,1) + (3,) leading to an array of (12,3) which is not correct. Instead, if we convert ay into a 2D array, we will get (12,) + (3,1) leading to a (3,12) array (ax will be broadcast to every row of ay so we get the same number of rows as ay).  And that's what we want\n"
   ]
  },
  {
   "cell_type": "code",
   "execution_count": null,
   "metadata": {},
   "outputs": [],
   "source": [
    "import numpy as np\n",
    "ax = np.array([1,2,3,4,5,6,7,8,9,10,11,12])\n",
    "ay = np.array([3,4,5])\n",
    "print(ax.shape)\n",
    "print(ay.shape)\n",
    "print((ax + ay[:,np.newaxis]).shape)\n",
    "print(ax + ay[:,np.newaxis])"
   ]
  },
  {
   "cell_type": "code",
   "execution_count": null,
   "metadata": {},
   "outputs": [],
   "source": []
  },
  {
   "cell_type": "markdown",
   "metadata": {},
   "source": [
    "QUESTION 2: When we work with json data we need to serialize the data to: \n",
    "\n",
    "A. Work with series of data.\n",
    "\n",
    "B. Work with objects and instances.\n",
    "\n",
    "C. Save data to files or databases.\n",
    "\n",
    "D. Order the data in a serial way.\n"
   ]
  },
  {
   "cell_type": "markdown",
   "metadata": {},
   "source": [
    "<b>ANSWER</b>: Serialization converts objects to stream of bytes (and back). They are useful to store objects in files and databases. "
   ]
  },
  {
   "cell_type": "code",
   "execution_count": null,
   "metadata": {},
   "outputs": [],
   "source": []
  },
  {
   "cell_type": "markdown",
   "metadata": {},
   "source": [
    "QUESTION 3: A numpy array is defined as follow:\n",
    "\n",
    "ax = np.array([[1,2,3],[4,5,6]])\n",
    "\n",
    "Which of the following is the correct way to get the number 5 from this array:\n",
    "\n",
    "A. ax[1,1]\n",
    "\n",
    "B. ax[1][1]\n",
    "\n",
    "C. Both A and B are incorrect\n",
    "\n",
    "D. Both A and B are correct\n"
   ]
  },
  {
   "cell_type": "markdown",
   "metadata": {},
   "source": [
    "<b>ANSWER:</b> Both A as well as B are correct but ax[1,1] is better because it doesn't use chained indexing and is less costly "
   ]
  },
  {
   "cell_type": "code",
   "execution_count": null,
   "metadata": {},
   "outputs": [],
   "source": []
  },
  {
   "cell_type": "markdown",
   "metadata": {},
   "source": [
    "QUESTION 4: You have the following data for a web scraping exercise:\n",
    "\n",
    "baseurl = ‘http://www.randomurl.com/data?name=’<br>\n",
    "name=”Margaret Whatchamacallit”\n",
    "\n",
    "You use this data to construct the following request:\n",
    "\n",
    "requests.get(baseurl + name)\n",
    "\n",
    "Which of the following statements about this requests.get is correct:\n",
    "\n",
    "A. The requests.get will throw an exception because there is a space in the url name\n",
    "\n",
    "B. The requests.get will work as expected assuming that www.randomurl.com is a valid Internet domain\n",
    "\n",
    "C. The requests.get will throw an exception because its argument baseurl + name is not enclosed in quotation marks\n",
    "\n",
    "D. The requests.get will throw an exception because a + symbol is not allowed in an argument to a function\n"
   ]
  },
  {
   "cell_type": "markdown",
   "metadata": {},
   "source": [
    "<b>ANSWER</b>: The correct answer is B. Though url names cannot contain spaces, the requests library handles spaces for us. Quotation marks around baseurl and name are incorrect because they are variables. And the + symbol is fine because we're adding two strings."
   ]
  },
  {
   "cell_type": "code",
   "execution_count": null,
   "metadata": {},
   "outputs": [],
   "source": []
  },
  {
   "cell_type": "code",
   "execution_count": null,
   "metadata": {},
   "outputs": [],
   "source": [
    "#QUESTION 5. Consider the following python code:\n",
    "x = [(1,2),(3,2),(1,1),(4,5),(2,0),(0,2)]\n",
    "y = sorted(x,key=lambda x: (x[1],x[0]))\n",
    "print(y[2])\n",
    "\n",
    "#What will be printed? ________________________________\n",
    "y"
   ]
  },
  {
   "cell_type": "markdown",
   "metadata": {},
   "source": [
    "<b>ANSWER:</b> (0,2) because we're asking sorted to sort the elements on their second value and to break ties using the first value. The value of the sorted array is:\n",
    "\n",
    "[(2, 0), (1, 1), (0, 2), (1, 2), (3, 2), (4, 5)]"
   ]
  },
  {
   "cell_type": "code",
   "execution_count": null,
   "metadata": {},
   "outputs": [],
   "source": []
  },
  {
   "cell_type": "code",
   "execution_count": null,
   "metadata": {},
   "outputs": [],
   "source": [
    "QUESTION 6. Consider the following python code:\n",
    "x = [(1,2),(3,2),(1,1),(4,5),(2,0),(0,2)]\n",
    "y = sorted(x,key=lambda x: x[1])\n",
    "print(y[2])\n",
    "\n",
    "#What will be printed? ________________________________\n",
    "\n",
    "y"
   ]
  },
  {
   "cell_type": "markdown",
   "metadata": {},
   "source": [
    "<b>ANSWER:</b> (1,2). Here we're asking sort to use only the second value of an element, ignoring entirely the first element. The value of the sorted array is:\n",
    "\n",
    "[(2, 0), (1, 1), (1, 2), (3, 2), (0, 2), (4, 5)]"
   ]
  },
  {
   "cell_type": "code",
   "execution_count": null,
   "metadata": {},
   "outputs": [],
   "source": []
  },
  {
   "cell_type": "code",
   "execution_count": null,
   "metadata": {},
   "outputs": [],
   "source": [
    "QUESTION 7. Consider the following python code:\n",
    "x=[1,2,3,4]\n",
    "y=['a','b','c','d']\n",
    "z=[('a',1),('b',2),('c',3),('d',4)]\n",
    "result = list([*zip(x,y,z)]) == list(zip(x,y,z))\n",
    "\n",
    "\"\"\"\n",
    "A. The value of result will be:\n",
    "B. True\n",
    "C. False\n",
    "D. The code will result in a run time exception\n",
    "\"\"\"\n",
    "result"
   ]
  },
  {
   "cell_type": "markdown",
   "metadata": {},
   "source": [
    "<b>ANSWER:</b> The correct answer is True. \n",
    "\n",
    "list(zip(x,y,z)) zips (meshes) corresponding values of x, y and z to give:\n",
    "<pre>\n",
    "[(1, 'a', ('a', 1)),\n",
    " (2, 'b', ('b', 2)),\n",
    " (3, 'c', ('c', 3)),\n",
    " (4, 'd', ('d', 4))]\n",
    "</pre>\n",
    "\n",
    "(The ith element of the result is composed of x[i], y[i] and z[i])\n",
    "\n",
    "*zip(x,y,x) is the unpacking operator. It will return four values, each corresponding to a row in zip(x,y,z)\n",
    "\n",
    "[*zip(x,y,z)] converts these four values into a list giving the same value as list(zip(x,y,z))\n",
    "\n",
    "list([*zip(x,y,z)]) merely tells python to convert that list into a list. Since it is already a list, nothing happens"
   ]
  },
  {
   "cell_type": "code",
   "execution_count": null,
   "metadata": {},
   "outputs": [],
   "source": []
  },
  {
   "cell_type": "markdown",
   "metadata": {},
   "source": [
    "Question 8. The correct way to select a row with index value i from a dataframe df is:\n",
    "\n",
    "A. df.loc(i)\n",
    "\n",
    "B. df.loc[i]\n",
    "\n",
    "C. df.iloc(i)\n",
    "\n",
    "D. df.iloc[i]\n"
   ]
  },
  {
   "cell_type": "markdown",
   "metadata": {},
   "source": [
    "<b>ANSWER</b>: The correct answer is B. We need square brackets when accessing data from a python collection so A and C are incorrect. Every python dataframe comes with and index and the question is asking you to use the index to access a value. The correct way to do this is to use the loc attribute. \n",
    "\n",
    "iloc would have been correct if the question asked you to select a row using the row number. "
   ]
  },
  {
   "cell_type": "code",
   "execution_count": null,
   "metadata": {},
   "outputs": [],
   "source": []
  },
  {
   "cell_type": "markdown",
   "metadata": {},
   "source": [
    "Question 9. The best reason for creating session objects when using Python’s requests library is:\n",
    "\n",
    "A. The calling program can keep track of how often it sends http requests and receives http responses\n",
    "\n",
    "B. The calling program can keep a log of errors that will help diagnose exceptions when they occur\n",
    "\n",
    "C. The calling program can keep the server informed of “who” is sending the requests and receiving responses\n",
    "\n",
    "D. The calling program can use requests.json to convert the content of the response into a python object for data easier data extraction\n",
    "\n"
   ]
  },
  {
   "cell_type": "markdown",
   "metadata": {},
   "source": [
    "<b>ANSWER</b>: The internet works using the client server paradigm. In that paradigm, the server handles requests from a client but does not keep an open connection with the client. Each request is handled independently of all past requests. If a client is making multiple requests to a server, and want the server to know who the client is, then all client identification information has to be passed from the client to the server along with each request. A session object sets up the client identification protocol and sends this information to the server as long as the session remains active.\n"
   ]
  },
  {
   "cell_type": "code",
   "execution_count": null,
   "metadata": {},
   "outputs": [],
   "source": []
  },
  {
   "cell_type": "raw",
   "metadata": {},
   "source": [
    "QUESTION 10. Consider the following code:\n",
    "df = pd.DataFrame([['a',1,2,3],['b',4,5,6],['c',7,8,9]],\n",
    "                  columns=['name','v1','v2','v3'])\n",
    "df.set_index('name',inplace=True)\n",
    "\n",
    "\tYou need to slice this dataframe to extract:\n",
    "\n",
    "\tv2\tv3\n",
    "b\t5\t6\n",
    "c\t8\t9\n",
    "\n",
    "\tWrite a single statement that does this:\n"
   ]
  },
  {
   "cell_type": "code",
   "execution_count": null,
   "metadata": {},
   "outputs": [],
   "source": [
    "df = pd.DataFrame([['a',1,2,3],['b',4,5,6],['c',7,8,9]],\n",
    "                  columns=['name','v1','v2','v3'])\n",
    "df.set_index('name',inplace=True)\n"
   ]
  },
  {
   "cell_type": "code",
   "execution_count": null,
   "metadata": {},
   "outputs": [],
   "source": [
    "#ANSWER: Use slicing!\n",
    "df.loc['b':'c','v2':'v3']"
   ]
  },
  {
   "cell_type": "code",
   "execution_count": null,
   "metadata": {},
   "outputs": [],
   "source": []
  },
  {
   "cell_type": "markdown",
   "metadata": {},
   "source": [
    "<h2>Programming Questions</h2>"
   ]
  },
  {
   "cell_type": "raw",
   "metadata": {},
   "source": [
    "PROGRAMMING QUESTION 1:\n",
    "\n",
    "Two Coasts Analytics, a data analytics company, has offices in New York and San Francisco. The company has a total of 20,000 employees in its two offices and is undergoing a diversity review. A report requested by the diversity committee is asking for the mean salaries of four groups of employees:\n",
    "\n",
    "G1: Male employees who earn less than or equal to $100,000\n",
    "G2: Female employees who earn less than or equal to $100,000\n",
    "G3: Male employees who earn greater than $100,000\n",
    "G4: Female employees who earn greater than $100,000\n",
    "\n",
    "You’re tasked with generating this report. You’ve managed to load in the relevant data into a pandas data frame named df which contains the following data:\n",
    "\n",
    "Income    20,000 non-null int64\n",
    "City      20,000 non-null object\n",
    "Gender    20,000 non-null object\n",
    "\n",
    "Income is a floating point number. City, a string containing the name of the city. And Gender, a string containing “M” for Male and “F” for Female. \n",
    "\n",
    "Write a function get_diversity_report(df) that takes a dataframe as an argument and returns a pandas dataframe containing the means indexed by the group identifier. Please note the following:\n",
    "\n",
    "Use the pandas groupby function to group the data into the four groups outlined above.\n",
    "For the purposes of this question, you must write a function that does the grouping and then apply this function to the pandas groupby function.\n",
    "\n",
    "\n",
    "\n",
    "\n"
   ]
  },
  {
   "cell_type": "code",
   "execution_count": null,
   "metadata": {},
   "outputs": [],
   "source": [
    "#POSSIBLE SOLUTION\n",
    "def grouping_function(df,x):\n",
    "    if df.loc[x]['Income'] <= 100000 and df.loc[x]['Gender'] == \"M\":\n",
    "        return \"G1\"\n",
    "    elif df.loc[x]['Income'] <= 100000 and df.loc[x]['Gender'] == \"F\":\n",
    "        return \"G2\"\n",
    "    elif df.loc[x]['Income'] > 100000 and df.loc[x]['Gender'] == \"M\":\n",
    "        return \"G3\"\n",
    "    else:\n",
    "        return \"G4\"\n",
    "\n",
    "def get_diversity_report(df):\n",
    "    groups = df.groupby(lambda x: grouping_function(df,x))\n",
    "    return groups.mean()"
   ]
  },
  {
   "cell_type": "code",
   "execution_count": null,
   "metadata": {},
   "outputs": [],
   "source": [
    "#ANOTHER POSSIBLE SOLUTION\n",
    "def grouping_function(income,gender):\n",
    "    if income <= 100000 and gender == \"M\":\n",
    "        return \"G1\"\n",
    "    elif income <= 100000 and gender == \"F\":\n",
    "        return \"G2\"\n",
    "    elif income > 100000 and gender == \"M\":\n",
    "        return \"G3\"\n",
    "    else:\n",
    "        return \"G4\"\n",
    "\n",
    "def get_diversity_report(df):\n",
    "    groups = df.groupby(lambda x: grouping_function(df.loc[x][\"Income\"],df.loc[x][\"Gender\"]))\n",
    "    return groups.mean()"
   ]
  },
  {
   "cell_type": "code",
   "execution_count": null,
   "metadata": {},
   "outputs": [],
   "source": []
  },
  {
   "cell_type": "raw",
   "metadata": {},
   "source": [
    "Programming Question 2:\t\n",
    "Consider the following html fragment collected from the (fake!) url\n",
    "\t\t\t\t\t\t\n",
    "http://www.painful.questions.com/bs4questionfragment\n",
    "\t\t\t\t\t\t\n",
    "<html>\n",
    "<body>\n",
    "<div class=\"people-data\"> \n",
    "<ol class=\"forest\">\n",
    "\t\t\t\t\t\t\n",
    "<li><a href=\"http://www.jack.com\">Jack Hill</a></li> <li><span>20 years</span></li>\n",
    "<li><a href=\"http://www.jillhill.com/mypage\">Jill Hill</a></li> <li><span>21 years</span></li>\t\t\n",
    "<li> ….. Possibly many other li tags with the same structure\t\t\t\t\n",
    "\n",
    "</ol>\t\t\t\t\t\t\n",
    "</div>\n",
    " </body>\t\t\t\t\t\t\n",
    "</html>\n",
    "\t\t\t\t\t\t\n",
    "Write a python function that uses the requests and BeautifulSoup4 libraries to extract a list of tuples containing (name, url, age) from the people-data div tag. For example, given the above fragment, your function should return the content below. Make sure your program works for an arbitrary number of list elements. You don’t have to check for exceptions. \n",
    "\t\t\t\t\t\t\n",
    "[('Jack Hill', 'http://www.jack.com', 20),\n",
    "('Jill Hill', 'http://www.jillhill.com/mypage', 21)] \t\n",
    "\n"
   ]
  },
  {
   "cell_type": "code",
   "execution_count": null,
   "metadata": {},
   "outputs": [],
   "source": [
    "def get_tuple_list(url):\n",
    "    import requests\n",
    "    from bs4 import BeautifulSoup\n",
    "    bs_data = BeautifulSoup(requests.get(url).content,'lxml')\n",
    "    people_data = bs_data.find('div',class_=\"people-data\")\n",
    "    all_li_items = people_data.find_all('li')\n",
    "    list_to_be_returned = list()\n",
    "    for i in range(0,len(all_li_items),2):\n",
    "        name= all_li_items[i].find('a').get_text()\n",
    "        url = all_li_items[i].find('a').get('href')\n",
    "        age = all_li_items[i+1].find('span').get_text().split()[0]\n",
    "        list_to_be_returned.append((name,url,age))\n",
    "    return list_to_be_returned"
   ]
  },
  {
   "cell_type": "code",
   "execution_count": null,
   "metadata": {},
   "outputs": [],
   "source": []
  },
  {
   "cell_type": "raw",
   "metadata": {},
   "source": [
    "Programming Question 3:\n",
    "    \n",
    "An API returns loan data in JSON format from the webserver https://www.loansharks.com. The data returned by the server contains the names of borrowers and the amounts they have borrowed for each loan. Write a python program that accumulates the total amount borrowed by each borrower (assume names are unique) in a dictionary. You don’t need to check for exceptions but the program should return an empty dictionary if the API status is something other than “OK”\n",
    "\n",
    "Sample JSON string returned by the API:\n",
    "\n",
    "{'NUM_ACCESSES': 17,\n",
    " 'RESULT': [{'Amount': 300000, 'LoanId': '001', 'Name': 'John'},\n",
    "  {'Amount': 40000, 'LoanId': '002', 'Name': 'Jill'},\n",
    "  {'Amount': 240000, 'LoanId': '003', 'Name': 'John'}],\n",
    " 'STATUS': 'OK'}\n",
    "\n",
    "Output for this sample:\n",
    "\n",
    "{'Jill': 40000, 'John': 540000}\n",
    "\n",
    "Partial program:\n",
    "\n",
    "import requests\n",
    "api_url = “https://www.loansharks.com/json?data=all”\n",
    "data =    #the rest of the code is your responsibility!\n",
    "\n",
    "\n"
   ]
  },
  {
   "cell_type": "code",
   "execution_count": null,
   "metadata": {},
   "outputs": [],
   "source": [
    "import requests\n",
    "api_url = \"https://www.loansharks.com/json?data=all\"\n",
    "data = requests.get(api_url).json()\n",
    "result = dict()\n",
    "if data['STATUS'] == \"OK\":\n",
    "    for thing in data['RESULT']:\n",
    "        name = thing['Name']\n",
    "        amount = thing['Amount']\n",
    "        if name in result:\n",
    "            result[name] += amount\n",
    "        else:\n",
    "            result[name] = amount        \n",
    "print(result)"
   ]
  },
  {
   "cell_type": "code",
   "execution_count": null,
   "metadata": {},
   "outputs": [],
   "source": []
  }
 ],
 "metadata": {
  "kernelspec": {
   "display_name": "Python 3",
   "language": "python",
   "name": "python3"
  },
  "language_info": {
   "codemirror_mode": {
    "name": "ipython",
    "version": 3
   },
   "file_extension": ".py",
   "mimetype": "text/x-python",
   "name": "python",
   "nbconvert_exporter": "python",
   "pygments_lexer": "ipython3",
   "version": "3.7.0"
  }
 },
 "nbformat": 4,
 "nbformat_minor": 2
}
