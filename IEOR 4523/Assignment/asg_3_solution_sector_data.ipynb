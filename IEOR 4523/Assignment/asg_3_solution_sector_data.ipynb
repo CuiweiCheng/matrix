{
 "cells": [
  {
   "cell_type": "markdown",
   "metadata": {},
   "source": [
    "if you have questions on this assignment, please send me (Achille Mascia) an email achille.mascia@columbia.edu or come see me during my office hours."
   ]
  },
  {
   "cell_type": "markdown",
   "metadata": {},
   "source": [
    "<h1>Scraping Fidelity.com</h1>\n",
    "In this assignment, you will scrape data from fidelity.com. The goal of the exercise is to get the latest sector performance data from the US markets, and to get the total market capitalization for each sector. \n",
    "\n",
    "The end result is to write a function: <i>get_us_sector_performance()</i> that will return a list of tuples. Each tuple should correspond to a sector and should contain the following data:\n",
    "<li>the sector name\n",
    "<li>the amount the sector has moved\n",
    "<li>the market capitalization of the sector\n",
    "<li>the market weight of the sector\n",
    "<li>a link to the fidelity page for that sector\n",
    "\n",
    "<p>\n",
    "The data should be sorted by decreasing order of market weight. I.e., the sector with the highest weight should be in the first tuple, etc."
   ]
  },
  {
   "cell_type": "markdown",
   "metadata": {},
   "source": [
    "<h3>Process</h3>\n",
    "<li>Get a list of sectors and the links to the sector detail pages from the url (see function)\n",
    "<li>Loop through the list and call the function <i>get_sector_change_and_market_cap(sector_page_link)</i> for each sector\n",
    "<li>Accumulate the name, the change, the capitalization, the weight and the link for each sector in output_list (see function)\n",
    "<li>Sort the list by market weight"
   ]
  },
  {
   "cell_type": "markdown",
   "metadata": {},
   "source": [
    "<b>Notes:</b>\n",
    "<li>Note that the market weight is a string with a % sign at the back. You will need to get rid of the % and convert the string into a float before you can sort it\n",
    "<li>Your starting data is the url listed below. You need to extract all data, including links to the sector pages, from the page at this url\n",
    "<li>To sort a list of tuples by an arbitrary element, use the example at the bottom of this notebook"
   ]
  },
  {
   "cell_type": "code",
   "execution_count": 8,
   "metadata": {},
   "outputs": [],
   "source": [
    "def get_us_sector_performance():\n",
    "    output_list = list()\n",
    "    url = \"https://eresearch.fidelity.com/eresearch/goto/markets_sectors/landing.jhtml\"\n",
    "\n",
    "    import requests\n",
    "    from bs4 import BeautifulSoup\n",
    "    \n",
    "    try:\n",
    "        response = requests.get(url)\n",
    "        if response.status_code == 200:\n",
    "            page_data_soup = BeautifulSoup(response.content, 'lxml')\n",
    "            \n",
    "            table = page_data_soup.find('div', class_='performance-section').find('table').find_all('div', class_='heading')\n",
    "            \n",
    "            sector_list = [x.get_text() for x in table]\n",
    "            link_list = ['https://eresearch.fidelity.com/' + x.find('a').get('href') for x in table]\n",
    "            \n",
    "            change_list = []\n",
    "            market_list = []\n",
    "            market_weight_list = []\n",
    "                \n",
    "            \n",
    "            for link in link_list:\n",
    "                sector_change,sector_market_cap,sector_market_weight = get_sector_change_and_market_cap(link)\n",
    "                change_list.append(sector_change)\n",
    "                market_list.append(sector_market_cap)\n",
    "                market_weight_list.append(sector_market_weight)\n",
    "             \n",
    "            output_list = list(zip(sector_list, change_list, market_list, market_weight_list, link_list))\n",
    "\n",
    "    except:\n",
    "        return 'None'\n",
    "    \n",
    "    output_list.sort(key = lambda x: x[3], reverse = True)\n",
    "\n",
    "    return output_list\n",
    "    "
   ]
  },
  {
   "cell_type": "code",
   "execution_count": 9,
   "metadata": {},
   "outputs": [],
   "source": [
    "def get_sector_change_and_market_cap(sector_page_link):\n",
    "    import requests\n",
    "    from bs4 import BeautifulSoup\n",
    "    \n",
    "    try:\n",
    "        response = requests.get(sector_page_link)\n",
    "        if response.status_code == 200:\n",
    "            page_data_soup = BeautifulSoup(response.content, 'lxml')\n",
    "            \n",
    "            table = page_data_soup.find('div', class_ = 'tab-content-wrapper').find('table').find('tbody')\n",
    "\n",
    "            sector_change = float(table.find('span').get_text().strip('%').strip('+'))\n",
    "\n",
    "            sector_market_cap = table.find_all('span')[2].get_text()\n",
    "\n",
    "            sector_market_weight = float(table.find('td', class_= 'left-spcng').find('span').get_text().strip('%'))\n",
    "    except:\n",
    "        return 'None'\n",
    "        \n",
    "    return sector_change,sector_market_cap,sector_market_weight"
   ]
  },
  {
   "cell_type": "code",
   "execution_count": 10,
   "metadata": {},
   "outputs": [
    {
     "name": "stdout",
     "output_type": "stream",
     "text": [
      "(-1.9, '$4.78T', 10.0)\n"
     ]
    }
   ],
   "source": [
    "#Test get_sector_change_and_market_cap()\n",
    "link = \"https://eresearch.fidelity.com/eresearch/markets_sectors/sectors/sectors_in_market.jhtml?tab=learn&sector=25\"\n",
    "print(get_sector_change_and_market_cap(link))"
   ]
  },
  {
   "cell_type": "code",
   "execution_count": 11,
   "metadata": {},
   "outputs": [
    {
     "data": {
      "text/plain": [
       "[('Information Technology',\n",
       "  -2.01,\n",
       "  '$7.25T',\n",
       "  20.83,\n",
       "  'https://eresearch.fidelity.com//eresearch/markets_sectors/sectors/sectors_in_market.jhtml?tab=learn&sector=45'),\n",
       " ('Health Care',\n",
       "  -1.56,\n",
       "  '$5.68T',\n",
       "  15.14,\n",
       "  'https://eresearch.fidelity.com//eresearch/markets_sectors/sectors/sectors_in_market.jhtml?tab=learn&sector=35'),\n",
       " ('Financials',\n",
       "  -1.49,\n",
       "  '$7.15T',\n",
       "  13.43,\n",
       "  'https://eresearch.fidelity.com//eresearch/markets_sectors/sectors/sectors_in_market.jhtml?tab=learn&sector=40'),\n",
       " ('Communication Services',\n",
       "  -1.93,\n",
       "  '$4.65T',\n",
       "  10.0,\n",
       "  'https://eresearch.fidelity.com//eresearch/markets_sectors/sectors/sectors_in_market.jhtml?tab=learn&sector=50'),\n",
       " ('Consumer Discretionary',\n",
       "  -1.92,\n",
       "  '$4.78T',\n",
       "  10.0,\n",
       "  'https://eresearch.fidelity.com//eresearch/markets_sectors/sectors/sectors_in_market.jhtml?tab=learn&sector=25'),\n",
       " ('Industrials',\n",
       "  -1.89,\n",
       "  '$4.04T',\n",
       "  9.65,\n",
       "  'https://eresearch.fidelity.com//eresearch/markets_sectors/sectors/sectors_in_market.jhtml?tab=learn&sector=20'),\n",
       " ('Consumer Staples',\n",
       "  -0.26,\n",
       "  '$3.47T',\n",
       "  6.86,\n",
       "  'https://eresearch.fidelity.com//eresearch/markets_sectors/sectors/sectors_in_market.jhtml?tab=learn&sector=30'),\n",
       " ('Energy',\n",
       "  -0.62,\n",
       "  '$3.90T',\n",
       "  6.07,\n",
       "  'https://eresearch.fidelity.com//eresearch/markets_sectors/sectors/sectors_in_market.jhtml?tab=learn&sector=10'),\n",
       " ('Utilities',\n",
       "  -0.26,\n",
       "  '$1.23T',\n",
       "  3.0,\n",
       "  'https://eresearch.fidelity.com//eresearch/markets_sectors/sectors/sectors_in_market.jhtml?tab=learn&sector=55'),\n",
       " ('Real Estate',\n",
       "  -0.14,\n",
       "  '$1.11T',\n",
       "  2.64,\n",
       "  'https://eresearch.fidelity.com//eresearch/markets_sectors/sectors/sectors_in_market.jhtml?tab=learn&sector=60'),\n",
       " ('Materials',\n",
       "  -1.2,\n",
       "  '$1.87T',\n",
       "  2.38,\n",
       "  'https://eresearch.fidelity.com//eresearch/markets_sectors/sectors/sectors_in_market.jhtml?tab=learn&sector=15')]"
      ]
     },
     "execution_count": 11,
     "metadata": {},
     "output_type": "execute_result"
    }
   ],
   "source": [
    "#Test get_us_sector_performance()\n",
    "get_us_sector_performance()"
   ]
  },
  {
   "cell_type": "code",
   "execution_count": null,
   "metadata": {},
   "outputs": [],
   "source": []
  },
  {
   "cell_type": "code",
   "execution_count": null,
   "metadata": {},
   "outputs": [],
   "source": []
  },
  {
   "cell_type": "code",
   "execution_count": null,
   "metadata": {},
   "outputs": [],
   "source": []
  }
 ],
 "metadata": {
  "kernelspec": {
   "display_name": "Python 3",
   "language": "python",
   "name": "python3"
  },
  "language_info": {
   "codemirror_mode": {
    "name": "ipython",
    "version": 3
   },
   "file_extension": ".py",
   "mimetype": "text/x-python",
   "name": "python",
   "nbconvert_exporter": "python",
   "pygments_lexer": "ipython3",
   "version": "3.6.5"
  }
 },
 "nbformat": 4,
 "nbformat_minor": 2
}
