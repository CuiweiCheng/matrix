{
 "cells": [
  {
   "cell_type": "markdown",
   "metadata": {},
   "source": [
    "<h2>Caveat</h2>\n",
    "Web sites often change the format of their pages so this may not always work. If it doesn't, rework the examples after examining the html content of the page (most browsers will let you see the html source - look for a \"page source\" option - though you might have to turn on the developer mode in your browser preferences. For example, on Chrome you need to click the \"developer mode\" check box under Extensions in the Preferences/Options menu. "
   ]
  },
  {
   "cell_type": "markdown",
   "metadata": {},
   "source": [
    "<h1>Scraping web pages</h1>\n",
    "<li>Most data that resides on the web is in HTML \n",
    "<li>HTML: HyperText Markup Language\n",
    "<li>An html web page is a structured document\n",
    "<li>We can exploit this structure to extract data from the page"
   ]
  },
  {
   "cell_type": "markdown",
   "metadata": {},
   "source": [
    "<li>Learn html and css at <a href=\"https://www.khanacademy.org/computing/computer-programming/html-css\">this site</a>"
   ]
  },
  {
   "cell_type": "markdown",
   "metadata": {},
   "source": [
    "<b>Web scraping</b>: Automating the process of extracting information from web pages<br>\n",
    "<li>for data collection and analysis\n",
    "<li>for incorporating in a web app "
   ]
  },
  {
   "cell_type": "markdown",
   "metadata": {},
   "source": [
    "<h2>Python libraries for web scraping</h2>\n",
    "<li><b>requests</b> for handling the request-response cycle\n",
    "<li><b>beautifulsoup4</b> for extracting data from an html string\n",
    "<li><b>selenium</b> for extracting data from an html string and managing the response process, particularly when a page contains JavaScript or when a button needs to be clicked"
   ]
  },
  {
   "cell_type": "markdown",
   "metadata": {},
   "source": [
    "<h2>Beautiful Soup</h2>\n",
    "<li>html and xml parser\n",
    "<li>makes use of formatted html tags and css properties to extract data\n",
    "<li>https://www.crummy.com/software/BeautifulSoup/bs4/doc/"
   ]
  },
  {
   "cell_type": "markdown",
   "metadata": {},
   "source": [
    "<h2>Web scraping using beautifulsoup4</h2>"
   ]
  },
  {
   "cell_type": "markdown",
   "metadata": {},
   "source": [
    "<h3>Import necessary modules</h3>"
   ]
  },
  {
   "cell_type": "code",
   "execution_count": 2,
   "metadata": {},
   "outputs": [],
   "source": [
    "import requests\n",
    "from bs4 import BeautifulSoup"
   ]
  },
  {
   "cell_type": "markdown",
   "metadata": {},
   "source": [
    "<h3>The http request response cycle</h3>"
   ]
  },
  {
   "cell_type": "code",
   "execution_count": 3,
   "metadata": {},
   "outputs": [
    {
     "name": "stdout",
     "output_type": "stream",
     "text": [
      "Success\n"
     ]
    }
   ],
   "source": [
    "url = \"http://www.epicurious.com/search/Tofu Chili\"\n",
    "response = requests.get(url)\n",
    "if response.status_code == 200:\n",
    "    print(\"Success\")\n",
    "else:\n",
    "    print(\"Failure\")"
   ]
  },
  {
   "cell_type": "code",
   "execution_count": 4,
   "metadata": {},
   "outputs": [
    {
     "name": "stdout",
     "output_type": "stream",
     "text": [
      "Please enter the things you want to see in a recipe \n",
      "Success\n"
     ]
    }
   ],
   "source": [
    "keywords = input(\"Please enter the things you want to see in a recipe \")\n",
    "url = \"http://www.epicurious.com/search/\" + keywords\n",
    "response = requests.get(url)\n",
    "if response.status_code == 200:\n",
    "    print(\"Success\")\n",
    "else:\n",
    "    print(\"Failure\")"
   ]
  },
  {
   "cell_type": "markdown",
   "metadata": {},
   "source": [
    "<h3>Set up the BeautifulSoup object</h3>"
   ]
  },
  {
   "cell_type": "code",
   "execution_count": 5,
   "metadata": {},
   "outputs": [
    {
     "name": "stdout",
     "output_type": "stream",
     "text": [
      "<class 'bs4.BeautifulSoup'>\n"
     ]
    }
   ],
   "source": [
    "results_page = BeautifulSoup(response.content,'lxml')\n",
    "print(type(results_page))\n",
    "#print(results_page.prettify())"
   ]
  },
  {
   "cell_type": "code",
   "execution_count": null,
   "metadata": {},
   "outputs": [],
   "source": []
  },
  {
   "cell_type": "markdown",
   "metadata": {},
   "source": [
    "<h3>BS4 functions</h3>"
   ]
  },
  {
   "cell_type": "markdown",
   "metadata": {},
   "source": [
    "<h4>find_all finds all instances of a specified tag</h4>\n",
    "<h4>returns a result_set (a list)</h4>"
   ]
  },
  {
   "cell_type": "code",
   "execution_count": 6,
   "metadata": {},
   "outputs": [
    {
     "name": "stdout",
     "output_type": "stream",
     "text": [
      "<class 'bs4.element.ResultSet'>\n"
     ]
    }
   ],
   "source": [
    "all_a_tags = results_page.find_all('a')\n",
    "print(type(all_a_tags))"
   ]
  },
  {
   "cell_type": "code",
   "execution_count": 7,
   "metadata": {},
   "outputs": [
    {
     "data": {
      "text/plain": [
       "[<a data-reactid=\"5\" href=\"/\" itemprop=\"url\" title=\"Epicurious\">Epicurious</a>,\n",
       " <a data-reactid=\"71\" href=\"/holidays-events/christmas-ham-and-holiday-pork-roast-recipes-gallery\">Our Best Christmas Hams and Pork Roasts</a>,\n",
       " <a class=\"photo-link\" data-reactid=\"73\" href=\"/holidays-events/christmas-ham-and-holiday-pork-roast-recipes-gallery\"><div class=\"photo-wrap\" data-reactid=\"74\"><div class=\"component-lazy pending\" data-component=\"Lazy\" data-reactid=\"75\"></div></div></a>,\n",
       " <a class=\"view-complete-item\" data-reactid=\"76\" href=\"/holidays-events/christmas-ham-and-holiday-pork-roast-recipes-gallery\" itemprop=\"url\" title=\"Our Best Christmas Hams and Pork Roasts\"><!-- react-text: 77 -->View “<!-- /react-text --><!-- react-text: 78 -->Our Best Christmas Hams and Pork Roasts<!-- /react-text --><!-- react-text: 79 -->”<!-- /react-text --></a>,\n",
       " <a data-reactid=\"84\" href=\"/expert-advice/gifts-for-francophiles-article\">13 Food &amp; Cooking Gifts for Francophiles</a>,\n",
       " <a class=\"photo-link\" data-reactid=\"86\" href=\"/expert-advice/gifts-for-francophiles-article\"><div class=\"photo-wrap\" data-reactid=\"87\"><div class=\"component-lazy pending\" data-component=\"Lazy\" data-reactid=\"88\"></div></div></a>,\n",
       " <a class=\"view-complete-item\" data-reactid=\"89\" href=\"/expert-advice/gifts-for-francophiles-article\" itemprop=\"url\" title=\"13 Food &amp; Cooking Gifts for Francophiles\"><!-- react-text: 90 -->View “<!-- /react-text --><!-- react-text: 91 -->13 Food &amp; Cooking Gifts for Francophiles<!-- /react-text --><!-- react-text: 92 -->”<!-- /react-text --></a>,\n",
       " <a data-reactid=\"97\" href=\"/recipes-menus/weekly-meal-plan-kid-friendly-filipino-pork-stew-and-tandoori-inspired-chicken-article\">Weekly Meal Plan: December 10–14</a>,\n",
       " <a class=\"photo-link\" data-reactid=\"99\" href=\"/recipes-menus/weekly-meal-plan-kid-friendly-filipino-pork-stew-and-tandoori-inspired-chicken-article\"><div class=\"photo-wrap\" data-reactid=\"100\"><div class=\"component-lazy pending\" data-component=\"Lazy\" data-reactid=\"101\"></div></div></a>,\n",
       " <a class=\"view-complete-item\" data-reactid=\"102\" href=\"/recipes-menus/weekly-meal-plan-kid-friendly-filipino-pork-stew-and-tandoori-inspired-chicken-article\" itemprop=\"url\" title=\"Weekly Meal Plan: December 10–14\"><!-- react-text: 103 -->View “<!-- /react-text --><!-- react-text: 104 -->Weekly Meal Plan: December 10–14<!-- /react-text --><!-- react-text: 105 -->”<!-- /react-text --></a>,\n",
       " <a data-reactid=\"110\" href=\"/holidays-events/festive-wintery-christmas-appetizer-recipes-gallery\">76 Festive, Wintery Appetizer Recipes</a>,\n",
       " <a class=\"photo-link\" data-reactid=\"112\" href=\"/holidays-events/festive-wintery-christmas-appetizer-recipes-gallery\"><div class=\"photo-wrap\" data-reactid=\"113\"><div class=\"component-lazy pending\" data-component=\"Lazy\" data-reactid=\"114\"></div></div></a>,\n",
       " <a class=\"view-complete-item\" data-reactid=\"115\" href=\"/holidays-events/festive-wintery-christmas-appetizer-recipes-gallery\" itemprop=\"url\" title=\"76 Festive, Wintery Appetizer Recipes\"><!-- react-text: 116 -->View “<!-- /react-text --><!-- react-text: 117 -->76 Festive, Wintery Appetizer Recipes<!-- /react-text --><!-- react-text: 118 -->”<!-- /react-text --></a>,\n",
       " <a data-reactid=\"123\" href=\"/expert-advice/stocking-stuffer-ideas-article\">8 Stocking Stuffer Ideas for Food Lovers</a>,\n",
       " <a class=\"photo-link\" data-reactid=\"125\" href=\"/expert-advice/stocking-stuffer-ideas-article\"><div class=\"photo-wrap\" data-reactid=\"126\"><div class=\"component-lazy pending\" data-component=\"Lazy\" data-reactid=\"127\"></div></div></a>,\n",
       " <a class=\"view-complete-item\" data-reactid=\"128\" href=\"/expert-advice/stocking-stuffer-ideas-article\" itemprop=\"url\" title=\"8 Stocking Stuffer Ideas for Food Lovers\"><!-- react-text: 129 -->View “<!-- /react-text --><!-- react-text: 130 -->8 Stocking Stuffer Ideas for Food Lovers<!-- /react-text --><!-- react-text: 131 -->”<!-- /react-text --></a>,\n",
       " <a data-reactid=\"136\" href=\"/expert-advice/the-best-cooking-gifts-for-kids-article\">The Best Cooking and Food Gifts for Kids</a>,\n",
       " <a class=\"photo-link\" data-reactid=\"138\" href=\"/expert-advice/the-best-cooking-gifts-for-kids-article\"><div class=\"photo-wrap\" data-reactid=\"139\"><div class=\"component-lazy pending\" data-component=\"Lazy\" data-reactid=\"140\"></div></div></a>,\n",
       " <a class=\"view-complete-item\" data-reactid=\"141\" href=\"/expert-advice/the-best-cooking-gifts-for-kids-article\" itemprop=\"url\" title=\"The Best Cooking and Food Gifts for Kids\"><!-- react-text: 142 -->View “<!-- /react-text --><!-- react-text: 143 -->The Best Cooking and Food Gifts for Kids<!-- /react-text --><!-- react-text: 144 -->”<!-- /react-text --></a>,\n",
       " <a data-reactid=\"149\" href=\"/recipes-menus/what-to-cook-this-weekend-december-7-9-gallery\">What to Cook This Weekend: December 7–9</a>,\n",
       " <a class=\"photo-link\" data-reactid=\"151\" href=\"/recipes-menus/what-to-cook-this-weekend-december-7-9-gallery\"><div class=\"photo-wrap\" data-reactid=\"152\"><div class=\"component-lazy pending\" data-component=\"Lazy\" data-reactid=\"153\"></div></div></a>,\n",
       " <a class=\"view-complete-item\" data-reactid=\"154\" href=\"/recipes-menus/what-to-cook-this-weekend-december-7-9-gallery\" itemprop=\"url\" title=\"What to Cook This Weekend: December 7–9\"><!-- react-text: 155 -->View “<!-- /react-text --><!-- react-text: 156 -->What to Cook This Weekend: December 7–9<!-- /react-text --><!-- react-text: 157 -->”<!-- /react-text --></a>,\n",
       " <a data-reactid=\"162\" href=\"/expert-advice/gifts-for-coffee-lovers-article\">10 Gifts for the Coffee Lovers in Your Life</a>,\n",
       " <a class=\"photo-link\" data-reactid=\"164\" href=\"/expert-advice/gifts-for-coffee-lovers-article\"><div class=\"photo-wrap\" data-reactid=\"165\"><div class=\"component-lazy pending\" data-component=\"Lazy\" data-reactid=\"166\"></div></div></a>,\n",
       " <a class=\"view-complete-item\" data-reactid=\"167\" href=\"/expert-advice/gifts-for-coffee-lovers-article\" itemprop=\"url\" title=\"10 Gifts for the Coffee Lovers in Your Life\"><!-- react-text: 168 -->View “<!-- /react-text --><!-- react-text: 169 -->10 Gifts for the Coffee Lovers in Your Life<!-- /react-text --><!-- react-text: 170 -->”<!-- /react-text --></a>,\n",
       " <a data-reactid=\"175\" href=\"/holidays-events/christmas-dinner-main-dish-recipes-gallery\">Our 43 Best Christmas Entrées</a>,\n",
       " <a class=\"photo-link\" data-reactid=\"177\" href=\"/holidays-events/christmas-dinner-main-dish-recipes-gallery\"><div class=\"photo-wrap\" data-reactid=\"178\"><div class=\"component-lazy pending\" data-component=\"Lazy\" data-reactid=\"179\"></div></div></a>,\n",
       " <a class=\"view-complete-item\" data-reactid=\"180\" href=\"/holidays-events/christmas-dinner-main-dish-recipes-gallery\" itemprop=\"url\" title=\"Our 43 Best Christmas Entrées\"><!-- react-text: 181 -->View “<!-- /react-text --><!-- react-text: 182 -->Our 43 Best Christmas Entrées<!-- /react-text --><!-- react-text: 183 -->”<!-- /react-text --></a>,\n",
       " <a data-reactid=\"188\" href=\"/about/our-favorite-gear-of-the-year-article\">The Best Products We Reviewed This Year</a>,\n",
       " <a class=\"photo-link\" data-reactid=\"190\" href=\"/about/our-favorite-gear-of-the-year-article\"><div class=\"photo-wrap\" data-reactid=\"191\"><div class=\"component-lazy pending\" data-component=\"Lazy\" data-reactid=\"192\"></div></div></a>,\n",
       " <a class=\"view-complete-item\" data-reactid=\"193\" href=\"/about/our-favorite-gear-of-the-year-article\" itemprop=\"url\" title=\"The Best Products We Reviewed This Year\"><!-- react-text: 194 -->View “<!-- /react-text --><!-- react-text: 195 -->The Best Products We Reviewed This Year<!-- /react-text --><!-- react-text: 196 -->”<!-- /react-text --></a>,\n",
       " <a data-reactid=\"201\" href=\"/ingredients/our-favorite-foods-of-the-year-article\">Our Favorite Foods of the Year </a>,\n",
       " <a class=\"photo-link\" data-reactid=\"203\" href=\"/ingredients/our-favorite-foods-of-the-year-article\"><div class=\"photo-wrap\" data-reactid=\"204\"><div class=\"component-lazy pending\" data-component=\"Lazy\" data-reactid=\"205\"></div></div></a>,\n",
       " <a class=\"view-complete-item\" data-reactid=\"206\" href=\"/ingredients/our-favorite-foods-of-the-year-article\" itemprop=\"url\" title=\"Our Favorite Foods of the Year \"><!-- react-text: 207 -->View “<!-- /react-text --><!-- react-text: 208 -->Our Favorite Foods of the Year <!-- /react-text --><!-- react-text: 209 -->”<!-- /react-text --></a>,\n",
       " <a data-reactid=\"214\" href=\"/recipes-menus/vegetarian-appetizer-and-hors-doeuvre-recipes-gallery\">Our Best Vegetarian Appetizers </a>,\n",
       " <a class=\"photo-link\" data-reactid=\"216\" href=\"/recipes-menus/vegetarian-appetizer-and-hors-doeuvre-recipes-gallery\"><div class=\"photo-wrap\" data-reactid=\"217\"><div class=\"component-lazy pending\" data-component=\"Lazy\" data-reactid=\"218\"></div></div></a>,\n",
       " <a class=\"view-complete-item\" data-reactid=\"219\" href=\"/recipes-menus/vegetarian-appetizer-and-hors-doeuvre-recipes-gallery\" itemprop=\"url\" title=\"Our Best Vegetarian Appetizers \"><!-- react-text: 220 -->View “<!-- /react-text --><!-- react-text: 221 -->Our Best Vegetarian Appetizers <!-- /react-text --><!-- react-text: 222 -->”<!-- /react-text --></a>,\n",
       " <a data-reactid=\"227\" href=\"/expert-advice/tea-gifts-article\">The Best Gifts for Tea Lovers</a>,\n",
       " <a class=\"photo-link\" data-reactid=\"229\" href=\"/expert-advice/tea-gifts-article\"><div class=\"photo-wrap\" data-reactid=\"230\"><div class=\"component-lazy pending\" data-component=\"Lazy\" data-reactid=\"231\"></div></div></a>,\n",
       " <a class=\"view-complete-item\" data-reactid=\"232\" href=\"/expert-advice/tea-gifts-article\" itemprop=\"url\" title=\"The Best Gifts for Tea Lovers\"><!-- react-text: 233 -->View “<!-- /react-text --><!-- react-text: 234 -->The Best Gifts for Tea Lovers<!-- /react-text --><!-- react-text: 235 -->”<!-- /react-text --></a>,\n",
       " <a data-reactid=\"240\" href=\"/holidays-events/the-best-cookbook-gifts-article\">The Best Cookbooks to Give as Gifts </a>,\n",
       " <a class=\"photo-link\" data-reactid=\"242\" href=\"/holidays-events/the-best-cookbook-gifts-article\"><div class=\"photo-wrap\" data-reactid=\"243\"><div class=\"component-lazy pending\" data-component=\"Lazy\" data-reactid=\"244\"></div></div></a>,\n",
       " <a class=\"view-complete-item\" data-reactid=\"245\" href=\"/holidays-events/the-best-cookbook-gifts-article\" itemprop=\"url\" title=\"The Best Cookbooks to Give as Gifts \"><!-- react-text: 246 -->View “<!-- /react-text --><!-- react-text: 247 -->The Best Cookbooks to Give as Gifts <!-- /react-text --><!-- react-text: 248 -->”<!-- /react-text --></a>,\n",
       " <a data-reactid=\"253\" href=\"/expert-advice/side-dish-recipes-to-pair-with-ham-from-mac-and-cheese-to-green-beans-and-casseroles-gallery\">101 Side Dish Recipes to Pair With Ham</a>,\n",
       " <a class=\"photo-link\" data-reactid=\"255\" href=\"/expert-advice/side-dish-recipes-to-pair-with-ham-from-mac-and-cheese-to-green-beans-and-casseroles-gallery\"><div class=\"photo-wrap\" data-reactid=\"256\"><div class=\"component-lazy pending\" data-component=\"Lazy\" data-reactid=\"257\"></div></div></a>,\n",
       " <a class=\"view-complete-item\" data-reactid=\"258\" href=\"/expert-advice/side-dish-recipes-to-pair-with-ham-from-mac-and-cheese-to-green-beans-and-casseroles-gallery\" itemprop=\"url\" title=\"101 Side Dish Recipes to Pair With Ham\"><!-- react-text: 259 -->View “<!-- /react-text --><!-- react-text: 260 -->101 Side Dish Recipes to Pair With Ham<!-- /react-text --><!-- react-text: 261 -->”<!-- /react-text --></a>,\n",
       " <a data-reactid=\"266\" href=\"/holidays-events/baking-gift-guide-article\">The Best Baking Gifts, According to an Expert</a>,\n",
       " <a class=\"photo-link\" data-reactid=\"268\" href=\"/holidays-events/baking-gift-guide-article\"><div class=\"photo-wrap\" data-reactid=\"269\"><div class=\"component-lazy pending\" data-component=\"Lazy\" data-reactid=\"270\"></div></div></a>,\n",
       " <a class=\"view-complete-item\" data-reactid=\"271\" href=\"/holidays-events/baking-gift-guide-article\" itemprop=\"url\" title=\"The Best Baking Gifts, According to an Expert\"><!-- react-text: 272 -->View “<!-- /react-text --><!-- react-text: 273 -->The Best Baking Gifts, According to an Expert<!-- /react-text --><!-- react-text: 274 -->”<!-- /react-text --></a>,\n",
       " <a data-reactid=\"279\" href=\"/expert-advice/cheese-photography-melt-stretch-and-sizzle-article\">The Hot and Saucy Photography of Melt, Stretch, &amp; Sizzle</a>,\n",
       " <a class=\"photo-link\" data-reactid=\"281\" href=\"/expert-advice/cheese-photography-melt-stretch-and-sizzle-article\"><div class=\"photo-wrap\" data-reactid=\"282\"><div class=\"component-lazy pending\" data-component=\"Lazy\" data-reactid=\"283\"></div></div></a>,\n",
       " <a class=\"view-complete-item\" data-reactid=\"284\" href=\"/expert-advice/cheese-photography-melt-stretch-and-sizzle-article\" itemprop=\"url\" title=\"The Hot and Saucy Photography of Melt, Stretch, &amp; Sizzle\"><!-- react-text: 285 -->View “<!-- /react-text --><!-- react-text: 286 -->The Hot and Saucy Photography of Melt, Stretch, &amp; Sizzle<!-- /react-text --><!-- react-text: 287 -->”<!-- /react-text --></a>,\n",
       " <a data-reactid=\"292\" href=\"/recipes-menus/italian-appetizer-recipes-gallery\">41 Italian Appetizer Recipes</a>,\n",
       " <a class=\"photo-link\" data-reactid=\"294\" href=\"/recipes-menus/italian-appetizer-recipes-gallery\"><div class=\"photo-wrap\" data-reactid=\"295\"><div class=\"component-lazy pending\" data-component=\"Lazy\" data-reactid=\"296\"></div></div></a>,\n",
       " <a class=\"view-complete-item\" data-reactid=\"297\" href=\"/recipes-menus/italian-appetizer-recipes-gallery\" itemprop=\"url\" title=\"41 Italian Appetizer Recipes\"><!-- react-text: 298 -->View “<!-- /react-text --><!-- react-text: 299 -->41 Italian Appetizer Recipes<!-- /react-text --><!-- react-text: 300 -->”<!-- /react-text --></a>,\n",
       " <a class=\"a-next-page\" data-reactid=\"308\" href=\"/search/?page=2\" rel=\"nofollow\" title=\"page 2\">2</a>,\n",
       " <a class=\"a-next-page\" data-reactid=\"309\" href=\"/search/?page=3\" rel=\"nofollow\" title=\"page 3\">3</a>,\n",
       " <a class=\"a-next-page\" data-reactid=\"310\" href=\"/search/?page=4\" rel=\"nofollow\" title=\"page 4\">4</a>,\n",
       " <a class=\"a-next-page\" data-reactid=\"311\" href=\"/search/?page=5\" rel=\"nofollow\" title=\"page 5\">5</a>,\n",
       " <a class=\"a-next-page\" data-reactid=\"312\" href=\"/search/?page=6\" rel=\"nofollow\" title=\"page 6\">6</a>,\n",
       " <a class=\"last-page\" data-reactid=\"313\" href=\"/search/?page=2321\" rel=\"nofollow\" title=\"page 2321\">2321</a>,\n",
       " <a class=\"the-next-page\" data-reactid=\"314\" href=\"/search/?page=2\" rel=\"next\" title=\"(next) page 2\">next</a>,\n",
       " <a class=\"conde-nast-brand\" data-reactid=\"325\" data-track-location=\"footer\" data-track-source=\"navigation\" href=\"http://www.allure.com\" rel=\"noopener noreferrer\" target=\"_blank\" title=\"Allure\">Allure</a>,\n",
       " <a class=\"conde-nast-brand\" data-reactid=\"327\" data-track-location=\"footer\" data-track-source=\"navigation\" href=\"http://www.architecturaldigest.com\" rel=\"noopener noreferrer\" target=\"_blank\" title=\"Architectural Digest\">Architectural Digest</a>,\n",
       " <a class=\"conde-nast-brand\" data-reactid=\"329\" data-track-location=\"footer\" data-track-source=\"navigation\" href=\"http://www.arstechnica.com\" rel=\"noopener noreferrer\" target=\"_blank\" title=\"Ars Technica\">Ars Technica</a>,\n",
       " <a class=\"conde-nast-brand\" data-reactid=\"331\" data-track-location=\"footer\" data-track-source=\"navigation\" href=\"http://www.bonappetit.com\" rel=\"noopener noreferrer\" target=\"_blank\" title=\"Bon Appétit\">Bon Appétit</a>,\n",
       " <a class=\"conde-nast-brand\" data-reactid=\"333\" data-track-location=\"footer\" data-track-source=\"navigation\" href=\"http://www.brides.com\" rel=\"noopener noreferrer\" target=\"_blank\" title=\"Brides.com\">Brides.com</a>,\n",
       " <a class=\"conde-nast-brand\" data-reactid=\"335\" data-track-location=\"footer\" data-track-source=\"navigation\" href=\"http://www.concierge.com/cntraveler\" rel=\"noopener noreferrer\" target=\"_blank\" title=\"Condé Nast Traveler\">Condé Nast Traveler</a>,\n",
       " <a class=\"conde-nast-brand\" data-reactid=\"337\" data-track-location=\"footer\" data-track-source=\"navigation\" href=\"http://www.concierge.com\" rel=\"noopener noreferrer\" target=\"_blank\" title=\"Concierge\">Concierge</a>,\n",
       " <a class=\"conde-nast-brand\" data-reactid=\"339\" data-track-location=\"footer\" data-track-source=\"navigation\" href=\"http://www.details.com\" rel=\"noopener noreferrer\" target=\"_blank\" title=\"Details\">Details</a>,\n",
       " <a class=\"conde-nast-brand\" data-reactid=\"341\" data-track-location=\"footer\" data-track-source=\"navigation\" href=\"http://www.glamour.com\" rel=\"noopener noreferrer\" target=\"_blank\" title=\"Glamour\">Glamour</a>,\n",
       " <a class=\"conde-nast-brand\" data-reactid=\"343\" data-track-location=\"footer\" data-track-source=\"navigation\" href=\"http://www.golfdigest.com\" rel=\"noopener noreferrer\" target=\"_blank\" title=\"Golf Digest\">Golf Digest</a>,\n",
       " <a class=\"conde-nast-brand\" data-reactid=\"345\" data-track-location=\"footer\" data-track-source=\"navigation\" href=\"http://www.golfworld.com\" rel=\"noopener noreferrer\" target=\"_blank\" title=\"Golf World\">Golf World</a>,\n",
       " <a class=\"conde-nast-brand\" data-reactid=\"347\" data-track-location=\"footer\" data-track-source=\"navigation\" href=\"http://www.gq.com\" rel=\"noopener noreferrer\" target=\"_blank\" title=\"GQ\">GQ</a>,\n",
       " <a class=\"conde-nast-brand\" data-reactid=\"349\" data-track-location=\"footer\" data-track-source=\"navigation\" href=\"http://www.hotelchatter.com\" rel=\"noopener noreferrer\" target=\"_blank\" title=\"Hotel Chatter\">Hotel Chatter</a>,\n",
       " <a class=\"conde-nast-brand\" data-reactid=\"351\" data-track-location=\"footer\" data-track-source=\"navigation\" href=\"http://www.jaunted.com\" rel=\"noopener noreferrer\" target=\"_blank\" title=\"Jaunted\">Jaunted</a>,\n",
       " <a class=\"conde-nast-brand\" data-reactid=\"353\" data-track-location=\"footer\" data-track-source=\"navigation\" href=\"http://www.luckymag.com\" rel=\"noopener noreferrer\" target=\"_blank\" title=\"Lucky\">Lucky</a>,\n",
       " <a class=\"conde-nast-brand\" data-reactid=\"355\" data-track-location=\"footer\" data-track-source=\"navigation\" href=\"http://www.nutritiondata.com\" rel=\"noopener noreferrer\" target=\"_blank\" title=\"NutritionData\">NutritionData</a>,\n",
       " <a class=\"conde-nast-brand\" data-reactid=\"357\" data-track-location=\"footer\" data-track-source=\"navigation\" href=\"http://www.reddit.com\" rel=\"noopener noreferrer\" target=\"_blank\" title=\"Reddit\">Reddit</a>,\n",
       " <a class=\"conde-nast-brand\" data-reactid=\"359\" data-track-location=\"footer\" data-track-source=\"navigation\" href=\"http://www.self.com\" rel=\"noopener noreferrer\" target=\"_blank\" title=\"Self\">Self</a>,\n",
       " <a class=\"conde-nast-brand\" data-reactid=\"361\" data-track-location=\"footer\" data-track-source=\"navigation\" href=\"http://www.style.com\" rel=\"noopener noreferrer\" target=\"_blank\" title=\"Style\">Style</a>,\n",
       " <a class=\"conde-nast-brand\" data-reactid=\"363\" data-track-location=\"footer\" data-track-source=\"navigation\" href=\"http://www.teenvogue.com\" rel=\"noopener noreferrer\" target=\"_blank\" title=\"Teen Vogue\">Teen Vogue</a>,\n",
       " <a class=\"conde-nast-brand\" data-reactid=\"365\" data-track-location=\"footer\" data-track-source=\"navigation\" href=\"http://www.newyorker.com\" rel=\"noopener noreferrer\" target=\"_blank\" title=\"The New Yorker\">The New Yorker</a>,\n",
       " <a class=\"conde-nast-brand\" data-reactid=\"367\" data-track-location=\"footer\" data-track-source=\"navigation\" href=\"http://thescene.com\" rel=\"noopener noreferrer\" target=\"_blank\" title=\"The Scene\">The Scene</a>,\n",
       " <a class=\"conde-nast-brand\" data-reactid=\"369\" data-track-location=\"footer\" data-track-source=\"navigation\" href=\"http://www.vanityfair.com\" rel=\"noopener noreferrer\" target=\"_blank\" title=\"Vanity Fair\">Vanity Fair</a>,\n",
       " <a class=\"conde-nast-brand\" data-reactid=\"371\" data-track-location=\"footer\" data-track-source=\"navigation\" href=\"http://www.vegaschatter.com\" rel=\"noopener noreferrer\" target=\"_blank\" title=\"Vegas Chatter\">Vegas Chatter</a>,\n",
       " <a class=\"conde-nast-brand\" data-reactid=\"373\" data-track-location=\"footer\" data-track-source=\"navigation\" href=\"http://www.vogue.com\" rel=\"noopener noreferrer\" target=\"_blank\" title=\"Vogue\">Vogue</a>,\n",
       " <a class=\"conde-nast-brand\" data-reactid=\"375\" data-track-location=\"footer\" data-track-source=\"navigation\" href=\"http://www.wmagazine.com\" rel=\"noopener noreferrer\" target=\"_blank\" title=\"W\">W</a>,\n",
       " <a class=\"conde-nast-brand\" data-reactid=\"377\" data-track-location=\"footer\" data-track-source=\"navigation\" href=\"http://www.wired.com\" rel=\"noopener noreferrer\" target=\"_blank\" title=\"Wired\">Wired</a>,\n",
       " <a class=\"conde-nast-service\" data-reactid=\"382\" data-track-location=\"footer\" data-track-source=\"navigation\" href=\"/services/subscriptions\" title=\"Subscription Services\">Subscription Services</a>,\n",
       " <a class=\"conde-nast-service\" data-reactid=\"384\" data-track-location=\"footer\" data-track-source=\"navigation\" href=\"http://www.condenast.com/careers\" rel=\"noopener noreferrer\" target=\"_blank\" title=\"Condé Nast Careers\">Careers</a>,\n",
       " <a class=\"conde-nast-service\" data-reactid=\"386\" data-track-location=\"footer\" data-track-source=\"navigation\" href=\"http://www.condenaststore.com/\" rel=\"noopener noreferrer\" target=\"_blank\" title=\"Condé Nast Store\">Condé Nast Store</a>,\n",
       " <a class=\"conde-nast-service\" data-reactid=\"388\" data-track-location=\"footer\" data-track-source=\"navigation\" href=\"http://www.condenast.com/reprints-permissions\" rel=\"noopener noreferrer\" target=\"_blank\" title=\"Reprints/Permissions\">Reprints/Permissions</a>,\n",
       " <a data-reactid=\"397\" data-track-location=\"footer\" data-track-source=\"navigation\" href=\"http://www.condenast.com/privacy-policy\" rel=\"noopener noreferrer\" target=\"_blank\" title=\"User Agreement\">User Agreement</a>,\n",
       " <a data-reactid=\"399\" data-track-location=\"footer\" data-track-source=\"navigation\" href=\"http://www.condenast.com/privacy-policy#privacypolicy\" rel=\"noopener noreferrer\" target=\"_blank\" title=\"Privacy Policy\">Privacy Policy and Cookie Statement</a>,\n",
       " <a data-reactid=\"402\" data-track-location=\"footer\" data-track-source=\"navigation\" href=\"http://www.condenast.com/privacy-policy#privacypolicy-california\" rel=\"noopener noreferrer\" target=\"_blank\" title=\"Your California Privacy Rights\">Your California Privacy Rights</a>,\n",
       " <a class=\"ad-choice\" data-reactid=\"404\" data-track-location=\"footer\" data-track-source=\"navigation\" href=\"http://www.condenast.com/online-behavioral-advertising-oba-and-how-to-opt-out-of-oba/#clickheretoreadmoreaboutonlinebehavioraladvertising(oba)\" rel=\"noopener noreferrer\" target=\"_blank\" title=\"Ad Choices\">Ad Choices</a>,\n",
       " <a data-parsely-site=\"epicurious.com\" href=\"https://parsely.com\" id=\"parsely-cfg\">Powered by the Parse.ly Publisher Platform (P3).</a>]"
      ]
     },
     "execution_count": 7,
     "metadata": {},
     "output_type": "execute_result"
    }
   ],
   "source": [
    "all_a_tags"
   ]
  },
  {
   "cell_type": "code",
   "execution_count": null,
   "metadata": {},
   "outputs": [],
   "source": []
  },
  {
   "cell_type": "markdown",
   "metadata": {},
   "source": [
    "<h4>find finds the first instance of a specified tag</h4>\n",
    "<h4>returns a bs4 element</h4>\n"
   ]
  },
  {
   "cell_type": "code",
   "execution_count": 8,
   "metadata": {},
   "outputs": [
    {
     "name": "stdout",
     "output_type": "stream",
     "text": [
      "<div class=\"header-wrapper\" data-reactid=\"2\"><div class=\"header\" data-reactid=\"3\" role=\"banner\"><h2 data-reactid=\"4\" itemtype=\"https://schema.org/Organization\"><a data-reactid=\"5\" href=\"/\" itemprop=\"url\" title=\"Epicurious\">Epicurious</a></h2><div class=\"search-form-container\" data-reactid=\"6\"><form action=\"/search/\" autocomplete=\"off\" data-reactid=\"7\" method=\"get\" role=\"search\"><fieldset data-reactid=\"8\"><button class=\"submit\" data-reactid=\"9\" type=\"submit\">search</button><input autocomplete=\"off\" data-reactid=\"10\" maxlength=\"120\" name=\"terms\" placeholder=\"Find a Recipe\" type=\"text\" value=\"\"/><button class=\"filter mobile\" data-reactid=\"11\">filters</button><button class=\"filter tablet\" data-reactid=\"12\">filter results</button></fieldset></form><div class=\"ingredient-filters\" data-reactid=\"13\"><h3 data-reactid=\"14\">Include/Exclude Ingredients</h3><form class=\"include-ingredients\" data-reactid=\"15\"><fieldset data-reactid=\"16\"><input aria-label=\"Include ingredients\" data-reactid=\"17\" placeholder=\"Include ingredients:\" type=\"text\"/><button data-reactid=\"18\">include</button></fieldset></form><form class=\"exclude-ingredients\" data-reactid=\"19\"><fieldset data-reactid=\"20\"><input aria-label=\"Exclude ingredients\" data-reactid=\"21\" placeholder=\"Exclude ingredients:\" type=\"text\"/><button data-reactid=\"22\">exclude</button></fieldset></form></div><button class=\"filter ingredient-filter\" data-reactid=\"23\">include/exclude ingredients</button><div class=\"search-tags\" data-reactid=\"24\"><button class=\"clear-all\" data-reactid=\"25\">Clear all</button></div></div></div><div class=\"filters\" data-reactid=\"26\"><div data-reactid=\"27\"><!-- react-empty: 28 --><div class=\"filter-action-panel\" data-reactid=\"29\"><p data-reactid=\"30\"><!-- react-text: 31 -->41,773<!-- /react-text --><!-- react-text: 32 --> matching results<!-- /react-text --></p><button data-reactid=\"33\">Apply</button><button data-reactid=\"34\">Cancel</button></div></div></div></div>\n"
     ]
    }
   ],
   "source": [
    "div_tag = results_page.find('div')\n",
    "print(div_tag)"
   ]
  },
  {
   "cell_type": "code",
   "execution_count": 9,
   "metadata": {},
   "outputs": [
    {
     "data": {
      "text/plain": [
       "bs4.element.Tag"
      ]
     },
     "execution_count": 9,
     "metadata": {},
     "output_type": "execute_result"
    }
   ],
   "source": [
    "type(div_tag)"
   ]
  },
  {
   "cell_type": "markdown",
   "metadata": {},
   "source": [
    "<h4>bs4 functions can be recursively applied on elements</h4>"
   ]
  },
  {
   "cell_type": "code",
   "execution_count": 10,
   "metadata": {},
   "outputs": [
    {
     "data": {
      "text/plain": [
       "<a data-reactid=\"5\" href=\"/\" itemprop=\"url\" title=\"Epicurious\">Epicurious</a>"
      ]
     },
     "execution_count": 10,
     "metadata": {},
     "output_type": "execute_result"
    }
   ],
   "source": [
    "div_tag.find('a')"
   ]
  },
  {
   "cell_type": "markdown",
   "metadata": {},
   "source": [
    "<h4>Both find as well as find_all can be qualified by css selectors</h4>\n",
    "<li>using selector=value\n",
    "<li>using a dictionary"
   ]
  },
  {
   "cell_type": "markdown",
   "metadata": {},
   "source": [
    "<h4>Using selector=value</h4>"
   ]
  },
  {
   "cell_type": "code",
   "execution_count": 12,
   "metadata": {},
   "outputs": [
    {
     "data": {
      "text/plain": [
       "[]"
      ]
     },
     "execution_count": 12,
     "metadata": {},
     "output_type": "execute_result"
    }
   ],
   "source": [
    "#When using this method and looking for 'class' use 'class_' (because class is a reserved word in python)\n",
    "#Note that we get a list back because find_all returns a list\n",
    "results_page.find_all('article',class_=\"recipe-content-card\")"
   ]
  },
  {
   "cell_type": "markdown",
   "metadata": {},
   "source": [
    "<h4>Using selectors as key value pairs in a dictionary</h4>"
   ]
  },
  {
   "cell_type": "code",
   "execution_count": 13,
   "metadata": {},
   "outputs": [],
   "source": [
    "#Since we're using a string as the key, the fact that class is a reserved word is not a problem\n",
    "#We get an element back because find returns an element\n",
    "results_page.find('article',{'class':'recipe-content-card'})"
   ]
  },
  {
   "cell_type": "markdown",
   "metadata": {},
   "source": [
    "<h4>get_text() returns the marked up text (the content) enclosed in a tag.</h4>\n",
    "<li>returns a string"
   ]
  },
  {
   "cell_type": "code",
   "execution_count": 14,
   "metadata": {},
   "outputs": [
    {
     "ename": "AttributeError",
     "evalue": "'NoneType' object has no attribute 'get_text'",
     "output_type": "error",
     "traceback": [
      "\u001b[0;31m---------------------------------------------------------------------------\u001b[0m",
      "\u001b[0;31mAttributeError\u001b[0m                            Traceback (most recent call last)",
      "\u001b[0;32m<ipython-input-14-de0aef89b670>\u001b[0m in \u001b[0;36m<module>\u001b[0;34m()\u001b[0m\n\u001b[0;32m----> 1\u001b[0;31m \u001b[0mresults_page\u001b[0m\u001b[0;34m.\u001b[0m\u001b[0mfind\u001b[0m\u001b[0;34m(\u001b[0m\u001b[0;34m'article'\u001b[0m\u001b[0;34m,\u001b[0m\u001b[0;34m{\u001b[0m\u001b[0;34m'class'\u001b[0m\u001b[0;34m:\u001b[0m\u001b[0;34m'recipe-content-card'\u001b[0m\u001b[0;34m}\u001b[0m\u001b[0;34m)\u001b[0m\u001b[0;34m.\u001b[0m\u001b[0mget_text\u001b[0m\u001b[0;34m(\u001b[0m\u001b[0;34m)\u001b[0m\u001b[0;34m\u001b[0m\u001b[0m\n\u001b[0m",
      "\u001b[0;31mAttributeError\u001b[0m: 'NoneType' object has no attribute 'get_text'"
     ]
    }
   ],
   "source": [
    "results_page.find('article',{'class':'recipe-content-card'}).get_text()"
   ]
  },
  {
   "cell_type": "markdown",
   "metadata": {},
   "source": [
    "<h4>get returns the value of a tag attribute</h4>\n",
    "<li>returns a string"
   ]
  },
  {
   "cell_type": "code",
   "execution_count": 15,
   "metadata": {},
   "outputs": [
    {
     "ename": "AttributeError",
     "evalue": "'NoneType' object has no attribute 'find'",
     "output_type": "error",
     "traceback": [
      "\u001b[0;31m---------------------------------------------------------------------------\u001b[0m",
      "\u001b[0;31mAttributeError\u001b[0m                            Traceback (most recent call last)",
      "\u001b[0;32m<ipython-input-15-69dad78d72b4>\u001b[0m in \u001b[0;36m<module>\u001b[0;34m()\u001b[0m\n\u001b[1;32m      1\u001b[0m \u001b[0mrecipe_tag\u001b[0m \u001b[0;34m=\u001b[0m \u001b[0mresults_page\u001b[0m\u001b[0;34m.\u001b[0m\u001b[0mfind\u001b[0m\u001b[0;34m(\u001b[0m\u001b[0;34m'article'\u001b[0m\u001b[0;34m,\u001b[0m\u001b[0;34m{\u001b[0m\u001b[0;34m'class'\u001b[0m\u001b[0;34m:\u001b[0m\u001b[0;34m'recipe-content-card'\u001b[0m\u001b[0;34m}\u001b[0m\u001b[0;34m)\u001b[0m\u001b[0;34m\u001b[0m\u001b[0m\n\u001b[0;32m----> 2\u001b[0;31m \u001b[0mrecipe_link\u001b[0m \u001b[0;34m=\u001b[0m \u001b[0mrecipe_tag\u001b[0m\u001b[0;34m.\u001b[0m\u001b[0mfind\u001b[0m\u001b[0;34m(\u001b[0m\u001b[0;34m'a'\u001b[0m\u001b[0;34m)\u001b[0m\u001b[0;34m\u001b[0m\u001b[0m\n\u001b[0m\u001b[1;32m      3\u001b[0m \u001b[0mprint\u001b[0m\u001b[0;34m(\u001b[0m\u001b[0;34m\"a tag:\"\u001b[0m\u001b[0;34m,\u001b[0m\u001b[0mrecipe_link\u001b[0m\u001b[0;34m)\u001b[0m\u001b[0;34m\u001b[0m\u001b[0m\n\u001b[1;32m      4\u001b[0m \u001b[0mlink_url\u001b[0m \u001b[0;34m=\u001b[0m \u001b[0mrecipe_link\u001b[0m\u001b[0;34m.\u001b[0m\u001b[0mget\u001b[0m\u001b[0;34m(\u001b[0m\u001b[0;34m'href'\u001b[0m\u001b[0;34m)\u001b[0m\u001b[0;34m\u001b[0m\u001b[0m\n\u001b[1;32m      5\u001b[0m \u001b[0mprint\u001b[0m\u001b[0;34m(\u001b[0m\u001b[0;34m\"link url:\"\u001b[0m\u001b[0;34m,\u001b[0m\u001b[0mlink_url\u001b[0m\u001b[0;34m)\u001b[0m\u001b[0;34m\u001b[0m\u001b[0m\n",
      "\u001b[0;31mAttributeError\u001b[0m: 'NoneType' object has no attribute 'find'"
     ]
    }
   ],
   "source": [
    "recipe_tag = results_page.find('article',{'class':'recipe-content-card'})\n",
    "recipe_link = recipe_tag.find('a')\n",
    "print(\"a tag:\",recipe_link)\n",
    "link_url = recipe_link.get('href')\n",
    "print(\"link url:\",link_url)\n",
    "print(type(link_url))"
   ]
  },
  {
   "attachments": {
    "image.png": {
     "image/png": "[encoded data removed]"
    }
   },
   "cell_type": "markdown",
   "metadata": {},
   "source": [
    "<h2>Summary of bs4 functions</h2>\n",
    "\n",
    " ![image.png](attachment:image.png)"
   ]
  },
  {
   "cell_type": "markdown",
   "metadata": {},
   "source": [
    "<h1>A function that returns a list containing recipe names, recipe descriptions (if any) and recipe urls</h1>"
   ]
  },
  {
   "cell_type": "markdown",
   "metadata": {},
   "source": [
    "\n",
    "<li>We want to create a list of recipes and links to the recipes\n",
    "<li>We need to figure out how to ‘programmatically’ extract each recipe name and recipe link\n",
    "\n",
    "<li>Search for the tag with a unique attribute value that identifies recipes and recipe links\n",
    "<li>We’ll look at the a (annotate) tags because clickable links are in a tags"
   ]
  },
  {
   "cell_type": "code",
   "execution_count": 16,
   "metadata": {},
   "outputs": [
    {
     "name": "stdout",
     "output_type": "stream",
     "text": [
      "<article class=\"gallery-content-card\" data-has-quickview=\"false\" data-index=\"0\" data-reactid=\"67\" itemscope=\"\" itemtype=\"https://schema.org/CollectionPage\"><header class=\"summary\" data-reactid=\"68\"><strong class=\"tag\" data-reactid=\"69\">gallery</strong><h4 class=\"hed\" data-reactid=\"70\" data-truncate=\"3\" itemprop=\"name\"><a data-reactid=\"71\" href=\"/holidays-events/christmas-ham-and-holiday-pork-roast-recipes-gallery\">Our Best Christmas Hams and Pork Roasts</a></h4><p class=\"dek\" data-reactid=\"72\" data-truncate=\"1\">Because nothing says \"Happy Holidays\" better than a big, beautiful roast that you can slice into sandwich fixings for days on end.</p></header><a class=\"photo-link\" data-reactid=\"73\" href=\"/holidays-events/christmas-ham-and-holiday-pork-roast-recipes-gallery\"><div class=\"photo-wrap\" data-reactid=\"74\"><div class=\"component-lazy pending\" data-component=\"Lazy\" data-reactid=\"75\"></div></div></a><a class=\"view-complete-item\" data-reactid=\"76\" href=\"/holidays-events/christmas-ham-and-holiday-pork-roast-recipes-gallery\" itemprop=\"url\" title=\"Our Best Christmas Hams and Pork Roasts\"><!-- react-text: 77 -->View “<!-- /react-text --><!-- react-text: 78 -->Our Best Christmas Hams and Pork Roasts<!-- /react-text --><!-- react-text: 79 -->”<!-- /react-text --></a></article>\n",
      "<article class=\"article-content-card\" data-has-quickview=\"false\" data-index=\"1\" data-reactid=\"80\" itemscope=\"\" itemtype=\"https://schema.org/ItemPage\"><header class=\"summary\" data-reactid=\"81\"><strong class=\"tag\" data-reactid=\"82\">article</strong><h4 class=\"hed\" data-reactid=\"83\" data-truncate=\"3\" itemprop=\"name\"><a data-reactid=\"84\" href=\"/expert-advice/gifts-for-francophiles-article\">13 Food &amp; Cooking Gifts for Francophiles</a></h4><p class=\"dek\" data-reactid=\"85\" data-truncate=\"1\">Butter, chocolate, books, and more.</p></header><a class=\"photo-link\" data-reactid=\"86\" href=\"/expert-advice/gifts-for-francophiles-article\"><div class=\"photo-wrap\" data-reactid=\"87\"><div class=\"component-lazy pending\" data-component=\"Lazy\" data-reactid=\"88\"></div></div></a><a class=\"view-complete-item\" data-reactid=\"89\" href=\"/expert-advice/gifts-for-francophiles-article\" itemprop=\"url\" title=\"13 Food &amp; Cooking Gifts for Francophiles\"><!-- react-text: 90 -->View “<!-- /react-text --><!-- react-text: 91 -->13 Food &amp; Cooking Gifts for Francophiles<!-- /react-text --><!-- react-text: 92 -->”<!-- /react-text --></a></article>\n",
      "<article class=\"article-content-card\" data-has-quickview=\"false\" data-index=\"2\" data-reactid=\"93\" itemscope=\"\" itemtype=\"https://schema.org/ItemPage\"><header class=\"summary\" data-reactid=\"94\"><strong class=\"tag\" data-reactid=\"95\">article</strong><h4 class=\"hed\" data-reactid=\"96\" data-truncate=\"3\" itemprop=\"name\"><a data-reactid=\"97\" href=\"/recipes-menus/weekly-meal-plan-kid-friendly-filipino-pork-stew-and-tandoori-inspired-chicken-article\">Weekly Meal Plan: December 10–14</a></h4><p class=\"dek\" data-reactid=\"98\" data-truncate=\"1\">Featuring a comforting Filipino menudo, stuffed shells that are actually doable on a weeknight, and a kid-friendly tandoori.</p></header><a class=\"photo-link\" data-reactid=\"99\" href=\"/recipes-menus/weekly-meal-plan-kid-friendly-filipino-pork-stew-and-tandoori-inspired-chicken-article\"><div class=\"photo-wrap\" data-reactid=\"100\"><div class=\"component-lazy pending\" data-component=\"Lazy\" data-reactid=\"101\"></div></div></a><a class=\"view-complete-item\" data-reactid=\"102\" href=\"/recipes-menus/weekly-meal-plan-kid-friendly-filipino-pork-stew-and-tandoori-inspired-chicken-article\" itemprop=\"url\" title=\"Weekly Meal Plan: December 10–14\"><!-- react-text: 103 -->View “<!-- /react-text --><!-- react-text: 104 -->Weekly Meal Plan: December 10–14<!-- /react-text --><!-- react-text: 105 -->”<!-- /react-text --></a></article>\n",
      "<article class=\"gallery-content-card\" data-has-quickview=\"false\" data-index=\"3\" data-reactid=\"106\" itemscope=\"\" itemtype=\"https://schema.org/CollectionPage\"><header class=\"summary\" data-reactid=\"107\"><strong class=\"tag\" data-reactid=\"108\">gallery</strong><h4 class=\"hed\" data-reactid=\"109\" data-truncate=\"3\" itemprop=\"name\"><a data-reactid=\"110\" href=\"/holidays-events/festive-wintery-christmas-appetizer-recipes-gallery\">76 Festive, Wintery Appetizer Recipes</a></h4><p class=\"dek\" data-reactid=\"111\" data-truncate=\"1\">'Tis the season to eat lots of crudités, relish trays, and creamy cheeses in any form. These festive appetizers are sure to impress your holiday guests.</p></header><a class=\"photo-link\" data-reactid=\"112\" href=\"/holidays-events/festive-wintery-christmas-appetizer-recipes-gallery\"><div class=\"photo-wrap\" data-reactid=\"113\"><div class=\"component-lazy pending\" data-component=\"Lazy\" data-reactid=\"114\"></div></div></a><a class=\"view-complete-item\" data-reactid=\"115\" href=\"/holidays-events/festive-wintery-christmas-appetizer-recipes-gallery\" itemprop=\"url\" title=\"76 Festive, Wintery Appetizer Recipes\"><!-- react-text: 116 -->View “<!-- /react-text --><!-- react-text: 117 -->76 Festive, Wintery Appetizer Recipes<!-- /react-text --><!-- react-text: 118 -->”<!-- /react-text --></a></article>\n",
      "<article class=\"article-content-card\" data-has-quickview=\"false\" data-index=\"4\" data-reactid=\"119\" itemscope=\"\" itemtype=\"https://schema.org/ItemPage\"><header class=\"summary\" data-reactid=\"120\"><strong class=\"tag\" data-reactid=\"121\">article</strong><h4 class=\"hed\" data-reactid=\"122\" data-truncate=\"3\" itemprop=\"name\"><a data-reactid=\"123\" href=\"/expert-advice/stocking-stuffer-ideas-article\">8 Stocking Stuffer Ideas for Food Lovers</a></h4><p class=\"dek\" data-reactid=\"124\" data-truncate=\"1\">Including the best chocolate for cookies and the sea salt to top on every dish.</p></header><a class=\"photo-link\" data-reactid=\"125\" href=\"/expert-advice/stocking-stuffer-ideas-article\"><div class=\"photo-wrap\" data-reactid=\"126\"><div class=\"component-lazy pending\" data-component=\"Lazy\" data-reactid=\"127\"></div></div></a><a class=\"view-complete-item\" data-reactid=\"128\" href=\"/expert-advice/stocking-stuffer-ideas-article\" itemprop=\"url\" title=\"8 Stocking Stuffer Ideas for Food Lovers\"><!-- react-text: 129 -->View “<!-- /react-text --><!-- react-text: 130 -->8 Stocking Stuffer Ideas for Food Lovers<!-- /react-text --><!-- react-text: 131 -->”<!-- /react-text --></a></article>\n",
      "<article class=\"article-content-card\" data-has-quickview=\"false\" data-index=\"5\" data-reactid=\"132\" itemscope=\"\" itemtype=\"https://schema.org/ItemPage\"><header class=\"summary\" data-reactid=\"133\"><strong class=\"tag\" data-reactid=\"134\">article</strong><h4 class=\"hed\" data-reactid=\"135\" data-truncate=\"3\" itemprop=\"name\"><a data-reactid=\"136\" href=\"/expert-advice/the-best-cooking-gifts-for-kids-article\">The Best Cooking and Food Gifts for Kids</a></h4><p class=\"dek\" data-reactid=\"137\" data-truncate=\"1\">From broccoli-shaped teething toys for tots to a Mad Libs–themed cookbook for tweens, we've got all the gifts you need for kids who love to cook, eat, and experiment.</p></header><a class=\"photo-link\" data-reactid=\"138\" href=\"/expert-advice/the-best-cooking-gifts-for-kids-article\"><div class=\"photo-wrap\" data-reactid=\"139\"><div class=\"component-lazy pending\" data-component=\"Lazy\" data-reactid=\"140\"></div></div></a><a class=\"view-complete-item\" data-reactid=\"141\" href=\"/expert-advice/the-best-cooking-gifts-for-kids-article\" itemprop=\"url\" title=\"The Best Cooking and Food Gifts for Kids\"><!-- react-text: 142 -->View “<!-- /react-text --><!-- react-text: 143 -->The Best Cooking and Food Gifts for Kids<!-- /react-text --><!-- react-text: 144 -->”<!-- /react-text --></a></article>\n",
      "<article class=\"gallery-content-card\" data-has-quickview=\"false\" data-index=\"6\" data-reactid=\"145\" itemscope=\"\" itemtype=\"https://schema.org/CollectionPage\"><header class=\"summary\" data-reactid=\"146\"><strong class=\"tag\" data-reactid=\"147\">gallery</strong><h4 class=\"hed\" data-reactid=\"148\" data-truncate=\"3\" itemprop=\"name\"><a data-reactid=\"149\" href=\"/recipes-menus/what-to-cook-this-weekend-december-7-9-gallery\">What to Cook This Weekend: December 7–9</a></h4><p class=\"dek\" data-reactid=\"150\" data-truncate=\"1\">This weekend it's time to deep-dive into holiday baking and winter comfort food like hearty braises, soups, and stews.</p></header><a class=\"photo-link\" data-reactid=\"151\" href=\"/recipes-menus/what-to-cook-this-weekend-december-7-9-gallery\"><div class=\"photo-wrap\" data-reactid=\"152\"><div class=\"component-lazy pending\" data-component=\"Lazy\" data-reactid=\"153\"></div></div></a><a class=\"view-complete-item\" data-reactid=\"154\" href=\"/recipes-menus/what-to-cook-this-weekend-december-7-9-gallery\" itemprop=\"url\" title=\"What to Cook This Weekend: December 7–9\"><!-- react-text: 155 -->View “<!-- /react-text --><!-- react-text: 156 -->What to Cook This Weekend: December 7–9<!-- /react-text --><!-- react-text: 157 -->”<!-- /react-text --></a></article>\n",
      "<article class=\"article-content-card\" data-has-quickview=\"false\" data-index=\"7\" data-reactid=\"158\" itemscope=\"\" itemtype=\"https://schema.org/ItemPage\"><header class=\"summary\" data-reactid=\"159\"><strong class=\"tag\" data-reactid=\"160\">article</strong><h4 class=\"hed\" data-reactid=\"161\" data-truncate=\"3\" itemprop=\"name\"><a data-reactid=\"162\" href=\"/expert-advice/gifts-for-coffee-lovers-article\">10 Gifts for the Coffee Lovers in Your Life</a></h4><p class=\"dek\" data-reactid=\"163\" data-truncate=\"1\">Gift ideas for highly caffeinated people.</p></header><a class=\"photo-link\" data-reactid=\"164\" href=\"/expert-advice/gifts-for-coffee-lovers-article\"><div class=\"photo-wrap\" data-reactid=\"165\"><div class=\"component-lazy pending\" data-component=\"Lazy\" data-reactid=\"166\"></div></div></a><a class=\"view-complete-item\" data-reactid=\"167\" href=\"/expert-advice/gifts-for-coffee-lovers-article\" itemprop=\"url\" title=\"10 Gifts for the Coffee Lovers in Your Life\"><!-- react-text: 168 -->View “<!-- /react-text --><!-- react-text: 169 -->10 Gifts for the Coffee Lovers in Your Life<!-- /react-text --><!-- react-text: 170 -->”<!-- /react-text --></a></article>\n",
      "<article class=\"gallery-content-card\" data-has-quickview=\"false\" data-index=\"8\" data-reactid=\"171\" itemscope=\"\" itemtype=\"https://schema.org/CollectionPage\"><header class=\"summary\" data-reactid=\"172\"><strong class=\"tag\" data-reactid=\"173\">gallery</strong><h4 class=\"hed\" data-reactid=\"174\" data-truncate=\"3\" itemprop=\"name\"><a data-reactid=\"175\" href=\"/holidays-events/christmas-dinner-main-dish-recipes-gallery\">Our 43 Best Christmas Entrées</a></h4><p class=\"dek\" data-reactid=\"176\" data-truncate=\"1\">Set a festive mood with any of these impressive roasts and braises.</p></header><a class=\"photo-link\" data-reactid=\"177\" href=\"/holidays-events/christmas-dinner-main-dish-recipes-gallery\"><div class=\"photo-wrap\" data-reactid=\"178\"><div class=\"component-lazy pending\" data-component=\"Lazy\" data-reactid=\"179\"></div></div></a><a class=\"view-complete-item\" data-reactid=\"180\" href=\"/holidays-events/christmas-dinner-main-dish-recipes-gallery\" itemprop=\"url\" title=\"Our 43 Best Christmas Entrées\"><!-- react-text: 181 -->View “<!-- /react-text --><!-- react-text: 182 -->Our 43 Best Christmas Entrées<!-- /react-text --><!-- react-text: 183 -->”<!-- /react-text --></a></article>\n",
      "<article class=\"article-content-card\" data-has-quickview=\"false\" data-index=\"9\" data-reactid=\"184\" itemscope=\"\" itemtype=\"https://schema.org/ItemPage\"><header class=\"summary\" data-reactid=\"185\"><strong class=\"tag\" data-reactid=\"186\">article</strong><h4 class=\"hed\" data-reactid=\"187\" data-truncate=\"3\" itemprop=\"name\"><a data-reactid=\"188\" href=\"/about/our-favorite-gear-of-the-year-article\">The Best Products We Reviewed This Year</a></h4><p class=\"dek\" data-reactid=\"189\" data-truncate=\"1\">We tested tons of products this year—from straws to food processors to travel mugs and portable grills. Here are our absolute favorites for your holiday list.</p></header><a class=\"photo-link\" data-reactid=\"190\" href=\"/about/our-favorite-gear-of-the-year-article\"><div class=\"photo-wrap\" data-reactid=\"191\"><div class=\"component-lazy pending\" data-component=\"Lazy\" data-reactid=\"192\"></div></div></a><a class=\"view-complete-item\" data-reactid=\"193\" href=\"/about/our-favorite-gear-of-the-year-article\" itemprop=\"url\" title=\"The Best Products We Reviewed This Year\"><!-- react-text: 194 -->View “<!-- /react-text --><!-- react-text: 195 -->The Best Products We Reviewed This Year<!-- /react-text --><!-- react-text: 196 -->”<!-- /react-text --></a></article>\n",
      "<article class=\"article-content-card\" data-has-quickview=\"false\" data-index=\"10\" data-reactid=\"197\" itemscope=\"\" itemtype=\"https://schema.org/ItemPage\"><header class=\"summary\" data-reactid=\"198\"><strong class=\"tag\" data-reactid=\"199\">article</strong><h4 class=\"hed\" data-reactid=\"200\" data-truncate=\"3\" itemprop=\"name\"><a data-reactid=\"201\" href=\"/ingredients/our-favorite-foods-of-the-year-article\">Our Favorite Foods of the Year </a></h4><p class=\"dek\" data-reactid=\"202\" data-truncate=\"1\">Fill up the ideal shopping cart with the winners of our 2018 store-bought product taste tests.</p></header><a class=\"photo-link\" data-reactid=\"203\" href=\"/ingredients/our-favorite-foods-of-the-year-article\"><div class=\"photo-wrap\" data-reactid=\"204\"><div class=\"component-lazy pending\" data-component=\"Lazy\" data-reactid=\"205\"></div></div></a><a class=\"view-complete-item\" data-reactid=\"206\" href=\"/ingredients/our-favorite-foods-of-the-year-article\" itemprop=\"url\" title=\"Our Favorite Foods of the Year \"><!-- react-text: 207 -->View “<!-- /react-text --><!-- react-text: 208 -->Our Favorite Foods of the Year <!-- /react-text --><!-- react-text: 209 -->”<!-- /react-text --></a></article>\n",
      "<article class=\"gallery-content-card\" data-has-quickview=\"false\" data-index=\"11\" data-reactid=\"210\" itemscope=\"\" itemtype=\"https://schema.org/CollectionPage\"><header class=\"summary\" data-reactid=\"211\"><strong class=\"tag\" data-reactid=\"212\">gallery</strong><h4 class=\"hed\" data-reactid=\"213\" data-truncate=\"3\" itemprop=\"name\"><a data-reactid=\"214\" href=\"/recipes-menus/vegetarian-appetizer-and-hors-doeuvre-recipes-gallery\">Our Best Vegetarian Appetizers </a></h4><p class=\"dek\" data-reactid=\"215\" data-truncate=\"1\">You don't need meat to have a good time.</p></header><a class=\"photo-link\" data-reactid=\"216\" href=\"/recipes-menus/vegetarian-appetizer-and-hors-doeuvre-recipes-gallery\"><div class=\"photo-wrap\" data-reactid=\"217\"><div class=\"component-lazy pending\" data-component=\"Lazy\" data-reactid=\"218\"></div></div></a><a class=\"view-complete-item\" data-reactid=\"219\" href=\"/recipes-menus/vegetarian-appetizer-and-hors-doeuvre-recipes-gallery\" itemprop=\"url\" title=\"Our Best Vegetarian Appetizers \"><!-- react-text: 220 -->View “<!-- /react-text --><!-- react-text: 221 -->Our Best Vegetarian Appetizers <!-- /react-text --><!-- react-text: 222 -->”<!-- /react-text --></a></article>\n",
      "<article class=\"article-content-card\" data-has-quickview=\"false\" data-index=\"12\" data-reactid=\"223\" itemscope=\"\" itemtype=\"https://schema.org/ItemPage\"><header class=\"summary\" data-reactid=\"224\"><strong class=\"tag\" data-reactid=\"225\">article</strong><h4 class=\"hed\" data-reactid=\"226\" data-truncate=\"3\" itemprop=\"name\"><a data-reactid=\"227\" href=\"/expert-advice/tea-gifts-article\">The Best Gifts for Tea Lovers</a></h4><p class=\"dek\" data-reactid=\"228\" data-truncate=\"1\">Including two very cool kettles.</p></header><a class=\"photo-link\" data-reactid=\"229\" href=\"/expert-advice/tea-gifts-article\"><div class=\"photo-wrap\" data-reactid=\"230\"><div class=\"component-lazy pending\" data-component=\"Lazy\" data-reactid=\"231\"></div></div></a><a class=\"view-complete-item\" data-reactid=\"232\" href=\"/expert-advice/tea-gifts-article\" itemprop=\"url\" title=\"The Best Gifts for Tea Lovers\"><!-- react-text: 233 -->View “<!-- /react-text --><!-- react-text: 234 -->The Best Gifts for Tea Lovers<!-- /react-text --><!-- react-text: 235 -->”<!-- /react-text --></a></article>\n",
      "<article class=\"article-content-card\" data-has-quickview=\"false\" data-index=\"13\" data-reactid=\"236\" itemscope=\"\" itemtype=\"https://schema.org/ItemPage\"><header class=\"summary\" data-reactid=\"237\"><strong class=\"tag\" data-reactid=\"238\">article</strong><h4 class=\"hed\" data-reactid=\"239\" data-truncate=\"3\" itemprop=\"name\"><a data-reactid=\"240\" href=\"/holidays-events/the-best-cookbook-gifts-article\">The Best Cookbooks to Give as Gifts </a></h4><p class=\"dek\" data-reactid=\"241\" data-truncate=\"1\">There's no better gift than a collection of recipes from the pros.</p></header><a class=\"photo-link\" data-reactid=\"242\" href=\"/holidays-events/the-best-cookbook-gifts-article\"><div class=\"photo-wrap\" data-reactid=\"243\"><div class=\"component-lazy pending\" data-component=\"Lazy\" data-reactid=\"244\"></div></div></a><a class=\"view-complete-item\" data-reactid=\"245\" href=\"/holidays-events/the-best-cookbook-gifts-article\" itemprop=\"url\" title=\"The Best Cookbooks to Give as Gifts \"><!-- react-text: 246 -->View “<!-- /react-text --><!-- react-text: 247 -->The Best Cookbooks to Give as Gifts <!-- /react-text --><!-- react-text: 248 -->”<!-- /react-text --></a></article>\n",
      "<article class=\"gallery-content-card\" data-has-quickview=\"false\" data-index=\"14\" data-reactid=\"249\" itemscope=\"\" itemtype=\"https://schema.org/CollectionPage\"><header class=\"summary\" data-reactid=\"250\"><strong class=\"tag\" data-reactid=\"251\">gallery</strong><h4 class=\"hed\" data-reactid=\"252\" data-truncate=\"3\" itemprop=\"name\"><a data-reactid=\"253\" href=\"/expert-advice/side-dish-recipes-to-pair-with-ham-from-mac-and-cheese-to-green-beans-and-casseroles-gallery\">101 Side Dish Recipes to Pair With Ham</a></h4><p class=\"dek\" data-reactid=\"254\" data-truncate=\"1\">From mac and cheese to green beans and casseroles, these side dishes balance the richness of salty, amazing ham—and they might even steal the show.</p></header><a class=\"photo-link\" data-reactid=\"255\" href=\"/expert-advice/side-dish-recipes-to-pair-with-ham-from-mac-and-cheese-to-green-beans-and-casseroles-gallery\"><div class=\"photo-wrap\" data-reactid=\"256\"><div class=\"component-lazy pending\" data-component=\"Lazy\" data-reactid=\"257\"></div></div></a><a class=\"view-complete-item\" data-reactid=\"258\" href=\"/expert-advice/side-dish-recipes-to-pair-with-ham-from-mac-and-cheese-to-green-beans-and-casseroles-gallery\" itemprop=\"url\" title=\"101 Side Dish Recipes to Pair With Ham\"><!-- react-text: 259 -->View “<!-- /react-text --><!-- react-text: 260 -->101 Side Dish Recipes to Pair With Ham<!-- /react-text --><!-- react-text: 261 -->”<!-- /react-text --></a></article>\n",
      "<article class=\"article-content-card\" data-has-quickview=\"false\" data-index=\"15\" data-reactid=\"262\" itemscope=\"\" itemtype=\"https://schema.org/ItemPage\"><header class=\"summary\" data-reactid=\"263\"><strong class=\"tag\" data-reactid=\"264\">article</strong><h4 class=\"hed\" data-reactid=\"265\" data-truncate=\"3\" itemprop=\"name\"><a data-reactid=\"266\" href=\"/holidays-events/baking-gift-guide-article\">The Best Baking Gifts, According to an Expert</a></h4><p class=\"dek\" data-reactid=\"267\" data-truncate=\"1\">Help your loved ones master the art of pastry.</p></header><a class=\"photo-link\" data-reactid=\"268\" href=\"/holidays-events/baking-gift-guide-article\"><div class=\"photo-wrap\" data-reactid=\"269\"><div class=\"component-lazy pending\" data-component=\"Lazy\" data-reactid=\"270\"></div></div></a><a class=\"view-complete-item\" data-reactid=\"271\" href=\"/holidays-events/baking-gift-guide-article\" itemprop=\"url\" title=\"The Best Baking Gifts, According to an Expert\"><!-- react-text: 272 -->View “<!-- /react-text --><!-- react-text: 273 -->The Best Baking Gifts, According to an Expert<!-- /react-text --><!-- react-text: 274 -->”<!-- /react-text --></a></article>\n",
      "<article class=\"article-content-card\" data-has-quickview=\"false\" data-index=\"16\" data-reactid=\"275\" itemscope=\"\" itemtype=\"https://schema.org/ItemPage\"><header class=\"summary\" data-reactid=\"276\"><strong class=\"tag\" data-reactid=\"277\">article</strong><h4 class=\"hed\" data-reactid=\"278\" data-truncate=\"3\" itemprop=\"name\"><a data-reactid=\"279\" href=\"/expert-advice/cheese-photography-melt-stretch-and-sizzle-article\">The Hot and Saucy Photography of Melt, Stretch, &amp; Sizzle</a></h4><p class=\"dek\" data-reactid=\"280\" data-truncate=\"1\">Tia Keenan's book takes her relationship with cheese to the next level.</p></header><a class=\"photo-link\" data-reactid=\"281\" href=\"/expert-advice/cheese-photography-melt-stretch-and-sizzle-article\"><div class=\"photo-wrap\" data-reactid=\"282\"><div class=\"component-lazy pending\" data-component=\"Lazy\" data-reactid=\"283\"></div></div></a><a class=\"view-complete-item\" data-reactid=\"284\" href=\"/expert-advice/cheese-photography-melt-stretch-and-sizzle-article\" itemprop=\"url\" title=\"The Hot and Saucy Photography of Melt, Stretch, &amp; Sizzle\"><!-- react-text: 285 -->View “<!-- /react-text --><!-- react-text: 286 -->The Hot and Saucy Photography of Melt, Stretch, &amp; Sizzle<!-- /react-text --><!-- react-text: 287 -->”<!-- /react-text --></a></article>\n",
      "<article class=\"gallery-content-card\" data-has-quickview=\"false\" data-index=\"17\" data-reactid=\"288\" itemscope=\"\" itemtype=\"https://schema.org/CollectionPage\"><header class=\"summary\" data-reactid=\"289\"><strong class=\"tag\" data-reactid=\"290\">gallery</strong><h4 class=\"hed\" data-reactid=\"291\" data-truncate=\"3\" itemprop=\"name\"><a data-reactid=\"292\" href=\"/recipes-menus/italian-appetizer-recipes-gallery\">41 Italian Appetizer Recipes</a></h4><p class=\"dek\" data-reactid=\"293\" data-truncate=\"1\">From ricotta toasts and polenta bites to pasta e fagioli and sea bream crudo, here are all of our favorite Italian and Italian-inspired appetizer recipes.</p></header><a class=\"photo-link\" data-reactid=\"294\" href=\"/recipes-menus/italian-appetizer-recipes-gallery\"><div class=\"photo-wrap\" data-reactid=\"295\"><div class=\"component-lazy pending\" data-component=\"Lazy\" data-reactid=\"296\"></div></div></a><a class=\"view-complete-item\" data-reactid=\"297\" href=\"/recipes-menus/italian-appetizer-recipes-gallery\" itemprop=\"url\" title=\"41 Italian Appetizer Recipes\"><!-- react-text: 298 -->View “<!-- /react-text --><!-- react-text: 299 -->41 Italian Appetizer Recipes<!-- /react-text --><!-- react-text: 300 -->”<!-- /react-text --></a></article>\n",
      "<article class=\"legal-notice\" data-reactid=\"389\"><h4 class=\"title\" data-reactid=\"390\">Legal Notice</h4><p data-reactid=\"391\"><!-- react-text: 392 -->© <!-- /react-text --><!-- react-text: 393 -->2018<!-- /react-text --><!-- react-text: 394 --> Condé Nast. All rights reserved.<!-- /react-text --></p><p data-reactid=\"395\"><!-- react-text: 396 -->Use of and/or registration on any portion of this site constitutes acceptance of our <!-- /react-text --><a data-reactid=\"397\" data-track-location=\"footer\" data-track-source=\"navigation\" href=\"http://www.condenast.com/privacy-policy\" rel=\"noopener noreferrer\" target=\"_blank\" title=\"User Agreement\">User Agreement</a><!-- react-text: 398 --> (updated 5/25/18) and <!-- /react-text --><a data-reactid=\"399\" data-track-location=\"footer\" data-track-source=\"navigation\" href=\"http://www.condenast.com/privacy-policy#privacypolicy\" rel=\"noopener noreferrer\" target=\"_blank\" title=\"Privacy Policy\">Privacy Policy and Cookie Statement</a><!-- react-text: 400 --> (updated 5/25/18).<!-- /react-text --></p><p data-reactid=\"401\"><a data-reactid=\"402\" data-track-location=\"footer\" data-track-source=\"navigation\" href=\"http://www.condenast.com/privacy-policy#privacypolicy-california\" rel=\"noopener noreferrer\" target=\"_blank\" title=\"Your California Privacy Rights\">Your California Privacy Rights</a></p><p data-reactid=\"403\">The material on this site may not be reproduced, distributed, transmitted, cached or otherwise used, except with the prior written permission of Condé Nast.</p><a class=\"ad-choice\" data-reactid=\"404\" data-track-location=\"footer\" data-track-source=\"navigation\" href=\"http://www.condenast.com/online-behavioral-advertising-oba-and-how-to-opt-out-of-oba/#clickheretoreadmoreaboutonlinebehavioraladvertising(oba)\" rel=\"noopener noreferrer\" target=\"_blank\" title=\"Ad Choices\">Ad Choices</a></article>\n"
     ]
    }
   ],
   "source": [
    "for tag in results_page.find_all('article'):\n",
    "    print(tag)"
   ]
  },
  {
   "cell_type": "code",
   "execution_count": 17,
   "metadata": {},
   "outputs": [],
   "source": [
    "def get_recipes(keywords):\n",
    "    recipe_list = list()\n",
    "    import requests\n",
    "    from bs4 import BeautifulSoup\n",
    "    url = \"http://www.epicurious.com/search/\" + keywords\n",
    "    response = requests.get(url)\n",
    "    if not response.status_code == 200:\n",
    "        return None\n",
    "    try:\n",
    "        results_page = BeautifulSoup(response.content,'lxml')\n",
    "        recipes = results_page.find_all('article',class_=\"recipe-content-card\")\n",
    "        for recipe in recipes:\n",
    "            recipe_link = \"http://www.epicurious.com\" + recipe.find('a').get('href')\n",
    "            recipe_name = recipe.find('a').get_text()\n",
    "            try:\n",
    "                recipe_description = recipe.find('p',class_='dek').get_text()\n",
    "            except:\n",
    "                recipe_description = ''\n",
    "            recipe_list.append((recipe_name,recipe_link,recipe_description))\n",
    "        return recipe_list\n",
    "    except:\n",
    "        return None"
   ]
  },
  {
   "cell_type": "code",
   "execution_count": 18,
   "metadata": {},
   "outputs": [
    {
     "data": {
      "text/plain": [
       "[('Sunday Stash Braised Beef',\n",
       "  'http://www.epicurious.com/recipes/food/views/sunday-stash-braised-beef',\n",
       "  'This simple braise is a weeknight savior. Make a big batch and stash it in the fridge or freezer.'),\n",
       " ('Cold Beef Tenderloin with Tomatoes and Cucumbers',\n",
       "  'http://www.epicurious.com/recipes/food/views/cold-beef-tenderloin-with-tomatoes-and-cucumbers',\n",
       "  'Beef tenderloin is precious enough to baby on a two-zone grill: Sear it over high heat, then transfer it to the cooler side and turn it often to hit a perfect medium-rare.'),\n",
       " ('Instant Pot Beef and Sweet Potato Chili',\n",
       "  'http://www.epicurious.com/recipes/food/views/instant-pot-beef-and-sweet-potato-chili',\n",
       "  'Sweet potatoes almost melt as they cook under pressure in the Instant Pot, lending a silky texture and sweet flavor to this harissa-spiced chili.'),\n",
       " ('Beef Chili',\n",
       "  'http://www.epicurious.com/recipes/food/views/beef-chili',\n",
       "  'Skip that dusty bottle of chili powder. Instead, soak and purée whole dried chiles to stir into this authentic Texas beef stew.'),\n",
       " ('Spicy Dry-Fried Beef',\n",
       "  'http://www.epicurious.com/recipes/food/views/spicy-dry-fried-beef',\n",
       "  'This is a typical Sichuan technique for dry-frying beef. Unlike most meat stir-fries, the beef is not marinated; instead it is stir-fried immediately then cooked for a few minutes longer to intensify the beef flavors and to give give the meat a slightly chewy texture.'),\n",
       " ('Beef Sliders with Provolone and Balsamic Onions',\n",
       "  'http://www.epicurious.com/recipes/food/views/beef-sliders-with-provolone-and-balsamic-onions',\n",
       "  'Macerating red onions in balsamic vinegar with a big pinch of sugar helps soften the onions and sweetens them right up.'),\n",
       " ('Fried Meatballs with Tahini Sauce',\n",
       "  'http://www.epicurious.com/recipes/food/views/deep-fried-beef-and-millet-meatballs-with-tahini-sauce',\n",
       "  \"Be sure to roll the meatballs firmly into the millet so that the tiny grains don't fall off during frying.\"),\n",
       " ('Instant Pot Beef Barbacoa Tacos',\n",
       "  'http://www.epicurious.com/recipes/food/views/instant-pot-shredded-beef-barbacoa-tacos',\n",
       "  'Salty, spicy, and slightly tangy, this dish delivers flavor on multiple levels.'),\n",
       " ('Slow Cooker Corned Beef Brisket',\n",
       "  'http://www.epicurious.com/recipes/food/views/slow-cooker-corned-beef-brisket-with-cabbage-potatoes-and-dill-hugh-acheson',\n",
       "  'Corned beef is timeless and deserves a spot at the table, not just on St. Paddy’s Day. It is a crowd-pleaser that loves the low-and-slow ethos of the slow cooker, turning it tender without fail.'),\n",
       " ('Hummus Bowls with Spiced Beef and Tomatoes',\n",
       "  'http://www.epicurious.com/recipes/food/views/hummus-dinner-bowls-with-spiced-ground-beef-and-tomatoes',\n",
       "  'Top shallow bowls of hummus with crispy spiced beef and fresh tomato salad for an easy, protein-filled dinner.'),\n",
       " ('Beef Short Ribs Satay',\n",
       "  'http://www.epicurious.com/recipes/food/views/beef-short-ribs-satay-satay-kra-toog-ngua',\n",
       "  'Grilled medium or medium rare, the delicious meat pulls from the built-in skewer (aka the bones), and you salivate even more as you chew.'),\n",
       " ('Slow-Cooked Beef Brisket',\n",
       "  'http://www.epicurious.com/recipes/food/views/slow-cooked-beef-brisket-donna-hay',\n",
       "  'Use this basic recipe to make Pappardelle with Slow-Cooked Brisket.')]"
      ]
     },
     "execution_count": 18,
     "metadata": {},
     "output_type": "execute_result"
    }
   ],
   "source": [
    "get_recipes(\"beef\")"
   ]
  },
  {
   "cell_type": "code",
   "execution_count": 19,
   "metadata": {},
   "outputs": [
    {
     "data": {
      "text/plain": [
       "[('Quick-Pickled Charred Vegetables',\n",
       "  'http://www.epicurious.com/recipes/food/views/quick-pickled-charred-grilled-vegetables',\n",
       "  \"This technique is nothing short of amazing—even if you're finicky about your pickles.\"),\n",
       " ('Sweet Potato and Sage Pancakes',\n",
       "  'http://www.epicurious.com/recipes/food/views/sweet-potato-and-sage-pancakes',\n",
       "  'These wheat-free pancakes are sweetened with nothing but homemade, sugar-free applesauce.'),\n",
       " ('Jalapeño Poppers with Smoked Gouda',\n",
       "  'http://www.epicurious.com/recipes/food/views/jalapeno-poppers-with-smoked-gouda',\n",
       "  'The moderate heat of jalapeños is a perfect counterbalance to this rich filling, a combination of cream cheese and smoked Gouda. The results are nothing like the breaded, deep-fried apps you get in sports bars.'),\n",
       " ('Air Fryer BBQ Pork Ribs',\n",
       "  'http://www.epicurious.com/recipes/food/views/air-fryer-memphis-style-bbq-pork-ribs',\n",
       "  'In the air fryer, you can have tender, pull-apart ribs in a fraction of the traditional time. The spice rub ensures a crunchy, caramelized exterior “shell” as well, so there’s nothing missing here except the hefty barbecue grill and all the mess that comes along with it.')]"
      ]
     },
     "execution_count": 19,
     "metadata": {},
     "output_type": "execute_result"
    }
   ],
   "source": [
    "get_recipes('Nothing')"
   ]
  },
  {
   "cell_type": "markdown",
   "metadata": {},
   "source": [
    "<h2>Let's write a function that</h2>\n",
    "<h3>given a recipe link</h3>\n",
    "<h3>returns a dictionary containing the ingredients and preparation instructions</h3>"
   ]
  },
  {
   "cell_type": "code",
   "execution_count": 27,
   "metadata": {},
   "outputs": [],
   "source": [
    "recipe_link = \"http://www.epicurious.com\" + '/recipes/food/views/spicy-lemongrass-tofu-233844'"
   ]
  },
  {
   "cell_type": "code",
   "execution_count": 28,
   "metadata": {},
   "outputs": [],
   "source": [
    "def get_recipe_info(recipe_link):\n",
    "    recipe_dict = dict()\n",
    "    import requests\n",
    "    from bs4 import BeautifulSoup\n",
    "    try:\n",
    "        response = requests.get(recipe_link)\n",
    "        if not response.status_code == 200:\n",
    "            return recipe_dict\n",
    "        result_page = BeautifulSoup(response.content,'lxml')\n",
    "        ingredient_list = list()\n",
    "        prep_steps_list = list()\n",
    "        for ingredient in result_page.find_all('li',class_='ingredient'):\n",
    "            ingredient_list.append(ingredient.get_text())\n",
    "        for prep_step in result_page.find_all('li',class_='preparation-step'):\n",
    "            prep_steps_list.append(prep_step.get_text().strip())\n",
    "        recipe_dict['ingredients'] = ingredient_list\n",
    "        recipe_dict['preparation'] = prep_steps_list\n",
    "        return recipe_dict\n",
    "    except:\n",
    "        return recipe_dict\n",
    "        "
   ]
  },
  {
   "cell_type": "code",
   "execution_count": 29,
   "metadata": {},
   "outputs": [
    {
     "data": {
      "text/plain": [
       "{'ingredients': ['2 lemongrass stalks, outer layers peeled, bottom white part thinly sliced and finely chopped (about 1/4 cup)',\n",
       "  '1 1/2 tablespoons soy sauce',\n",
       "  '2 teaspoons chopped Thai bird chilies or another fresh chili',\n",
       "  '1/2 teaspoon dried chili flakes',\n",
       "  '1 teaspoon ground turmeric',\n",
       "  '2 teaspoons sugar',\n",
       "  '1/2 teaspoon salt',\n",
       "  '12 ounces tofu, drained, patted dry and cut into 3/4-inch cubes',\n",
       "  '4 tablespoons vegetable oil',\n",
       "  '1/2 yellow onion, cut into 1/8-inch slices',\n",
       "  '2 shallots, thinly sliced',\n",
       "  '1 teaspoon minced garlic',\n",
       "  '4 tablespoons chopped roasted peanuts',\n",
       "  '10 la lot, or pepper leaves, shredded, or 2/3 cup loosely packed Asian basil leaves'],\n",
       " 'preparation': ['1. Combine the lemongrass, soy sauce, chilies, chili flakes, turmeric, sugar and salt in a bowl. Add the tofu cubes and turn to coat them evenly. Marinate for 30 minutes.',\n",
       "  '2. Heat half of the oil in a 12-inch nonstick skillet over moderately high heat. Add the onion, shallot and garlic and stir until fragrant, about 1 minute. Reduce the heat to low and cook until the onions are soft, about 3 minutes. Transfer to a plate and keep warm.',\n",
       "  '3. Wipe the pan clean and heat the remaining oil over moderate heat. Add the tofu mixture and, using chopstick or wooden spoons, turn so it cooks evenly, about 4 to 5 minutes. Add the onion mixture and cook, uncovered, for another 2 to 3 minutes. Add half the peanuts and all the pepper leaves.',\n",
       "  '4. Remove from the heat and transfer to a serving plate. Garnish with the remaining peanuts and serve immediately with steamed rice.']}"
      ]
     },
     "execution_count": 29,
     "metadata": {},
     "output_type": "execute_result"
    }
   ],
   "source": [
    "get_recipe_info(recipe_link)"
   ]
  },
  {
   "cell_type": "markdown",
   "metadata": {},
   "source": [
    "<h2>Construct a list of dictionaries for all recipes</h2>"
   ]
  },
  {
   "cell_type": "code",
   "execution_count": 30,
   "metadata": {},
   "outputs": [],
   "source": [
    "def get_all_recipes(keywords):\n",
    "    results = list()\n",
    "    all_recipes = get_recipes(keywords)\n",
    "    for recipe in all_recipes:\n",
    "        recipe_dict = get_recipe_info(recipe[1])\n",
    "        recipe_dict['name'] = recipe[0]\n",
    "        recipe_dict['description'] = recipe[2]\n",
    "        results.append(recipe_dict)\n",
    "    return(results)"
   ]
  },
  {
   "cell_type": "code",
   "execution_count": 31,
   "metadata": {},
   "outputs": [
    {
     "data": {
      "text/plain": [
       "[{'ingredients': ['5 scallions',\n",
       "   '4 garlic cloves, finely grated',\n",
       "   '1 (2\") piece ginger, peeled, finely grated',\n",
       "   '1 Tbsp. virgin coconut oil or vegetable oil',\n",
       "   '2 Tbsp. Thai red curry paste',\n",
       "   '1 (14-oz.) package firm tofu, drained, broken into 1\" pieces',\n",
       "   '1 cup unsweetened coconut milk',\n",
       "   'Kosher salt',\n",
       "   '1 Tbsp. fresh lime juice',\n",
       "   '1 Fresno chile, thinly sliced (optional)',\n",
       "   '1 bunch collard greens, leaves halved lengthwise, ribs and stems removed, covered, chilled',\n",
       "   '1/2 cup cilantro leaves with tender stems',\n",
       "   '1/2 cup Dang Original coconut chips or toasted unsweetened coconut flakes',\n",
       "   'Lime wedges (for serving)'],\n",
       "  'preparation': ['Remove dark green tops from scallions and thinly slice on a diagonal. Place in a small bowl, cover with a damp paper towel, and chill until ready to serve. Thinly slice remaining white and pale green parts crosswise and place in another small bowl; add garlic and ginger. (Have scallion mixture, curry paste, tofu, and coconut milk near the stove and at the ready so you can work quickly.)',\n",
       "   'Heat oil in a large skillet over medium-high. Cook scallion mixture, stirring, until just beginning to brown, about 1 minute. Add curry paste and cook, stirring, until it begins to stick to pan, about 1 minute. Add tofu and coconut milk, season with salt, and bring to a simmer. Reduce heat to medium-low and simmer gently until sauce is almost completely evaporated and you can see the bottom of skillet, 5–7 minutes. Stir in lime juice.',\n",
       "   'Transfer tofu mixture to a platter and top with chile, if using. Arrange collard greens, cilantro, and reserved scallion tops on platter so that each component is visible and easily accessible. Place coconut chips in a small bowl and arrange lime wedges on a small plate.'],\n",
       "  'name': 'Curried Tofu Wraps',\n",
       "  'description': 'Store-bought curry pastes come in varying degrees of spiciness, even if their labels all say the same thing. If the cooked tofu isn’t as hot as you’d hoped, amp it up by tucking a slice or two of Fresno chile into your wrap.'},\n",
       " {'ingredients': ['1/4 cup plus 2 tablespoons reduced-sodium soy sauce',\n",
       "   '1 tablespoons light brown sugar',\n",
       "   '1 (12-ounce) package firm tofu, drained',\n",
       "   '3 scallions',\n",
       "   '12 shiitake mushrooms, rinsed, patted dry',\n",
       "   '2 (4x3-inch) pieces dried kombu',\n",
       "   '1 (3-inch) piece ginger, peeled, thinly sliced',\n",
       "   '4 garlic cloves',\n",
       "   '2 tablespoons vegetable oil',\n",
       "   'Kosher salt',\n",
       "   '4 baby bok choy (about 12 ounces total), halved lengthwise',\n",
       "   '2 medium carrots, peeled, thinly sliced into rounds',\n",
       "   '1 small radish, trimmed, thinly sliced into rounds',\n",
       "   'Toasted sesame oil (for serving)'],\n",
       "  'preparation': ['Stir 1/4 cup soy sauce and brown sugar in a medium bowl. Cut tofu into 1/2\"-thick slabs and then into squares. Pat dry with paper towels. Add tofu and toss to coat. Let sit, tossing occasionally, 20 minutes.',\n",
       "   'Meanwhile, remove green tops from scallions and very thinly slice; set aside. Coarsely chop white parts and place in a medium pot. Add mushrooms, kombu, ginger, garlic, and 8 cups water and bring to a simmer over medium-high. Reduce heat to low and cook 10 minutes. Remove from heat; discard kombu. Let dashi sit 20 minutes (this will coax more flavor from aromatics), then fish out and discard scallions, mushrooms, ginger, and garlic.',\n",
       "   'Heat vegetable oil in a large skillet, preferably nonstick, over medium-high. Cook tofu, working in batches if needed, until golden brown and crisp around edges, about 3 minutes per side. Transfer to paper towels to drain; season with salt.',\n",
       "   'While tofu is cooking, bring dashi to a boil. Add bok choy and carrots and cook until tender, about 3 minutes. Add remaining 2 Tbsp. soy sauce; taste and season with more salt if needed.',\n",
       "   'Ladle soup into bowls and add tofu, radishes, and reserved scallion tops; drizzle with sesame oil.',\n",
       "   'Dashi can be made 3 days ahead. Let cool; cover and chill, or freeze up to 3 months.'],\n",
       "  'name': 'Crispy Tofu in Shiitake Broth',\n",
       "  'description': 'Make a double or triple batch of the dashi and freeze in airtight containers to keep for making savory soups on the fly.'},\n",
       " {'ingredients': ['One (14- to 16- ounce) tub firm or extra- firm tofu (see Note)',\n",
       "   '1/4 cup reduced-sodium natural soy sauce',\n",
       "   '1/4 cup white wine, cooking sherry, vegetable broth, or water',\n",
       "   '1 tablespoon dark sesame oil',\n",
       "   '1 tablespoon agave nectar or other liquid sweetener',\n",
       "   '2 tablespoons rice vinegar or white wine vinegar',\n",
       "   '1 to 2 cloves garlic, crushed or minced (optional)',\n",
       "   '1 teaspoon grated fresh or jarred ginger, or more to taste',\n",
       "   'Fresh or dried thyme leaves (either regular or lemon thyme) or fresh or dried oregano leaves to taste (optional)'],\n",
       "  'preparation': ['Drain the tofu and cut into 8 slabs crosswise. Blot well between paper towels or clean kitchen towels (or use a tofu press). Cut each slab into strips.',\n",
       "   'Combine the remaining ingredients in a small bowl and whisk together. Arrange the tofu slices in a single layer in a shallow container or baking dish and pour enough marinade over them to cover. Let stand for an hour or two—the longer the better.',\n",
       "   'Shortly before you’d like to bake the tofu, preheat the oven to 400°F. If this is the only thing you’re making, use a toaster oven—it’s the perfect size. Remove the tofu slices from the marinade and transfer to a parchment-lined baking pan in a single layer. If you’re using the full-size oven, roast some veggies at the same time (I like to use the excess marinade to roast eggplant or green beans).',\n",
       "   'Bake for 20 minutes, then turn the strips and bake for 15 to 20 minutes longer, or until the tofu is firm and starting to turn light brown along the edges.',\n",
       "   'Add 1 teaspoon liquid smoke (or more to taste) to the marinade for a subtle smoky\\nflavor.',\n",
       "   'Instead of baking, cook these tofu slices on a grill. About 5 minutes per side should do—make sure there are nice grill marks on each side.'],\n",
       "  'name': 'Homemade Baked Tofu',\n",
       "  'description': 'Packaged baked tofu is tasty and not all that expensive, but homemade baked tofu is even better. The trick to this chewy, savory transformation of bland white tofu is to make sure it’s well pressed and to let it marinate for plenty of time.'},\n",
       " {'ingredients': ['1 (16 oz/450 g) brick medium-firm tofu',\n",
       "   '3/4 cup unsweetened nondairy milk',\n",
       "   '1/3 cup nutritional yeast',\n",
       "   '1/4 cup tapioca flour',\n",
       "   '1 teaspoon ground turmeric',\n",
       "   '1 teaspoon garlic powder',\n",
       "   '1 teaspoon onion powder',\n",
       "   '1 teaspoon sea salt',\n",
       "   '1/2 teaspoon ground pepper',\n",
       "   '2 tablespoons finely chopped chives',\n",
       "   '3 tablespoons vegan butter, for frying',\n",
       "   '5 English muffins, split in half',\n",
       "   '5 tablespoons vegan butter',\n",
       "   '5 vegan cheddar cheese slices',\n",
       "   'Cassava Bacon',\n",
       "   '2 vine tomatoes, sliced thick'],\n",
       "  'preparation': ['To make the vegan egg, drain the tofu of excess water. Place in a high-powered blender with the nondairy milk, nutritional yeast, tapioca flour, turmeric, garlic and onion powders, salt, and pepper. Blend on high until smooth. The batter should be the consistency of a thick pancake batter. Add a bit more nondairy milk if you need to thin it out. Stir in the chopped chives.',\n",
       "   'Heat a nonstick pan over medium heat and add a bit of vegan butter. Let it melt and spread it around the frying surface. Pour approximately 1/3 cup of the batter onto the pan and gently spread out to a 6-to 7-inch circle. Cook on the first side for 4 to 5 minutes; the patty should be bubbling and look slightly cooked through and darker in color before flipping. Flip and cook for another 4 to 5 minutes. Fold the patty in half and then in half again, so it looks like you’ve folded a thick crepe, and cook for another minute on each side to make sure that the middle is thoroughly cooked. Set each folded patty aside on a plate and cover to keep warm. Butter the pan before pouring the next 1/3 cup of batter into the pan. As you go, you might need to lower the heat or adjust cook times, as the pan will get hotter.',\n",
       "   'When you’re on your last egg patty, set the oven to broil and place the English muffins on a baking sheet. Generously butter each side of the muffins and place 1 piece of cheese on each of the bottom halves. Toast under the broiler for a couple of minutes until the cheese is melted and the muffins are golden brown. Watch closely so the muffins don’t burn!',\n",
       "   'Place the bacon strips in the pan once the egg patties are done just to heat through.',\n",
       "   'To assemble each sandwich, place an egg patty on top of the cheese, add a tomato slice and as many bacon strips as you want, and finish with the top half of the muffin. The patties can be made ahead and heated through in a pan or the oven or in a microwave before serving. You can also store extra batter in the fridge for up to 4 days.'],\n",
       "  'name': 'The Best Vegan Breakfast Sandwich',\n",
       "  'description': \"Now I know y'all get excited about fast-food breakfast sandwiches but the speedy prep always makes them look so lame! That, and they often lack quality ingredients, which makes them a total gut bomb. But now all your dreams are alive and they're layered together in this dreamy breakfast sandwich. It's so seductive you'll forget why you ever ate eggs in the first place.\"},\n",
       " {'ingredients': ['Vegetable oil (for grill)',\n",
       "   '2 serrano chiles',\n",
       "   '2 garlic cloves',\n",
       "   '1 cup cilantro leaves with tender stems',\n",
       "   '1/2 cup plain whole-milk Greek yogurt',\n",
       "   '1 Tbsp. extra-virgin olive oil',\n",
       "   '1 tsp. honey',\n",
       "   '2 (12-oz.) bone-in salmon steaks',\n",
       "   'Kosher salt'],\n",
       "  'preparation': ['Prepare a grill for medium-high heat; oil grate. Remove and discard seeds from 1 chile. Purée both chiles, garlic, cilantro, yogurt, oil, honey, and 1/4 cup water in a blender until smooth; season well with salt. Transfer half of sauce to a small bowl and set aside for serving.',\n",
       "   'Season salmon steaks lightly with salt. Grill, turning once or twice, until flesh is starting to turn opaque, about 4 minutes. Continue to grill, turning often and basting with remaining sauce, until opaque all the way through, about 4 minutes longer. Serve with reserved sauce alongside.'],\n",
       "  'name': 'Grilled Salmon Steaks with Cilantro Yogurt Sauce',\n",
       "  'description': 'This easy fish dinner is all about the tangy, bright green sauce. Make plenty, you’ll want to drizzle it over everything all week long.'},\n",
       " {'ingredients': ['2 cups uncooked brown rice (or your choice of grains)',\n",
       "   '2 tablespoons toasted sesame oil',\n",
       "   '1/2 large yellow onion, finely chopped',\n",
       "   '2 garlic cloves, finely minced',\n",
       "   '2 carrots, finely chopped',\n",
       "   '3 tablespoons reduced-sodium tamari soy sauce',\n",
       "   '3 green onions, finely sliced on the bias',\n",
       "   '1 tablespoon ground turmeric',\n",
       "   '1 cup (3/4-inch cubes) savory tofu',\n",
       "   '1 cup chopped kale or broccoli rabe',\n",
       "   'Gomashio, for topping (optional)'],\n",
       "  'preparation': ['In a medium saucepan, bring brown rice, or your choice of grain, plus the appropriate amount of water to a boil. Reduce to a simmer and cook for 25 to 30 minutes until tender. Drain any excess liquid, fluff with a fork, and set aside to cool.',\n",
       "   'In medium sauté pan, heat the oil over medium heat. Add the yellow onion and sauté for about 8 minutes, or until translucent. Add the garlic and cook until fragrant. Add the carrots and cook approximately 2 minutes.',\n",
       "   'Pour in the soy sauce and cook, stirring occasionally, until it begins to evaporate, about 2 minutes. Add half the green onions and stir-fry for another 3 minutes, or until thoroughly heated. Sprinkle in the turmeric. Add the cooked rice or grains and sauté until warmed through. Add the tofu and warm through. Add the finely chopped kale or broccoli rabe and stir to coat and quickly warm through. Top with the remaining green onions, sprinkle with some gomashio, if desired, and serve immediately.'],\n",
       "  'name': 'Turmeric-Kale Fried Rice',\n",
       "  'description': 'The simple addition of turmeric (or curry powder) instantly transforms plain old rice into a completely different dish.'},\n",
       " {'ingredients': ['1/4 cup low-sodium tamari or soy sauce',\n",
       "   '2 tablespoons maple syrup',\n",
       "   '1 tablespoon liquid smoke',\n",
       "   '1 teaspoon smoked paprika',\n",
       "   '1 cassava root',\n",
       "   '1 to 2 tablespoons vegetable oil, for frying'],\n",
       "  'preparation': ['Combine all of the marinade ingredients together in a bowl or wide dish with a whisk or fork.',\n",
       "   'Peel the tough brown waxy skin from the cassava and discard. Your cassava root should be firm and white, not gray or mushy. That is a sign of spoilage.',\n",
       "   'Using the peeler or a mandolin, shave off thin strips of cassava about 1 1/4 inches wide to resemble strip bacon.',\n",
       "   'Marinate the strips for 15 minutes.',\n",
       "   'Heat a nonstick pan over medium-low heat with a small amount of oil. When the pan is hot, place 4 or 5 strips into the pan. Cook for 3 to 4 minutes on the first side and 2 to 3 minutes after flipped. You may need to lower the heat so the pan doesn’t get too hot and burn the bacon. Once or twice while frying a batch, add a little bit of the excess marinade to help caramelize the bacon. Also add more oil to the pan before frying each batch.',\n",
       "   \"Remove the fried strips from the pan and set on a plate. Placing the strips on paper towels isn't advised, as they will stick.\",\n",
       "   'The bacon lasts up to 2 weeks stored in an airtight container at room temperature or in the fridge. Warm up leftover strips in the oven or in a pan on the stove before serving with recipes.'],\n",
       "  'name': 'Cassava Bacon',\n",
       "  'description': 'Serve this bacon as part of a vegan brunch feast, or pile onto English muffins with a tofu egg and toppings for the best breakfast sandwich ever.'},\n",
       " {'ingredients': ['20 ounces extra-firm tofu',\n",
       "   '2 tablespoons rice vinegar',\n",
       "   '2 tablespoons light miso',\n",
       "   '1 tablespoon low-sodium soy sauce',\n",
       "   '1 tablespoon tahini',\n",
       "   '1 tablespoon agave nectar',\n",
       "   '2 teaspoons mirin'],\n",
       "  'preparation': ['Drain the tofu and cut it into small cubes.',\n",
       "   'Place the remaining ingredients in a small bowl and whisk until smooth. Pour this over the tofu and toss to coat well. Let the tofu marinate for at least 30 minutes, tossing occasionally to make sure the tofu is well saturated.',\n",
       "   'Place the tofu cubes along with the marinade in a large nonstick sauté pan. Dry-fry the cubes for about 10 minutes, turning occasionally with a spatula to make sure the cubes are well browned on all sides.'],\n",
       "  'name': 'Marinated Sautéed Tofu',\n",
       "  'description': ''},\n",
       " {'ingredients': ['1 1/2 cups uncooked long- grain brown rice, such as brown basmati',\n",
       "   '1 cup light coconut milk (about half a 15-ounce can), or more as needed',\n",
       "   '1 tablespoon safflower or other high-heat oil or 3 tablespoons vegetable broth or water',\n",
       "   '1 large onion, preferably red, chopped',\n",
       "   '2 cups small broccoli florets',\n",
       "   '1 medium red or green bell pepper, diced',\n",
       "   '2 medium carrots, peeled and sliced',\n",
       "   '2 medium ripe fresh tomatoes, diced',\n",
       "   '2 cups fresh pineapple chunks (about 3/4 inch thick) or one 20-ounce can unsweetened pineapple chunks in juice, drained (reserve liquid for another use)',\n",
       "   '1 to 2 teaspoons good-quality curry powder',\n",
       "   '2 teaspoons minced fresh or jarred ginger, or more to taste',\n",
       "   'Salt to taste',\n",
       "   'Crushed red pepper flakes to taste',\n",
       "   'Crushed peanuts or cashews for topping (optional)'],\n",
       "  'preparation': ['Combine the rice with 2 cups water and the coconut milk in a saucepan. Bring to a rapid simmer, then cover and simmer gently until the water is absorbed, about 30 to 35 minutes.',\n",
       "   'Meanwhile, heat the oil in a stir- fry pan or a wide skillet. Add the onion and saute over medium heat until golden.',\n",
       "   'Add the broccoli, bell pepper, and carrots. Turn the heat up to medium-high and stir-fry for 3 to 4 minutes, or until the vegetables are just tender-crisp.',\n",
       "   'Add the tomatoes and pineapple chunks and continue to stir-fry for a minute or two, just until the tomatoes soften slightly.',\n",
       "   'Stir in the cooked rice, curry powder, and ginger. Stir gently until all the ingredients are completely combined. Since about half the can of coconut milk is remaining, if you’d like the mixture to be a bit more moist, add 1/4 cup or so more, but take care not to make the mixture soupy.',\n",
       "   'Season with salt and red pepper flakes. Serve at once, passing around crushed nuts to top individual servings, if desired.'],\n",
       "  'name': 'Thai-Style Pineapple-Coconut Rice',\n",
       "  'description': 'Keep the accompaniments simple by serving with a platter of sliced baked tofu, cucumbers, tomatoes, and baby carrots.'},\n",
       " {'ingredients': ['4 tablespoons vegetable oil, divided, plus more for pan',\n",
       "   '1 French demi baguette (about 4 1/2 ounces), cut into 1/4\"cubes (about 3 cups)',\n",
       "   '1/2 cup raw pecans, coarsely chopped',\n",
       "   '1/2 medium onion, chopped',\n",
       "   '1 garlic clove, finely chopped',\n",
       "   '5 sprigs thyme',\n",
       "   '8 ounces crimini mushrooms, coarsely chopped',\n",
       "   '1 large celery stalk, sliced crosswise into 1/4\"-thick pieces (about 3/4 cup)',\n",
       "   '1 cup homemade vegetable stock or low-sodium vegetable broth',\n",
       "   '1/3 cup dry white wine',\n",
       "   '1 3/4 teaspoons kosher salt, divided',\n",
       "   '1 1/4 teaspoons freshly ground black pepper, divided',\n",
       "   '2 tablespoons soy sauce',\n",
       "   '1 tablespoon pure maple syrup',\n",
       "   '1/2 teaspoon smoked paprika',\n",
       "   '1/8 teaspoon cayenne pepper',\n",
       "   '3 (14-ounce) packages extra-firm tofu',\n",
       "   '3 tablespoons white miso paste',\n",
       "   '2 tablespoons cornstarch',\n",
       "   '1 teaspoon garlic powder',\n",
       "   '1 tablespoon chopped parsley',\n",
       "   '3 tablespoons vegetable oil, divided',\n",
       "   '12 ounces crimini mushrooms, coarsely chopped',\n",
       "   '2 shallots, quartered',\n",
       "   '1 garlic clove, crushed',\n",
       "   '5 sprigs thyme',\n",
       "   '2 fresh bay leaves',\n",
       "   '4 cups homemade vegetable stock or low-sodium vegetable broth',\n",
       "   '2 tablespoons all-purpose flour',\n",
       "   '1/2 cup dry white wine',\n",
       "   '1 tablespoon coarsely chopped parsley',\n",
       "   '1 1/2 teaspoons kosher salt, plus more',\n",
       "   '1/4 teaspoon freshly ground black pepper, plus more',\n",
       "   'A 1 1/2-quart oval loaf pan or 9x5\" loaf pan'],\n",
       "  'preparation': ['Preheat oven to 425°F. Grease oval pan with oil, then place a 12\" strip of parchment lengthwise down center of pan, leaving a 1\" overhang.',\n",
       "   'Arrange bread and pecans in a single layer on a rimmed baking tray and bake until bread is light golden brown and dry, about 8 minutes.',\n",
       "   'Heat 2 Tbsp. oil in a large skillet over medium. Cook onion, garlic, and thyme, stirring, until onion is translucent, about 3 minutes. Add mushrooms and cook until just beginning to brown, about 5 minutes. Add celery and cook, stirring often, until mushrooms are cooked through, about 3 minutes more. Transfer mixture to a large bowl; remove thyme sprigs. Add bread and pecans, toss to combine, and set aside.',\n",
       "   'Pour stock and wine into hot skillet and heat over medium-high, scraping up browned bits with a spoon; season with 1 tsp. salt and 1/2 tsp. black pepper. Cook, stirring, until just combined, about 1 minute. Pour over bread mixture, then toss to combine.',\n",
       "   'Whisk soy sauce, maple syrup, paprika, cayenne, 2 Tbsp. oil, and 1/2 tsp. salt in a medium bowl.',\n",
       "   'Break tofu into large chunks. Working in batches, break up tofu with your hands and press down into a towel-lined colander to drain as much water as possible. Bring ends of towel together, gathering tofu into the middle, and squeeze towel into a ball to expel as much water as possible. Transfer tofu to a food processor. Add miso, cornstarch, garlic powder, and remaining 2 tsp. salt and 1/2 tsp. black pepper. Blend until smooth, about 30 seconds.',\n",
       "   'Using an oiled spatula, line bottom and interior sides of prepared pan with two-thirds of the tofu mixture, pressing firmly to create compact 3/4\"-high walls. Spoon mushroom mixture into the center and press down firmly. Cover with remaining tofu mixture; smooth surface. (If you have leftover stuffing, bake remaining stuffing in a covered dish separately and serve as a side dish.) Using a pastry brush, brush top generously with soy-maple glaze.',\n",
       "   'Transfer pan to a rimmed baking sheet and bake tofurkey, brushing top with glaze halfway through, until loaf is set and lightly browned, about 30 minutes. Line another rimmed baking sheet with parchment and place over oval pan. Quickly but carefully invert pan to turn out tofurkey onto sheet, using parchment to gently remove from pan. Brush loaf all over with remaining glaze.',\n",
       "   'Heat broiler and broil until a light brown crust forms, 6–7 minutes. Cool at least 10 minutes. Top with parsley and serve with gravy alongside.',\n",
       "   'Heat 1 Tbsp. oil in a medium saucepan over medium-low until beginning to brown and smells fragrant, about 30 seconds. Cook mushrooms, shallot, garlic, thyme, and bay leaves, stirring occasionally, until mushrooms are tender and beginning to brown, about 5 minutes. Add stock, bring to a simmer, and cook, stirring occasionally, until reduced by half, about 30 minutes.',\n",
       "   'Strain mushroom mixture through a fine-mesh sieve into a large bowl; wipe out pot. Cook flour and remaining 2 Tbsp. oil in pot over medium heat, stirring constantly, until browned and thickened, 5–7 minutes.',\n",
       "   'Add wine, stir to combine, and cook 30 seconds. Whisk in mushroom broth, parsley, 1 1/2 tsp. salt, and 1/4 tsp. pepper and bring to a simmer over medium-low heat. Cook, stirring occasionally, until slightly reduced and thickened, about 10 minutes. Season with salt and pepper.',\n",
       "   'Stuffing can be made 1 day ahead; wrap tightly in plastic and chill. Gravy can be made 3 days ahead; transfer to an airtight container and chill. Heat in a small pot over medium, whisking constantly and adding warm water or stock 1 Tbsp. at a time if needed, until smooth, about 5 minutes.'],\n",
       "  'name': '“Tofurkey” with Mushroom Stuffing and Gravy',\n",
       "  'description': 'Set aside store-bought faux turkey roasts and place this stunner on your holiday table instead. The vegan loaf is packed with tons of flavor, thanks to miso-infused tofu, a pecan-mushroom stuffing, and a soy-maple glaze.'},\n",
       " {'ingredients': ['6 ounces shiitake mushrooms, stems removed, caps thinly sliced',\n",
       "   '1/3 cup sugar',\n",
       "   '1/2 cup plus 5 teaspoons soy sauce',\n",
       "   '1/2 cup plus 5 teaspoons unseasoned rice vinegar',\n",
       "   '1 1/2 cups short-grain brown or white sushi rice',\n",
       "   'Kosher salt',\n",
       "   '2 tablespoons dried wakame (seaweed)',\n",
       "   '5 teaspoons spicy black bean paste',\n",
       "   '1 tablespoon honey',\n",
       "   '1 1/2 teaspoons toasted sesame oil',\n",
       "   '1 (14-ounce) package firm tofu, drained, patted dry, cut into 3/4-inch pieces',\n",
       "   '3 scallions, thinly sliced on a diagonal',\n",
       "   '1/4 cup coarsely chopped unsalted, roasted, skin-on peanuts',\n",
       "   'Tobiko (for serving; optional)'],\n",
       "  'preparation': ['Bring mushrooms, sugar, 1/2 cup soy sauce, 1/2 cup vinegar, and 1 cup water to a simmer in a small saucepan over medium-high heat and cook, stirring occasionally, until sugar is dissolved, about 5 minutes. Transfer mushrooms to a medium bowl with a slotted spoon. Let brine cool, then pour over mushrooms. Cover and chill at least 1 hour.',\n",
       "   'Meanwhile, rinse rice until water runs clear (this removes surface starch and keeps rice from getting gummy). Combine rice and 2 cups water in a medium saucepan, season with salt, and let sit 30 minutes.',\n",
       "   'Bring rice to a boil. Reduce heat to low, cover, and cook until tender, 30–35 minutes (you can also use a rice cooker). Remove from heat and let sit, covered, 15 minutes; fluff with a fork. Keep warm.',\n",
       "   'Soak wakame in 1/2 cup cold water in a small bowl until softened, 6–8 minutes. Drain and mix in a clean small bowl with black bean paste, honey, oil, remaining 5 tsp. soy sauce, and remaining 5 tsp. vinegar. Add tofu to spicy black bean shoyu, season with salt, and gently toss. Let sit 10 minutes to let flavors meld. Taste and season with more salt if needed.',\n",
       "   'Divide rice among bowls and spoon tofu mixture on top of rice. Arrange drained pickled shiitake mushrooms, scallions, peanuts, and some tobiko, if using, around tofu mixture.',\n",
       "   'Mushrooms can be pickled 5 days ahead. Keep chilled.'],\n",
       "  'name': 'Spicy Tofu With Pickled Shiitake Mushrooms',\n",
       "  'description': 'How to prevent tofu from being bland? Toss it in a robust, spicy, salty, and deeply seasoned marinade.'}]"
      ]
     },
     "execution_count": 31,
     "metadata": {},
     "output_type": "execute_result"
    }
   ],
   "source": [
    "get_all_recipes(\"Tofu\")"
   ]
  },
  {
   "cell_type": "markdown",
   "metadata": {},
   "source": [
    "<h1>Logging in to a web server</h1>\n",
    "\n",
    "<li>Figure out the login url \n",
    "<li>https://en.wikipedia.org/w/index.php?title=Special:UserLogin&returnto=Main+Page\n",
    "<li>Look for the login form in the html source\n",
    "<li>form_tag = page_soup.find('form')\n",
    "<li>Look for ALL the inputs in the login form (some may be tricky!)\n",
    "<li>input_tags = form_tag.find_all('input')\n",
    "<li>Create a Python dict object with key,value pairs for each input\n",
    "<li>Use requests.session to create an open session object\n",
    "<li>Send the login request (POST)\n",
    "<li>Send followup requests keeping the sessions object open"
   ]
  },
  {
   "cell_type": "markdown",
   "metadata": {},
   "source": [
    "<h2>Get username and password</h2>\n",
    "<li>Best to store in a file for reuse\n",
    "<li>You will need to set up your own login and password and place them in a file called wikidata.txt\n",
    "<li>Line one of the file should contain your username\n",
    "<li>Line two your password"
   ]
  },
  {
   "cell_type": "code",
   "execution_count": 2,
   "metadata": {},
   "outputs": [
    {
     "ename": "FileNotFoundError",
     "evalue": "[Errno 2] No such file or directory: '/Users/ya/Desktop/WikiCredentials.txt'",
     "output_type": "error",
     "traceback": [
      "\u001b[0;31m---------------------------------------------------------------------------\u001b[0m",
      "\u001b[0;31mFileNotFoundError\u001b[0m                         Traceback (most recent call last)",
      "\u001b[0;32m<ipython-input-2-dd3dd3c697c3>\u001b[0m in \u001b[0;36m<module>\u001b[0;34m()\u001b[0m\n\u001b[0;32m----> 1\u001b[0;31m \u001b[0;32mwith\u001b[0m \u001b[0mopen\u001b[0m\u001b[0;34m(\u001b[0m\u001b[0;34m'/Users/ya/Desktop/WikiCredentials.txt'\u001b[0m\u001b[0;34m)\u001b[0m \u001b[0;32mas\u001b[0m \u001b[0mf\u001b[0m\u001b[0;34m:\u001b[0m\u001b[0;34m\u001b[0m\u001b[0m\n\u001b[0m\u001b[1;32m      2\u001b[0m     \u001b[0mcontents\u001b[0m \u001b[0;34m=\u001b[0m \u001b[0mf\u001b[0m\u001b[0;34m.\u001b[0m\u001b[0mread\u001b[0m\u001b[0;34m(\u001b[0m\u001b[0;34m)\u001b[0m\u001b[0;34m.\u001b[0m\u001b[0msplit\u001b[0m\u001b[0;34m(\u001b[0m\u001b[0;34m'\\n'\u001b[0m\u001b[0;34m)\u001b[0m\u001b[0;34m\u001b[0m\u001b[0m\n\u001b[1;32m      3\u001b[0m     \u001b[0musername\u001b[0m \u001b[0;34m=\u001b[0m \u001b[0mcontents\u001b[0m\u001b[0;34m[\u001b[0m\u001b[0;36m0\u001b[0m\u001b[0;34m]\u001b[0m\u001b[0;34m\u001b[0m\u001b[0m\n\u001b[1;32m      4\u001b[0m     \u001b[0mpassword\u001b[0m \u001b[0;34m=\u001b[0m \u001b[0mcontents\u001b[0m\u001b[0;34m[\u001b[0m\u001b[0;36m1\u001b[0m\u001b[0;34m]\u001b[0m\u001b[0;34m\u001b[0m\u001b[0m\n",
      "\u001b[0;31mFileNotFoundError\u001b[0m: [Errno 2] No such file or directory: '/Users/ya/Desktop/WikiCredentials.txt'"
     ]
    }
   ],
   "source": [
    "with open('/Users/ya/Desktop/WikiCredentials.txt') as f:\n",
    "    contents = f.read().split('\\n')\n",
    "    username = contents[0]\n",
    "    password = contents[1]\n"
   ]
  },
  {
   "cell_type": "markdown",
   "metadata": {},
   "source": [
    "<h3>Construct an object that contains the data to be sent to the login page</h3>"
   ]
  },
  {
   "cell_type": "code",
   "execution_count": 3,
   "metadata": {},
   "outputs": [
    {
     "ename": "NameError",
     "evalue": "name 'username' is not defined",
     "output_type": "error",
     "traceback": [
      "\u001b[0;31m---------------------------------------------------------------------------\u001b[0m",
      "\u001b[0;31mNameError\u001b[0m                                 Traceback (most recent call last)",
      "\u001b[0;32m<ipython-input-3-cee0350adce8>\u001b[0m in \u001b[0;36m<module>\u001b[0;34m()\u001b[0m\n\u001b[1;32m      1\u001b[0m \u001b[0;34m\u001b[0m\u001b[0m\n\u001b[1;32m      2\u001b[0m payload = {\n\u001b[0;32m----> 3\u001b[0;31m     \u001b[0;34m'wpName'\u001b[0m\u001b[0;34m:\u001b[0m \u001b[0musername\u001b[0m\u001b[0;34m,\u001b[0m\u001b[0;34m\u001b[0m\u001b[0m\n\u001b[0m\u001b[1;32m      4\u001b[0m     \u001b[0;34m'wpPassword'\u001b[0m\u001b[0;34m:\u001b[0m \u001b[0mpassword\u001b[0m\u001b[0;34m,\u001b[0m\u001b[0;34m\u001b[0m\u001b[0m\n\u001b[1;32m      5\u001b[0m     \u001b[0;34m'wploginattempt'\u001b[0m\u001b[0;34m:\u001b[0m \u001b[0;34m'Log in'\u001b[0m\u001b[0;34m,\u001b[0m\u001b[0;34m\u001b[0m\u001b[0m\n",
      "\u001b[0;31mNameError\u001b[0m: name 'username' is not defined"
     ]
    }
   ],
   "source": [
    "\n",
    "payload = {\n",
    "    'wpName': username,\n",
    "    'wpPassword': password,\n",
    "    'wploginattempt': 'Log in',\n",
    "    'wpEditToken': \"+\\\\\",\n",
    "    'title': \"Special:UserLogin\",\n",
    "    'authAction': \"login\",\n",
    "    'force': \"\",\n",
    "    'wpForceHttps': \"1\",\n",
    "    'wpFromhttp': \"1\",\n",
    "    #'wpLoginToken': ‘', #We need to read this from the page\n",
    "    }"
   ]
  },
  {
   "cell_type": "markdown",
   "metadata": {},
   "source": [
    "<h3>get the value of the login token</h3>"
   ]
  },
  {
   "cell_type": "code",
   "execution_count": 4,
   "metadata": {},
   "outputs": [],
   "source": [
    "def get_login_token(response):\n",
    "    soup = BeautifulSoup(response.text, 'lxml')\n",
    "    token = soup.find('input',{'name':\"wpLoginToken\"}).get('value')\n",
    "    return token\n"
   ]
  },
  {
   "cell_type": "markdown",
   "metadata": {},
   "source": [
    "<h3>Setup a session, login, and get data</h3>"
   ]
  },
  {
   "cell_type": "code",
   "execution_count": 5,
   "metadata": {},
   "outputs": [
    {
     "ename": "NameError",
     "evalue": "name 'payload' is not defined",
     "output_type": "error",
     "traceback": [
      "\u001b[0;31m---------------------------------------------------------------------------\u001b[0m",
      "\u001b[0;31mNameError\u001b[0m                                 Traceback (most recent call last)",
      "\u001b[0;32m<ipython-input-5-46035e974be1>\u001b[0m in \u001b[0;36m<module>\u001b[0;34m()\u001b[0m\n\u001b[1;32m      3\u001b[0m \u001b[0;32mwith\u001b[0m \u001b[0mrequests\u001b[0m\u001b[0;34m.\u001b[0m\u001b[0msession\u001b[0m\u001b[0;34m(\u001b[0m\u001b[0;34m)\u001b[0m \u001b[0;32mas\u001b[0m \u001b[0ms\u001b[0m\u001b[0;34m:\u001b[0m\u001b[0;34m\u001b[0m\u001b[0m\n\u001b[1;32m      4\u001b[0m     \u001b[0mresponse\u001b[0m \u001b[0;34m=\u001b[0m \u001b[0ms\u001b[0m\u001b[0;34m.\u001b[0m\u001b[0mget\u001b[0m\u001b[0;34m(\u001b[0m\u001b[0;34m'https://en.wikipedia.org/w/index.php?title=Special:UserLogin&returnto=Main+Page'\u001b[0m\u001b[0;34m)\u001b[0m\u001b[0;34m\u001b[0m\u001b[0m\n\u001b[0;32m----> 5\u001b[0;31m     \u001b[0mpayload\u001b[0m\u001b[0;34m[\u001b[0m\u001b[0;34m'wpLoginToken'\u001b[0m\u001b[0;34m]\u001b[0m \u001b[0;34m=\u001b[0m \u001b[0mget_login_token\u001b[0m\u001b[0;34m(\u001b[0m\u001b[0mresponse\u001b[0m\u001b[0;34m)\u001b[0m\u001b[0;34m\u001b[0m\u001b[0m\n\u001b[0m\u001b[1;32m      6\u001b[0m     \u001b[0;31m#Send the login request\u001b[0m\u001b[0;34m\u001b[0m\u001b[0;34m\u001b[0m\u001b[0m\n\u001b[1;32m      7\u001b[0m     response_post = s.post('https://en.wikipedia.org/w/index.php?title=Special:UserLogin&action=submitlogin&type=login',\n",
      "\u001b[0;31mNameError\u001b[0m: name 'payload' is not defined"
     ]
    }
   ],
   "source": [
    "import requests\n",
    "from bs4 import BeautifulSoup\n",
    "with requests.session() as s:\n",
    "    response = s.get('https://en.wikipedia.org/w/index.php?title=Special:UserLogin&returnto=Main+Page')\n",
    "    payload['wpLoginToken'] = get_login_token(response)\n",
    "    #Send the login request\n",
    "    response_post = s.post('https://en.wikipedia.org/w/index.php?title=Special:UserLogin&action=submitlogin&type=login',\n",
    "                           data=payload)\n",
    "    \n",
    "    #Get another page and check if we’re still logged in\n",
    "    #response = s.get('https://en.wikipedia.org/wiki/Special:Watchlist')\n",
    "    #data = BeautifulSoup(response.content,'lxml')\n",
    "    #print(data.find('div',class_='mw-changeslist').get_text())"
   ]
  },
  {
   "cell_type": "code",
   "execution_count": null,
   "metadata": {},
   "outputs": [],
   "source": [
    "print(response_post.content)"
   ]
  },
  {
   "cell_type": "code",
   "execution_count": null,
   "metadata": {},
   "outputs": [],
   "source": []
  }
 ],
 "metadata": {
  "kernelspec": {
   "display_name": "Python 3",
   "language": "python",
   "name": "python3"
  },
  "language_info": {
   "codemirror_mode": {
    "name": "ipython",
    "version": 3
   },
   "file_extension": ".py",
   "mimetype": "text/x-python",
   "name": "python",
   "nbconvert_exporter": "python",
   "pygments_lexer": "ipython3",
   "version": "3.6.5"
  }
 },
 "nbformat": 4,
 "nbformat_minor": 2
}
