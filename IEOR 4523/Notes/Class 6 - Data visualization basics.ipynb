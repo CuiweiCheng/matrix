{
 "cells": [
  {
   "cell_type": "markdown",
   "metadata": {},
   "source": [
    "<h1>Visualizing data using python</h1>\n",
    "<li><b>matplotlib</b>: basic python library for plots\n",
    "<li><b>seaborn</b>: built on matplotlib. provides a high level interface for graphs\n",
    "<li><b>geospatial maps</b>: interactive mapping. "
   ]
  },
  {
   "cell_type": "markdown",
   "metadata": {},
   "source": [
    "<h1>Data setup</h1>\n",
    "<li>Use our function to read the data file</li>"
   ]
  },
  {
   "cell_type": "code",
   "execution_count": null,
   "metadata": {},
   "outputs": [],
   "source": [
    "def read_311_data(datafile):\n",
    "    import pandas as pd\n",
    "    import numpy as np\n",
    "    \n",
    "    #Add the fix_zip function\n",
    "    def fix_zip(input_zip):\n",
    "        try:\n",
    "            input_zip = int(float(input_zip))\n",
    "        except:\n",
    "            try:\n",
    "                input_zip = int(input_zip.split('-')[0])\n",
    "            except:\n",
    "                return np.NaN\n",
    "        if input_zip < 10000 or input_zip > 19999:\n",
    "            return np.NaN\n",
    "        return str(input_zip)\n",
    "    \n",
    "    #Read the file\n",
    "    df = pd.read_csv(datafile,index_col='Unique Key')\n",
    "    \n",
    "    #fix the zip\n",
    "    df['Incident Zip'] = df['Incident Zip'].apply(fix_zip)\n",
    "    \n",
    "    #drop all rows that have any nans in them (note the easier syntax!)\n",
    "    \n",
    "    df = df.dropna(how='any')\n",
    "    \n",
    "    #get rid of unspecified boroughs\n",
    "    df = df[df['Borough'] != 'Unspecified']\n",
    "    \n",
    "    #Convert times to datetime and create a processing time column\n",
    "    \n",
    "    import datetime\n",
    "    df['Created Date'] = df['Created Date'].apply(lambda x:datetime.datetime.strptime(x,'%m/%d/%Y %I:%M:%S %p'))\n",
    "    df['Closed Date'] = df['Closed Date'].apply(lambda x:datetime.datetime.strptime(x,'%m/%d/%Y %I:%M:%S %p'))\n",
    "    df['processing_time'] =  df['Closed Date'] - df['Created Date']\n",
    "    \n",
    "    #Finally, get rid of negative processing times and return the final data frame\n",
    "    \n",
    "    df = df[df['processing_time']>=datetime.timedelta(0,0,0)]\n",
    "    \n",
    "    return df\n",
    "    "
   ]
  },
  {
   "cell_type": "code",
   "execution_count": null,
   "metadata": {},
   "outputs": [],
   "source": [
    "datafile = \"./Class 6 - nyc_311_data_subset_small.csv\"\n",
    "df = read_311_data(datafile)"
   ]
  },
  {
   "cell_type": "markdown",
   "metadata": {},
   "source": [
    "<h1>Quick visual: Heatmap on google maps</h1>\n",
    "<li>gmplot library\n",
    "<li>https://github.com/vgm64/gmplot"
   ]
  },
  {
   "cell_type": "code",
   "execution_count": null,
   "metadata": {},
   "outputs": [],
   "source": [
    "!pip install gmplot --upgrade"
   ]
  },
  {
   "cell_type": "markdown",
   "metadata": {},
   "source": [
    "<h4>Construct a heatmap showing the relative concentration of complaints in NYC</h4>\n",
    "<li>Add a point for each latitude and longitude pair\n",
    "<li>The color density increases as the concentration of points increases\n"
   ]
  },
  {
   "cell_type": "markdown",
   "metadata": {},
   "source": [
    "<h3>Set up the map</h3>\n",
    "<h4>GoogleMapPlotter constructor</h4>\n",
    "<ul>\n",
    "<li>Centers a google map at a location - Using latitude and longitude</b>: GoogleMapPlotter(center_lat, center_lng, zoom)\n"
   ]
  },
  {
   "cell_type": "code",
   "execution_count": null,
   "metadata": {},
   "outputs": [],
   "source": [
    "%matplotlib inline\n",
    "import gmplot\n",
    "gmap = gmplot.GoogleMapPlotter(40.7128, -74.0059, 10)"
   ]
  },
  {
   "cell_type": "markdown",
   "metadata": {},
   "source": [
    "<h3>Generate the heatmap using latitudes and longitudes</h3>"
   ]
  },
  {
   "cell_type": "code",
   "execution_count": null,
   "metadata": {},
   "outputs": [],
   "source": [
    "#Then generate a heatmap using the latitudes and longitudes\n",
    "gmap.heatmap(df['Latitude'], df['Longitude'])"
   ]
  },
  {
   "cell_type": "markdown",
   "metadata": {},
   "source": [
    "<h3>Save the heatmap to an html file</h3>\n",
    "<h4>The html file can be viewed, printed, or included in another html page</h4>\n",
    "<h4>Or loaded into a Jupyter notebook</h4>"
   ]
  },
  {
   "cell_type": "code",
   "execution_count": null,
   "metadata": {},
   "outputs": [],
   "source": [
    "gmap.draw('incidents3.html')"
   ]
  },
  {
   "cell_type": "code",
   "execution_count": null,
   "metadata": {},
   "outputs": [],
   "source": [
    "from IPython.display import IFrame\n",
    "IFrame(\"incidents3.html\", width=990, height=500)"
   ]
  },
  {
   "cell_type": "markdown",
   "metadata": {},
   "source": [
    "<li>heatmaps are easy!</li>"
   ]
  },
  {
   "cell_type": "markdown",
   "metadata": {},
   "source": [
    "<h2>Plots based on grouped data</h2>\n",
    "<li>Get imports and use matplotlib inline\n",
    "<li>We'll use seaborn style charts (more professional looking). But, you don't have to!"
   ]
  },
  {
   "cell_type": "code",
   "execution_count": null,
   "metadata": {},
   "outputs": [],
   "source": [
    "%matplotlib inline\n",
    "import matplotlib.pyplot as plt\n",
    "plt.style.use('seaborn')"
   ]
  },
  {
   "cell_type": "markdown",
   "metadata": {},
   "source": [
    "<h2>Incidents by Borough</h2>\n",
    "<li>Group data by borough\n",
    "<li>Plot the number of incidents by borough"
   ]
  },
  {
   "cell_type": "code",
   "execution_count": null,
   "metadata": {},
   "outputs": [],
   "source": [
    "borough_group = df.groupby('Borough')\n",
    "borough_group.size().plot(kind='bar')"
   ]
  },
  {
   "cell_type": "markdown",
   "metadata": {},
   "source": [
    "<h1>Incidents by Agency</h1>"
   ]
  },
  {
   "cell_type": "code",
   "execution_count": null,
   "metadata": {},
   "outputs": [],
   "source": [
    "agency_group = df.groupby('Agency')\n",
    "agency_group.size().plot(kind='bar')"
   ]
  },
  {
   "cell_type": "markdown",
   "metadata": {},
   "source": [
    "<h2>Let's combine the two in a single graph</h2>\n"
   ]
  },
  {
   "cell_type": "code",
   "execution_count": null,
   "metadata": {},
   "outputs": [],
   "source": [
    "agency_borough = df.groupby(['Agency','Borough'])\n",
    "agency_borough.size().plot(kind='bar')"
   ]
  },
  {
   "cell_type": "markdown",
   "metadata": {},
   "source": [
    "<h2>This is quite unreadable and pointless!</h2>"
   ]
  },
  {
   "cell_type": "markdown",
   "metadata": {},
   "source": [
    "<h3>We can unstack the groups so that we get borough by agency</h3>\n",
    "<li>Unstacking groups the data into a 2 level index\n",
    "<li>First agency, then borough"
   ]
  },
  {
   "cell_type": "code",
   "execution_count": null,
   "metadata": {},
   "outputs": [],
   "source": [
    "agency_borough.size() #.unstack()"
   ]
  },
  {
   "cell_type": "code",
   "execution_count": null,
   "metadata": {},
   "outputs": [],
   "source": [
    "agency_borough.size().unstack().plot(kind='bar')"
   ]
  },
  {
   "cell_type": "markdown",
   "metadata": {},
   "source": [
    "<h3>Increase the size of the image and add a title</h3>"
   ]
  },
  {
   "cell_type": "code",
   "execution_count": null,
   "metadata": {},
   "outputs": [],
   "source": [
    "agency_borough = df.groupby(['Agency','Borough'])\n",
    "agency_borough.size().unstack().plot(kind='bar',title=\"Incidents in each Agency by Borough\",figsize=(12,12))"
   ]
  },
  {
   "cell_type": "markdown",
   "metadata": {},
   "source": [
    "<h1>Incidents by time</h1>\n",
    "<p>We know the creation date of each incident so we can build a bar graph of number of incidents by month\n",
    "<p>Not particularly useful with a few months data but if we had all data from 2010, we could use this sort of\n",
    "analysis to eyeball trends and seasonality\n",
    "<p>We're going to need to do some data manipulation for this"
   ]
  },
  {
   "cell_type": "markdown",
   "metadata": {},
   "source": [
    "<h3>We'll start by creating a new date field yyyymm"
   ]
  },
  {
   "cell_type": "code",
   "execution_count": null,
   "metadata": {},
   "outputs": [],
   "source": [
    "import datetime\n",
    "df['yyyymm'] = df['Created Date'].apply(lambda x:datetime.datetime.strftime(x,'%Y%m'))"
   ]
  },
  {
   "cell_type": "code",
   "execution_count": null,
   "metadata": {},
   "outputs": [],
   "source": [
    "df['yyyymm'].unique()"
   ]
  },
  {
   "cell_type": "code",
   "execution_count": null,
   "metadata": {},
   "outputs": [],
   "source": [
    "date_agency = df.groupby(['yyyymm','Agency'])\n",
    "date_agency.size().unstack().plot(kind='bar',figsize=(12,12))"
   ]
  },
  {
   "cell_type": "markdown",
   "metadata": {},
   "source": [
    "<h2>We'll look at the frequency by agency and report the top 5 values</h2>"
   ]
  },
  {
   "cell_type": "code",
   "execution_count": null,
   "metadata": {},
   "outputs": [],
   "source": [
    "df.groupby('Agency').size().sort_values(ascending=False)"
   ]
  },
  {
   "cell_type": "code",
   "execution_count": null,
   "metadata": {},
   "outputs": [],
   "source": [
    "df.groupby('Agency').size().sort_values(ascending=False).plot(kind='bar', figsize=(20,4))\n",
    "#df.groupby('Agency').size().sort_values(ascending=False).head(5).plot(kind='bar', figsize=(20,4))"
   ]
  },
  {
   "cell_type": "markdown",
   "metadata": {},
   "source": [
    "<h3>We can drill down into complaints by Agency by borough</h3>"
   ]
  },
  {
   "cell_type": "code",
   "execution_count": null,
   "metadata": {},
   "outputs": [],
   "source": [
    "agency_borough = df.groupby(['Agency', 'Borough']).size().unstack()"
   ]
  },
  {
   "cell_type": "code",
   "execution_count": null,
   "metadata": {},
   "outputs": [],
   "source": [
    "agency_borough"
   ]
  },
  {
   "cell_type": "markdown",
   "metadata": {},
   "source": [
    "<h2>We can create 'top 5 Agency' subplots subplots for each borough</h2>"
   ]
  },
  {
   "cell_type": "markdown",
   "metadata": {},
   "source": [
    "<li>matplotlib.subplots returns a <span style=\"color:blue\">Figure</span> object and an <span style=\"color:blue\">axes</span> object\n",
    "<li>The figure object contains the entire figure\n",
    "<li>The axes object keeps track of the number of columns and number of rows\n"
   ]
  },
  {
   "cell_type": "markdown",
   "metadata": {},
   "source": [
    "<h3>Digression: items() and enumerate() that we'll use here</h3>\n",
    "<li>The python function <span style=\"color:blue\">items</span> returns a list of (key, value) pairs from a dictionary\n",
    "<li>The python function <span style=\"color:blue\">enumerate</span> returns an iterator over indexes and values"
   ]
  },
  {
   "cell_type": "markdown",
   "metadata": {},
   "source": [
    "<h4>items()</h4>"
   ]
  },
  {
   "cell_type": "code",
   "execution_count": null,
   "metadata": {
    "scrolled": true
   },
   "outputs": [],
   "source": [
    "things = {'phone':'iphone x','keys':['home','office'],'wallet':['cash','credit cards','ids']}\n",
    "for stuff in things.items():\n",
    "    print(stuff)"
   ]
  },
  {
   "cell_type": "markdown",
   "metadata": {},
   "source": [
    "<h4>enumerate()</h4>"
   ]
  },
  {
   "cell_type": "code",
   "execution_count": null,
   "metadata": {},
   "outputs": [],
   "source": [
    "presidents=[\"Carter\",\"Reagan\",\"Bush Sr.\",\"Clinton\",\"Bush Jr.\",\"Obama\",\"Trump\"]\n",
    "for thing in enumerate(presidents):\n",
    "    print(thing)"
   ]
  },
  {
   "cell_type": "markdown",
   "metadata": {},
   "source": [
    "<h4>Who was the president before Reagan?</h4>"
   ]
  },
  {
   "cell_type": "code",
   "execution_count": null,
   "metadata": {},
   "outputs": [],
   "source": [
    "for p in enumerate(presidents):\n",
    "    if p[1] == 'Reagan':\n",
    "        print(presidents[p[0]-1])"
   ]
  },
  {
   "cell_type": "code",
   "execution_count": null,
   "metadata": {},
   "outputs": [],
   "source": [
    "for index,name in enumerate(presidents):\n",
    "    if name == 'Reagan':\n",
    "        print(presidents[index-1])"
   ]
  },
  {
   "cell_type": "markdown",
   "metadata": {},
   "source": [
    "<h4>Back to groupby(['Agency', 'Borough'])</h4>\n",
    "<li>Dictionary with key = Borough and values = Series object with index = Agency and value = count"
   ]
  },
  {
   "cell_type": "code",
   "execution_count": null,
   "metadata": {},
   "outputs": [],
   "source": [
    "#Bronx is a key\n",
    "agency_borough['BRONX']"
   ]
  },
  {
   "cell_type": "markdown",
   "metadata": {},
   "source": [
    "<h4>.items() will return a list containing (borough, pandas.Series)</h4>"
   ]
  },
  {
   "cell_type": "code",
   "execution_count": null,
   "metadata": {},
   "outputs": [],
   "source": [
    "for item in agency_borough.items():\n",
    "    print(item[1])\n",
    "    break"
   ]
  },
  {
   "cell_type": "code",
   "execution_count": null,
   "metadata": {},
   "outputs": [],
   "source": [
    "for item in agency_borough.items():\n",
    "    print(item[1].loc['DCA'])"
   ]
  },
  {
   "cell_type": "markdown",
   "metadata": {},
   "source": [
    "<h4>for i, (label,col) in enumerate(agency_borough.items())</h4>\n",
    "<li>Will iterate through agency_boroughs returning:\n",
    "<ul>\n",
    "<li>the index i (0,1,2,3,4)\n",
    "<li>the label borough (BRONX, MANHATTAN, ...)\n",
    "<li>the pandas series data (count of each agency for the borough)"
   ]
  },
  {
   "cell_type": "code",
   "execution_count": null,
   "metadata": {},
   "outputs": [],
   "source": [
    "for i, (label,col) in enumerate(agency_borough.items()):\n",
    "    print(i,label)"
   ]
  },
  {
   "cell_type": "code",
   "execution_count": null,
   "metadata": {},
   "outputs": [],
   "source": [
    "#We'll arrange the subplots in three rows and two columns. \n",
    "#Since we have only 5 boroughs, one plot will be blank\n",
    "COL_NUM = 2\n",
    "ROW_NUM = 3\n",
    "import matplotlib.pyplot as plt\n",
    "fig, axes = plt.subplots(ROW_NUM, COL_NUM, figsize=(12,12))\n",
    "\n",
    "for i, (borough, agency_count) in enumerate(agency_borough.items()): \n",
    "    ax = axes[int(i/COL_NUM), i%COL_NUM]\n",
    "    agency_count = agency_count.sort_values(ascending=False)[:5] \n",
    "    agency_count.plot(kind='barh', ax=ax)\n",
    "    ax.set_title(borough)\n",
    "\n",
    "# FYI - plt.tight_layout()"
   ]
  },
  {
   "cell_type": "markdown",
   "metadata": {},
   "source": [
    "<h1>Processing time</h1>\n",
    "<li>We can compute simple statistics on processing time"
   ]
  },
  {
   "cell_type": "code",
   "execution_count": null,
   "metadata": {},
   "outputs": [],
   "source": [
    "grouped = df[['processing_time','Borough']].groupby('Borough')"
   ]
  },
  {
   "cell_type": "code",
   "execution_count": null,
   "metadata": {},
   "outputs": [],
   "source": [
    "grouped.describe()"
   ]
  },
  {
   "cell_type": "markdown",
   "metadata": {},
   "source": [
    "<h3>But it is easier to convert the timedelta processing_time into floats for calculation purposes</h3>\n",
    "<li>numpy uses a datetime64 datatype for times</li>\n",
    "<li>pandas uses its own timestamping format</li>"
   ]
  },
  {
   "cell_type": "code",
   "execution_count": null,
   "metadata": {},
   "outputs": [],
   "source": [
    "print(type(df['Created Date'].iloc[0]))\n",
    "print(type(df['processing_time'].iloc[0]))"
   ]
  },
  {
   "cell_type": "markdown",
   "metadata": {},
   "source": [
    "<h4>Converting a pandas timedelta to float</h4>\n",
    "<li>Since our time is in days, we'll divide each processing time by 1 Day and return a float version of the time"
   ]
  },
  {
   "cell_type": "code",
   "execution_count": null,
   "metadata": {},
   "outputs": [],
   "source": [
    "import numpy as np\n",
    "#The time it takes to process. Cleaned up\n",
    "df['float_time'] =df['processing_time'].apply(lambda x:x/np.timedelta64(1, 'D'))"
   ]
  },
  {
   "cell_type": "code",
   "execution_count": null,
   "metadata": {},
   "outputs": [],
   "source": [
    "df"
   ]
  },
  {
   "cell_type": "markdown",
   "metadata": {},
   "source": [
    "<h2>Group the data and compute statistics</h2>"
   ]
  },
  {
   "cell_type": "code",
   "execution_count": null,
   "metadata": {},
   "outputs": [],
   "source": [
    "grouped = df[['float_time','Agency']].groupby('Agency')\n",
    "grouped.mean().sort_values('float_time',ascending=False)"
   ]
  },
  {
   "cell_type": "code",
   "execution_count": null,
   "metadata": {},
   "outputs": [],
   "source": [
    "df['float_time'].hist(bins=50) # Default is 10 bins"
   ]
  },
  {
   "cell_type": "markdown",
   "metadata": {},
   "source": [
    "<h2>Visualizing distributions</h2>\n",
    "<li>Count incidents by time buckets\n",
    "<li>Graph it\n",
    "<li>Overlay a distribution curve"
   ]
  },
  {
   "cell_type": "markdown",
   "metadata": {},
   "source": [
    "<h2>Try this!</h2>\n",
    "<li>Create a new column 'hour of day' that buckets Created Date into 0..23\n",
    "<li>Then group the data by hour of day\n",
    "<li>Plot the size of the data by hour of day\n",
    "<li>Plot the mean processing time of the data by hour of day\n",
    "<li>Are there any hourly differences?"
   ]
  },
  {
   "cell_type": "markdown",
   "metadata": {},
   "source": [
    "<h4>Create a new \"hour of day\" column</h4>"
   ]
  },
  {
   "cell_type": "code",
   "execution_count": null,
   "metadata": {},
   "outputs": [],
   "source": [
    "df['hour of day'] = \n",
    "#plot size by hour of day"
   ]
  },
  {
   "cell_type": "code",
   "execution_count": null,
   "metadata": {},
   "outputs": [],
   "source": [
    "#plot average by hour of day"
   ]
  },
  {
   "cell_type": "markdown",
   "metadata": {},
   "source": [
    "<h2>Seaborn</h2>\n",
    "<li>A library for visualizing statistical functions\n",
    "<li>https://seaborn.pydata.org"
   ]
  },
  {
   "cell_type": "code",
   "execution_count": null,
   "metadata": {},
   "outputs": [],
   "source": [
    "import seaborn as sns\n",
    "sns.distplot(df['hour of day'])"
   ]
  },
  {
   "cell_type": "markdown",
   "metadata": {},
   "source": [
    "<h4>Looks like our \"complaints\" day runs from 5 am to 5am</h4>\n",
    "<li>Let's move the data by 5\n",
    "<li>And we'll superimpose a gamma (normal) curve on the data"
   ]
  },
  {
   "cell_type": "code",
   "execution_count": null,
   "metadata": {},
   "outputs": [],
   "source": [
    "from scipy import stats\n",
    "sns.distplot(df['hour of day'].apply(lambda x: x if x>3 else x+24),kde=True,fit=stats.gamma)"
   ]
  },
  {
   "cell_type": "markdown",
   "metadata": {
    "collapsed": true
   },
   "source": [
    "<h1>Other useful visualization libraries</h1>\n",
    "<h2>bokeh: http://bokeh.pydata.org/en/latest/</h2>\n",
    "<h2>plotly: https://plot.ly/</h2>\n",
    "<h2>highcharts: https://github.com/gtnx/pandas-highcharts</h2>"
   ]
  },
  {
   "cell_type": "code",
   "execution_count": null,
   "metadata": {},
   "outputs": [],
   "source": []
  }
 ],
 "metadata": {
  "anaconda-cloud": {},
  "kernelspec": {
   "display_name": "Python 3",
   "language": "python",
   "name": "python3"
  },
  "language_info": {
   "codemirror_mode": {
    "name": "ipython",
    "version": 3
   },
   "file_extension": ".py",
   "mimetype": "text/x-python",
   "name": "python",
   "nbconvert_exporter": "python",
   "pygments_lexer": "ipython3",
   "version": "3.6.4"
  }
 },
 "nbformat": 4,
 "nbformat_minor": 1
}
