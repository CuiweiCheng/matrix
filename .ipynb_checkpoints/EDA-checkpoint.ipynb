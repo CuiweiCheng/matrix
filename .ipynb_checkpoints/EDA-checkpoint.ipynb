{
 "cells": [
  {
   "cell_type": "raw",
   "metadata": {},
   "source": [
    "In this section, we are going to do the EDA with the Stock Prices\n",
    "\n",
    "Investigate the stock market by analyzing its daily, weekly, monthly and quaterly returns \n",
    "Select specify stock and analyze their return repectively by plotting k-line\n"
   ]
  },
  {
   "cell_type": "code",
   "execution_count": null,
   "metadata": {},
   "outputs": [],
   "source": [
    "import pandas as pd\n",
    "import numpy as np\n",
    "import datetime\n",
    "import matplotlib.pyplot as plt\n",
    "\n",
    "# We consider these variables: Open, close, High, Low and Moving Average\n"
   ]
  },
  {
   "cell_type": "code",
   "execution_count": null,
   "metadata": {},
   "outputs": [],
   "source": [
    "# read data\n",
    "df = pd.read_csv()\n",
    "\n",
    "# work with time series data\n",
    "start = datetime.datetime(2008,1,1) # can be personalized\n",
    "end = datetime.datetime.now()\n",
    "\n",
    "df.head()\n",
    "df.tail()\n",
    "df.info\n",
    "\n",
    "# handle missing data\n",
    "df.fillna(0)"
   ]
  },
  {
   "cell_type": "code",
   "execution_count": null,
   "metadata": {},
   "outputs": [],
   "source": [
    "# find the market average\n",
    "df.describe()\n",
    "\n",
    "# find the average of the closing price\n",
    "df2 = df.drop(columns=['Open','Low''High','Low','Moving Average'])\n",
    "df2['mean'] = df2.mean(axis=1)"
   ]
  },
  {
   "cell_type": "code",
   "execution_count": null,
   "metadata": {},
   "outputs": [],
   "source": [
    "# Plot the average of closing prices for the market\n",
    "df2['mean'].plot(grid=True)\n",
    "\n",
    "# Show the plot\n",
    "plt.show()\n"
   ]
  },
  {
   "cell_type": "code",
   "execution_count": null,
   "metadata": {},
   "outputs": [],
   "source": [
    "# Resample market to means, take the mean as value per mean\n",
    "monthly = df2.resample(\"M\").mean()\n",
    "\n",
    "# plot the montly return"
   ]
  },
  {
   "cell_type": "code",
   "execution_count": null,
   "metadata": {},
   "outputs": [],
   "source": [
    "# select specify stock and find their daily return\n",
    "# in this case, columns grouped by company name\n",
    "# need to check for the data \n",
    "\n",
    "stocks = ['AAPL', 'BAC', 'C', 'GS', 'JPM', 'MS', 'WFC'] # etc\n",
    "for one in stocks:\n",
    "    returns[one +' Return'] = df[one]['Close'].pct_change()\n",
    "\n",
    "returns.head()"
   ]
  },
  {
   "cell_type": "code",
   "execution_count": null,
   "metadata": {},
   "outputs": [],
   "source": [
    "# Create a pairplot using seaborn of the returns dataframe\n",
    "\n",
    "import seaborn as sns\n",
    "sns.pairplot(returns[1:])\n"
   ]
  },
  {
   "cell_type": "code",
   "execution_count": null,
   "metadata": {},
   "outputs": [],
   "source": [
    "# Create a distplot using seaborn of returns for specify company\n",
    "sns.distplot(returns.loc[start : end ]['AAPL Return'],color='blue',bins=100)\n"
   ]
  },
  {
   "cell_type": "code",
   "execution_count": null,
   "metadata": {},
   "outputs": [],
   "source": [
    "# Create a candle plot for specify company\n",
    "df['AAPL'][['Open', 'High', 'Low', 'Close']].loc[start:end].iplot(kind='candle')"
   ]
  },
  {
   "cell_type": "code",
   "execution_count": null,
   "metadata": {},
   "outputs": [],
   "source": []
  }
 ],
 "metadata": {
  "kernelspec": {
   "display_name": "Python 3",
   "language": "python",
   "name": "python3"
  },
  "language_info": {
   "codemirror_mode": {
    "name": "ipython",
    "version": 3
   },
   "file_extension": ".py",
   "mimetype": "text/x-python",
   "name": "python",
   "nbconvert_exporter": "python",
   "pygments_lexer": "ipython3",
   "version": "3.6.5"
  }
 },
 "nbformat": 4,
 "nbformat_minor": 2
}
